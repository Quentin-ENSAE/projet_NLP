{
 "cells": [
  {
   "cell_type": "code",
   "execution_count": 1,
   "metadata": {},
   "outputs": [],
   "source": [
    "%%capture\n",
    "!pip install multiversity\n",
    "\n",
    "from multiversity.multicare_dataset import MedicalDatasetCreator"
   ]
  },
  {
   "cell_type": "code",
   "execution_count": 2,
   "metadata": {},
   "outputs": [],
   "source": [
    "import os\n",
    "import pandas as pd"
   ]
  },
  {
   "cell_type": "markdown",
   "metadata": {},
   "source": [
    "# 1. Downloading the Whole MultiCaRe Dataset"
   ]
  },
  {
   "cell_type": "code",
   "execution_count": 3,
   "metadata": {},
   "outputs": [
    {
     "name": "stdout",
     "output_type": "stream",
     "text": [
      "Downloading the MultiCaRe Dataset from Zenodo. This may take approximately 5 minutes.\n",
      "Importing and pre-processing the main files.\n",
      "Done!\n"
     ]
    }
   ],
   "source": [
    "mdc = MedicalDatasetCreator(directory = 'medical_datasets')"
   ]
  },
  {
   "cell_type": "code",
   "execution_count": 4,
   "metadata": {},
   "outputs": [
    {
     "data": {
      "text/plain": [
       "['PMC1',\n",
       " 'PMC2',\n",
       " 'PMC3',\n",
       " 'PMC4',\n",
       " 'PMC5',\n",
       " 'PMC6',\n",
       " 'PMC7',\n",
       " 'PMC8',\n",
       " 'PMC9',\n",
       " 'abstracts.parquet',\n",
       " 'captions_and_labels.csv',\n",
       " 'case_images.parquet',\n",
       " 'cases.parquet',\n",
       " 'data_dictionary.csv',\n",
       " 'metadata.parquet']"
      ]
     },
     "execution_count": 4,
     "metadata": {},
     "output_type": "execute_result"
    }
   ],
   "source": [
    "sorted(os.listdir('medical_datasets/whole_multicare_dataset'))"
   ]
  },
  {
   "cell_type": "markdown",
   "metadata": {},
   "source": [
    "# 2. Reading of dataset"
   ]
  },
  {
   "cell_type": "code",
   "execution_count": 5,
   "metadata": {},
   "outputs": [
    {
     "data": {
      "text/html": [
       "<div>\n",
       "<style scoped>\n",
       "    .dataframe tbody tr th:only-of-type {\n",
       "        vertical-align: middle;\n",
       "    }\n",
       "\n",
       "    .dataframe tbody tr th {\n",
       "        vertical-align: top;\n",
       "    }\n",
       "\n",
       "    .dataframe thead th {\n",
       "        text-align: right;\n",
       "    }\n",
       "</style>\n",
       "<table border=\"1\" class=\"dataframe\">\n",
       "  <thead>\n",
       "    <tr style=\"text-align: right;\">\n",
       "      <th></th>\n",
       "      <th>file</th>\n",
       "      <th>field</th>\n",
       "      <th>explanation</th>\n",
       "    </tr>\n",
       "  </thead>\n",
       "  <tbody>\n",
       "    <tr>\n",
       "      <th>0</th>\n",
       "      <td>captions_and_labels.csv</td>\n",
       "      <td>file_id</td>\n",
       "      <td>Primary key for each row. Each row contains on...</td>\n",
       "    </tr>\n",
       "    <tr>\n",
       "      <th>1</th>\n",
       "      <td>captions_and_labels.csv</td>\n",
       "      <td>file</td>\n",
       "      <td>Name of the image file. The file path can be d...</td>\n",
       "    </tr>\n",
       "    <tr>\n",
       "      <th>2</th>\n",
       "      <td>captions_and_labels.csv</td>\n",
       "      <td>main_image</td>\n",
       "      <td>Id from the original image (it corresponds to ...</td>\n",
       "    </tr>\n",
       "    <tr>\n",
       "      <th>3</th>\n",
       "      <td>captions_and_labels.csv</td>\n",
       "      <td>image_component</td>\n",
       "      <td>It is 'undivided' if the source image was not ...</td>\n",
       "    </tr>\n",
       "    <tr>\n",
       "      <th>4</th>\n",
       "      <td>captions_and_labels.csv</td>\n",
       "      <td>patient_id</td>\n",
       "      <td>Id of the patient, created combining the PMC o...</td>\n",
       "    </tr>\n",
       "  </tbody>\n",
       "</table>\n",
       "</div>"
      ],
      "text/plain": [
       "                      file            field  \\\n",
       "0  captions_and_labels.csv          file_id   \n",
       "1  captions_and_labels.csv             file   \n",
       "2  captions_and_labels.csv       main_image   \n",
       "3  captions_and_labels.csv  image_component   \n",
       "4  captions_and_labels.csv       patient_id   \n",
       "\n",
       "                                         explanation  \n",
       "0  Primary key for each row. Each row contains on...  \n",
       "1  Name of the image file. The file path can be d...  \n",
       "2  Id from the original image (it corresponds to ...  \n",
       "3  It is 'undivided' if the source image was not ...  \n",
       "4  Id of the patient, created combining the PMC o...  "
      ]
     },
     "execution_count": 5,
     "metadata": {},
     "output_type": "execute_result"
    }
   ],
   "source": [
    "data_dictionary = pd.read_csv('medical_datasets/whole_multicare_dataset/data_dictionary.csv')\n",
    "\n",
    "data_dictionary.head()"
   ]
  },
  {
   "cell_type": "code",
   "execution_count": 6,
   "metadata": {},
   "outputs": [],
   "source": [
    "filters = [{'field': 'min_age', 'string_list': ['18']},\n",
    "           {'field': 'gender', 'string_list': ['Male']},\n",
    "           {'field': 'case_strings', 'string_list': ['tumor', 'cancer', 'carcinoma'], 'operator': 'any'},\n",
    "           {'field': 'caption', 'string_list': ['metastasis', 'tumor', 'mass'], 'operator': 'any'},\n",
    "           {'field': 'label', 'string_list': ['mri', 'head']}]"
   ]
  },
  {
   "cell_type": "code",
   "execution_count": 7,
   "metadata": {},
   "outputs": [
    {
     "name": "stdout",
     "output_type": "stream",
     "text": [
      "The male_brain_tumor_dataset was successfully created!\n"
     ]
    }
   ],
   "source": [
    "mdc.create_dataset(dataset_name = 'male_brain_tumor_dataset', filter_list = filters, dataset_type = 'multimodal')\n"
   ]
  },
  {
   "cell_type": "code",
   "execution_count": 8,
   "metadata": {},
   "outputs": [
    {
     "ename": "AttributeError",
     "evalue": "'MedicalDatasetCreator' object has no attribute 'describe'",
     "output_type": "error",
     "traceback": [
      "\u001b[0;31m---------------------------------------------------------------------------\u001b[0m",
      "\u001b[0;31mAttributeError\u001b[0m                            Traceback (most recent call last)",
      "Cell \u001b[0;32mIn[8], line 1\u001b[0m\n\u001b[0;32m----> 1\u001b[0m \u001b[43mmdc\u001b[49m\u001b[38;5;241;43m.\u001b[39;49m\u001b[43mdescribe\u001b[49m()\n",
      "\u001b[0;31mAttributeError\u001b[0m: 'MedicalDatasetCreator' object has no attribute 'describe'"
     ]
    }
   ],
   "source": [
    "mdc.describe()"
   ]
  }
 ],
 "metadata": {
  "kernelspec": {
   "display_name": "base",
   "language": "python",
   "name": "python3"
  },
  "language_info": {
   "codemirror_mode": {
    "name": "ipython",
    "version": 3
   },
   "file_extension": ".py",
   "mimetype": "text/x-python",
   "name": "python",
   "nbconvert_exporter": "python",
   "pygments_lexer": "ipython3",
   "version": "3.12.7"
  }
 },
 "nbformat": 4,
 "nbformat_minor": 2
}
