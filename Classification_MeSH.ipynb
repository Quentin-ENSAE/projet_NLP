{
 "cells": [
  {
   "cell_type": "markdown",
   "metadata": {},
   "source": [
    "# Classification Mesh \n",
    "\n",
    "\n",
    "Le MeSH (Medical Subject Headings) est un vocabulaire contrôlé utilisé pour organiser et indexer les articles médicaux. Il est structuré de manière hiérarchique en “arbres” (MeSH trees), où chaque concept est associé à un code unique appelé numéro d’arbre.\n",
    "\n",
    "“Catégorie principale des Maladies nutritionnelles et métaboliques” est ainsi associé au code C14, où “C” représente la catégorie des maladies et “14” spécifie le groupe des maladies nutritionnelles et métaboliques. Cette organisation facilite la navigation du général au spécifique, aidant ainsi les chercheurs à trouver des informations précises.\n",
    "\n",
    "Mais il est aussi d'être plus precis en selectionnant des maladies plus loin dans l'**arborescences**.\n",
    "\n",
    "Par le Diabete de type 1 correspond au code MeSH C18.452.394.750.124 qui se décompose comme suit :\n",
    "\n",
    "*   C : Catégorie des maladies\n",
    "*   C18 : Catégorie principale des Maladies nutritionnelles et métaboliques.\n",
    "*   C18.452 : Sous-catégorie des Maladies métaboliques.\n",
    "*   C18.452.394 : Sous-sous-catégorie des Troubles du métabolisme du glucose.\n",
    "*   C18.452.394.750 : Sous-sous-sous-catégorie du Diabète sucré.\n",
    "*   C18.452.394.750.124 : Terme spécifique pour le Diabète sucré de type 1.\n",
    "\n",
    "Cette hiérarchie reflète l’organisation des termes MeSH, permettant de situer chaque condition médicale dans un contexte plus large et de naviguer efficacement dans les informations médicales."
   ]
  },
  {
   "cell_type": "code",
   "execution_count": 1,
   "metadata": {},
   "outputs": [],
   "source": [
    "import pandas as pd\n",
    "import numpy as np"
   ]
  },
  {
   "cell_type": "code",
   "execution_count": 7,
   "metadata": {},
   "outputs": [
    {
     "name": "stdout",
     "output_type": "stream",
     "text": [
      "Hello from MeSH!\n"
     ]
    }
   ],
   "source": [
    "import sys\n",
    "import os\n",
    "\n",
    "# Ajouter le dossier courant au PATH si ce n'est pas déjà fait\n",
    "sys.path.append(os.path.abspath(\".\"))\n",
    "\n",
    "import MeSH\n",
    "print(MeSH.Hello())"
   ]
  },
  {
   "cell_type": "markdown",
   "metadata": {},
   "source": [
    "Le dictionnaire est disponible au format XML à cet [URL](https://nlmpubs.nlm.nih.gov/projects/mesh/MESH_FILES/xmlmesh/?_gl=1*1vhz8wv*_ga*MTkwNTMyNjEyOC4xNzM2Njg2Mzcy*_ga_7147EPK006*MTczNzEwNTQ1MS4xMi4xLjE3MzcxMDU4OTMuMC4wLjA.*_ga_P1FPTH9PL4*MTczNzEwNTQ1MS4xNC4xLjE3MzcxMDU4OTMuMC4wLjA)"
   ]
  },
  {
   "cell_type": "code",
   "execution_count": 3,
   "metadata": {},
   "outputs": [
    {
     "name": "stdout",
     "output_type": "stream",
     "text": [
      "Le fichier data/desc2025.xml existe déjà. Pas de téléchargement nécessaire.\n",
      "Fichier XML analysé avec succès : data/desc2025.xml\n"
     ]
    }
   ],
   "source": [
    "import xml.etree.ElementTree as ET\n",
    "import requests\n",
    "import os\n",
    "\n",
    "# URL et chemin local du fichier XML\n",
    "url_fichier = \"https://nlmpubs.nlm.nih.gov/projects/mesh/MESH_FILES/xmlmesh/desc2025.xml\"\n",
    "chemin_fichier = \"data/desc2025.xml\"  # Nom du fichier local\n",
    "\n",
    "# Vérifier si le fichier existe déjà\n",
    "if not os.path.exists(chemin_fichier):\n",
    "    try:\n",
    "        response = requests.get(url_fichier)\n",
    "        response.raise_for_status()  # Vérifie si la requête a réussi\n",
    "\n",
    "        with open(chemin_fichier, \"wb\") as fichier:\n",
    "            fichier.write(response.content)\n",
    "\n",
    "        print(f\"Fichier téléchargé avec succès : {chemin_fichier}\")\n",
    "    except requests.RequestException as e:\n",
    "        print(f\"Erreur lors du téléchargement du fichier XML : {e}\")\n",
    "        exit(1)  # Arrête l'exécution en cas d'échec\n",
    "else:\n",
    "    print(f\"Le fichier {chemin_fichier} existe déjà. Pas de téléchargement nécessaire.\")\n",
    "\n",
    "# Fonction pour analyser un fichier XML\n",
    "def analyser_xml(chemin):\n",
    "    try:\n",
    "        arbre = ET.parse(chemin)\n",
    "        racine = arbre.getroot()\n",
    "        print(f\"Fichier XML analysé avec succès : {chemin}\")\n",
    "        return racine\n",
    "    except ET.ParseError as e:\n",
    "        print(f\"Erreur lors de l'analyse du fichier XML : {e}\")\n",
    "    except FileNotFoundError:\n",
    "        print(f\"Le fichier spécifié est introuvable : {chemin}\")\n",
    "    except Exception as e:\n",
    "        print(f\"Une erreur inattendue s'est produite : {e}\")\n",
    "\n",
    "# Analyse du fichier téléchargé\n",
    "racine = analyser_xml(chemin_fichier)"
   ]
  },
  {
   "cell_type": "markdown",
   "metadata": {},
   "source": [
    "## Chargement données"
   ]
  },
  {
   "cell_type": "code",
   "execution_count": 4,
   "metadata": {},
   "outputs": [
    {
     "data": {
      "text/html": [
       "<div>\n",
       "<style scoped>\n",
       "    .dataframe tbody tr th:only-of-type {\n",
       "        vertical-align: middle;\n",
       "    }\n",
       "\n",
       "    .dataframe tbody tr th {\n",
       "        vertical-align: top;\n",
       "    }\n",
       "\n",
       "    .dataframe thead th {\n",
       "        text-align: right;\n",
       "    }\n",
       "</style>\n",
       "<table border=\"1\" class=\"dataframe\">\n",
       "  <thead>\n",
       "    <tr style=\"text-align: right;\">\n",
       "      <th></th>\n",
       "      <th>pmcid</th>\n",
       "      <th>title</th>\n",
       "      <th>gender</th>\n",
       "      <th>case_text</th>\n",
       "      <th>keywords</th>\n",
       "      <th>major_mesh_terms</th>\n",
       "      <th>mesh_terms</th>\n",
       "      <th>journal</th>\n",
       "      <th>doi</th>\n",
       "    </tr>\n",
       "  </thead>\n",
       "  <tbody>\n",
       "    <tr>\n",
       "      <th>0</th>\n",
       "      <td>PMC5287946</td>\n",
       "      <td>Malignant adenohypophysis spindle cell oncocyt...</td>\n",
       "      <td>Male</td>\n",
       "      <td>A 30-year-old man came to Peking Union Medical...</td>\n",
       "      <td>None</td>\n",
       "      <td>[Adenoma, Oxyphilic / pathology, Ki-67 Antigen...</td>\n",
       "      <td>[Adenoma, Oxyphilic / pathology, Ki-67 Antigen...</td>\n",
       "      <td>Medicine (Baltimore)</td>\n",
       "      <td>10.1097/MD.0000000000005657</td>\n",
       "    </tr>\n",
       "    <tr>\n",
       "      <th>1</th>\n",
       "      <td>PMC3678730</td>\n",
       "      <td>Misclassification of pregnancy-related deaths ...</td>\n",
       "      <td>Female</td>\n",
       "      <td>For each death, the DSS has systematically rec...</td>\n",
       "      <td>None</td>\n",
       "      <td>[Cause of Death, Data Collection / standards, ...</td>\n",
       "      <td>[Cause of Death, Data Collection / standards, ...</td>\n",
       "      <td>Trop Med Int Health</td>\n",
       "      <td>10.1111/tmi.12012</td>\n",
       "    </tr>\n",
       "    <tr>\n",
       "      <th>2</th>\n",
       "      <td>PMC7201103</td>\n",
       "      <td>Gender Differences in Patients With COVID-19: ...</td>\n",
       "      <td>Female</td>\n",
       "      <td>The demographic and clinical characteristics a...</td>\n",
       "      <td>[covid-19, sars, sars-cov-2, female, gender, m...</td>\n",
       "      <td>[COVID-19 / epidemiology, COVID-19 / mortality...</td>\n",
       "      <td>[COVID-19 / epidemiology, COVID-19 / mortality...</td>\n",
       "      <td>Front Public Health</td>\n",
       "      <td>10.3389/fpubh.2020.00152</td>\n",
       "    </tr>\n",
       "  </tbody>\n",
       "</table>\n",
       "</div>"
      ],
      "text/plain": [
       "        pmcid                                              title  gender  \\\n",
       "0  PMC5287946  Malignant adenohypophysis spindle cell oncocyt...    Male   \n",
       "1  PMC3678730  Misclassification of pregnancy-related deaths ...  Female   \n",
       "2  PMC7201103  Gender Differences in Patients With COVID-19: ...  Female   \n",
       "\n",
       "                                           case_text  \\\n",
       "0  A 30-year-old man came to Peking Union Medical...   \n",
       "1  For each death, the DSS has systematically rec...   \n",
       "2  The demographic and clinical characteristics a...   \n",
       "\n",
       "                                            keywords  \\\n",
       "0                                               None   \n",
       "1                                               None   \n",
       "2  [covid-19, sars, sars-cov-2, female, gender, m...   \n",
       "\n",
       "                                    major_mesh_terms  \\\n",
       "0  [Adenoma, Oxyphilic / pathology, Ki-67 Antigen...   \n",
       "1  [Cause of Death, Data Collection / standards, ...   \n",
       "2  [COVID-19 / epidemiology, COVID-19 / mortality...   \n",
       "\n",
       "                                          mesh_terms               journal  \\\n",
       "0  [Adenoma, Oxyphilic / pathology, Ki-67 Antigen...  Medicine (Baltimore)   \n",
       "1  [Cause of Death, Data Collection / standards, ...   Trop Med Int Health   \n",
       "2  [COVID-19 / epidemiology, COVID-19 / mortality...   Front Public Health   \n",
       "\n",
       "                           doi  \n",
       "0  10.1097/MD.0000000000005657  \n",
       "1            10.1111/tmi.12012  \n",
       "2     10.3389/fpubh.2020.00152  "
      ]
     },
     "execution_count": 4,
     "metadata": {},
     "output_type": "execute_result"
    }
   ],
   "source": [
    "df = pd.read_parquet('data/df_final')\n",
    "df.head(3)"
   ]
  },
  {
   "cell_type": "code",
   "execution_count": 14,
   "metadata": {},
   "outputs": [
    {
     "name": "stdout",
     "output_type": "stream",
     "text": [
      "<class 'numpy.ndarray'>\n",
      "<class 'dict'>\n",
      "{'therapy': {'Intracranial Arteriovenous Malformations', 'Arteriovenous Fistula'}, 'pathology': {'Cavernous Sinus', 'Carotid Artery, Internal'}, 'complications': {'Ehlers-Danlos Syndrome'}, 'methods': {'Embolization, Therapeutic', 'Endovascular Procedures'}}\n"
     ]
    }
   ],
   "source": [
    "print(type(df.major_mesh_terms[4]))\n",
    "print(type(MeSH.list_to_dict(df.major_mesh_terms[4])))\n",
    "print(MeSH.list_to_dict(df.major_mesh_terms[4]))"
   ]
  },
  {
   "cell_type": "code",
   "execution_count": 15,
   "metadata": {},
   "outputs": [
    {
     "data": {
      "text/html": [
       "<div>\n",
       "<style scoped>\n",
       "    .dataframe tbody tr th:only-of-type {\n",
       "        vertical-align: middle;\n",
       "    }\n",
       "\n",
       "    .dataframe tbody tr th {\n",
       "        vertical-align: top;\n",
       "    }\n",
       "\n",
       "    .dataframe thead th {\n",
       "        text-align: right;\n",
       "    }\n",
       "</style>\n",
       "<table border=\"1\" class=\"dataframe\">\n",
       "  <thead>\n",
       "    <tr style=\"text-align: right;\">\n",
       "      <th></th>\n",
       "      <th>pmcid</th>\n",
       "      <th>title</th>\n",
       "      <th>gender</th>\n",
       "      <th>case_text</th>\n",
       "      <th>keywords</th>\n",
       "      <th>major_mesh_terms</th>\n",
       "      <th>mesh_terms</th>\n",
       "      <th>journal</th>\n",
       "      <th>doi</th>\n",
       "      <th>dict_mesh</th>\n",
       "    </tr>\n",
       "  </thead>\n",
       "  <tbody>\n",
       "    <tr>\n",
       "      <th>0</th>\n",
       "      <td>PMC5287946</td>\n",
       "      <td>Malignant adenohypophysis spindle cell oncocyt...</td>\n",
       "      <td>Male</td>\n",
       "      <td>A 30-year-old man came to Peking Union Medical...</td>\n",
       "      <td>None</td>\n",
       "      <td>[Adenoma, Oxyphilic / pathology, Ki-67 Antigen...</td>\n",
       "      <td>[Adenoma, Oxyphilic / pathology, Ki-67 Antigen...</td>\n",
       "      <td>Medicine (Baltimore)</td>\n",
       "      <td>10.1097/MD.0000000000005657</td>\n",
       "      <td>{'pathology': {'Neoplasm Recurrence, Local', '...</td>\n",
       "    </tr>\n",
       "    <tr>\n",
       "      <th>1</th>\n",
       "      <td>PMC3678730</td>\n",
       "      <td>Misclassification of pregnancy-related deaths ...</td>\n",
       "      <td>Female</td>\n",
       "      <td>For each death, the DSS has systematically rec...</td>\n",
       "      <td>None</td>\n",
       "      <td>[Cause of Death, Data Collection / standards, ...</td>\n",
       "      <td>[Cause of Death, Data Collection / standards, ...</td>\n",
       "      <td>Trop Med Int Health</td>\n",
       "      <td>10.1111/tmi.12012</td>\n",
       "      <td>{'No Qualifier': {'Mortality', 'Maternal Morta...</td>\n",
       "    </tr>\n",
       "    <tr>\n",
       "      <th>2</th>\n",
       "      <td>PMC7201103</td>\n",
       "      <td>Gender Differences in Patients With COVID-19: ...</td>\n",
       "      <td>Female</td>\n",
       "      <td>The demographic and clinical characteristics a...</td>\n",
       "      <td>[covid-19, sars, sars-cov-2, female, gender, m...</td>\n",
       "      <td>[COVID-19 / epidemiology, COVID-19 / mortality...</td>\n",
       "      <td>[COVID-19 / epidemiology, COVID-19 / mortality...</td>\n",
       "      <td>Front Public Health</td>\n",
       "      <td>10.3389/fpubh.2020.00152</td>\n",
       "      <td>{'epidemiology': {'COVID-19', 'Severe Acute Re...</td>\n",
       "    </tr>\n",
       "    <tr>\n",
       "      <th>3</th>\n",
       "      <td>PMC4108191</td>\n",
       "      <td>Acute pulmonary embolism caused by enlarged ut...</td>\n",
       "      <td>Female</td>\n",
       "      <td>A 42-year-old, non-smoking, virgin woman prese...</td>\n",
       "      <td>[echocardiography, leiomyoma, pulmonary emboli...</td>\n",
       "      <td>[Pulmonary Embolism / etiology, Uterine Neopla...</td>\n",
       "      <td>[Pulmonary Embolism / etiology, Uterine Neopla...</td>\n",
       "      <td>Am J Case Rep</td>\n",
       "      <td>10.12659/AJCR.890607</td>\n",
       "      <td>{'etiology': {'Pulmonary Embolism'}, 'complica...</td>\n",
       "    </tr>\n",
       "    <tr>\n",
       "      <th>4</th>\n",
       "      <td>PMC4508704</td>\n",
       "      <td>Transvenous embolization for carotid-cavernous...</td>\n",
       "      <td>Female</td>\n",
       "      <td>The patient was a 37-year-old woman with a his...</td>\n",
       "      <td>None</td>\n",
       "      <td>[Arteriovenous Fistula / therapy, Carotid Arte...</td>\n",
       "      <td>[Arteriovenous Fistula / therapy, Carotid Arte...</td>\n",
       "      <td>Neurol Med Chir (Tokyo)</td>\n",
       "      <td>10.2176/nmc.cr.2013-0007</td>\n",
       "      <td>{'therapy': {'Intracranial Arteriovenous Malfo...</td>\n",
       "    </tr>\n",
       "  </tbody>\n",
       "</table>\n",
       "</div>"
      ],
      "text/plain": [
       "        pmcid                                              title  gender  \\\n",
       "0  PMC5287946  Malignant adenohypophysis spindle cell oncocyt...    Male   \n",
       "1  PMC3678730  Misclassification of pregnancy-related deaths ...  Female   \n",
       "2  PMC7201103  Gender Differences in Patients With COVID-19: ...  Female   \n",
       "3  PMC4108191  Acute pulmonary embolism caused by enlarged ut...  Female   \n",
       "4  PMC4508704  Transvenous embolization for carotid-cavernous...  Female   \n",
       "\n",
       "                                           case_text  \\\n",
       "0  A 30-year-old man came to Peking Union Medical...   \n",
       "1  For each death, the DSS has systematically rec...   \n",
       "2  The demographic and clinical characteristics a...   \n",
       "3  A 42-year-old, non-smoking, virgin woman prese...   \n",
       "4  The patient was a 37-year-old woman with a his...   \n",
       "\n",
       "                                            keywords  \\\n",
       "0                                               None   \n",
       "1                                               None   \n",
       "2  [covid-19, sars, sars-cov-2, female, gender, m...   \n",
       "3  [echocardiography, leiomyoma, pulmonary emboli...   \n",
       "4                                               None   \n",
       "\n",
       "                                    major_mesh_terms  \\\n",
       "0  [Adenoma, Oxyphilic / pathology, Ki-67 Antigen...   \n",
       "1  [Cause of Death, Data Collection / standards, ...   \n",
       "2  [COVID-19 / epidemiology, COVID-19 / mortality...   \n",
       "3  [Pulmonary Embolism / etiology, Uterine Neopla...   \n",
       "4  [Arteriovenous Fistula / therapy, Carotid Arte...   \n",
       "\n",
       "                                          mesh_terms                  journal  \\\n",
       "0  [Adenoma, Oxyphilic / pathology, Ki-67 Antigen...     Medicine (Baltimore)   \n",
       "1  [Cause of Death, Data Collection / standards, ...      Trop Med Int Health   \n",
       "2  [COVID-19 / epidemiology, COVID-19 / mortality...      Front Public Health   \n",
       "3  [Pulmonary Embolism / etiology, Uterine Neopla...            Am J Case Rep   \n",
       "4  [Arteriovenous Fistula / therapy, Carotid Arte...  Neurol Med Chir (Tokyo)   \n",
       "\n",
       "                           doi  \\\n",
       "0  10.1097/MD.0000000000005657   \n",
       "1            10.1111/tmi.12012   \n",
       "2     10.3389/fpubh.2020.00152   \n",
       "3         10.12659/AJCR.890607   \n",
       "4     10.2176/nmc.cr.2013-0007   \n",
       "\n",
       "                                           dict_mesh  \n",
       "0  {'pathology': {'Neoplasm Recurrence, Local', '...  \n",
       "1  {'No Qualifier': {'Mortality', 'Maternal Morta...  \n",
       "2  {'epidemiology': {'COVID-19', 'Severe Acute Re...  \n",
       "3  {'etiology': {'Pulmonary Embolism'}, 'complica...  \n",
       "4  {'therapy': {'Intracranial Arteriovenous Malfo...  "
      ]
     },
     "execution_count": 15,
     "metadata": {},
     "output_type": "execute_result"
    }
   ],
   "source": [
    "df['dict_mesh'] = df.major_mesh_terms.apply(MeSH.list_to_dict)\n",
    "df.head()"
   ]
  },
  {
   "cell_type": "code",
   "execution_count": 52,
   "metadata": {},
   "outputs": [
    {
     "name": "stdout",
     "output_type": "stream",
     "text": [
      "\n",
      "Qualificateur : therapy\n",
      "Intracranial Arteriovenous Malformations\n",
      "{'identifiant': 'D002538', 'nom': 'Intracranial Arteriovenous Malformations', 'numeros_mesh': ['C10.228.140.300.520', 'C10.500.190.500', 'C14.240.850.750.295', 'C14.240.850.875.500', 'C14.907.150.295', 'C14.907.253.560.400', 'C16.131.240.850.750.295', 'C16.131.240.850.875.500', 'C16.131.666.190.500']}\n",
      "Arteriovenous Fistula\n",
      "{'identifiant': 'D001164', 'nom': 'Arteriovenous Fistula', 'numeros_mesh': ['C14.240.850.750.147', 'C14.240.850.984.750', 'C14.907.150.125', 'C14.907.933.555', 'C16.131.240.850.750.125', 'C23.300.575.950.250']}\n",
      "\n",
      "Qualificateur : pathology\n",
      "Cavernous Sinus\n",
      "{'identifiant': 'D002426', 'nom': 'Cavernous Sinus', 'numeros_mesh': ['A07.015.908.224.334']}\n",
      "Carotid Artery, Internal\n",
      "{'identifiant': 'D002343', 'nom': 'Carotid Artery, Internal', 'numeros_mesh': ['A07.015.114.186.200.230']}\n",
      "\n",
      "Qualificateur : complications\n",
      "Ehlers-Danlos Syndrome\n",
      "{'identifiant': 'D004535', 'nom': 'Ehlers-Danlos Syndrome', 'numeros_mesh': ['C14.907.454.240', 'C15.378.463.515.240', 'C16.131.831.428', 'C16.320.850.260', 'C17.300.200.310', 'C17.800.804.428', 'C17.800.827.260']}\n",
      "\n",
      "Qualificateur : methods\n",
      "Embolization, Therapeutic\n",
      "{'identifiant': 'D004621', 'nom': 'Embolization, Therapeutic', 'numeros_mesh': ['E02.520.360', 'E02.926.500']}\n",
      "Endovascular Procedures\n",
      "{'identifiant': 'D057510', 'nom': 'Endovascular Procedures', 'numeros_mesh': ['E04.100.814.529', 'E04.502.382']}\n"
     ]
    }
   ],
   "source": [
    "i=4\n",
    "for key in df.dict_mesh[i].keys():\n",
    "    mesh_terms = df.dict_mesh[i][key]  # C'est un set\n",
    "    print(\"\\nQualificateur :\", key)\n",
    "\n",
    "    for term in mesh_terms:  # Itérer sur le set (même si 1 seul élément)\n",
    "        print(term)\n",
    "        print(MeSH.recherche_descripteur(racine, str(term)))"
   ]
  },
  {
   "cell_type": "code",
   "execution_count": 32,
   "metadata": {},
   "outputs": [
    {
     "data": {
      "text/plain": [
       "{'identifiant': 'D011655',\n",
       " 'nom': 'Pulmonary Embolism',\n",
       " 'numeros_mesh': ['C08.381.746', 'C14.907.355.350.700']}"
      ]
     },
     "execution_count": 32,
     "metadata": {},
     "output_type": "execute_result"
    }
   ],
   "source": [
    "MeSH.recherche_descripteur(racine, 'Pulmonary Embolism')"
   ]
  }
 ],
 "metadata": {
  "kernelspec": {
   "display_name": "base",
   "language": "python",
   "name": "python3"
  },
  "language_info": {
   "codemirror_mode": {
    "name": "ipython",
    "version": 3
   },
   "file_extension": ".py",
   "mimetype": "text/x-python",
   "name": "python",
   "nbconvert_exporter": "python",
   "pygments_lexer": "ipython3",
   "version": "3.12.7"
  }
 },
 "nbformat": 4,
 "nbformat_minor": 2
}
