{
 "cells": [
  {
   "cell_type": "markdown",
   "metadata": {},
   "source": [
    "# Classification Mesh \n",
    "\n",
    "\n",
    "Le MeSH (Medical Subject Headings) est un vocabulaire contrôlé utilisé pour organiser et indexer les articles médicaux. Il est structuré de manière hiérarchique en “arbres” (MeSH trees), où chaque concept est associé à un code unique appelé numéro d’arbre.\n",
    "\n",
    "“Catégorie principale des Maladies nutritionnelles et métaboliques” est ainsi associé au code C14, où “C” représente la catégorie des maladies et “14” spécifie le groupe des maladies nutritionnelles et métaboliques. Cette organisation facilite la navigation du général au spécifique, aidant ainsi les chercheurs à trouver des informations précises.\n",
    "\n",
    "Mais il est aussi d'être plus precis en selectionnant des maladies plus loin dans l'**arborescences**.\n",
    "\n",
    "Par le Diabete de type 1 correspond au code MeSH C18.452.394.750.124 qui se décompose comme suit :\n",
    "\n",
    "*   C : Catégorie des maladies\n",
    "*   C18 : Catégorie principale des Maladies nutritionnelles et métaboliques.\n",
    "*   C18.452 : Sous-catégorie des Maladies métaboliques.\n",
    "*   C18.452.394 : Sous-sous-catégorie des Troubles du métabolisme du glucose.\n",
    "*   C18.452.394.750 : Sous-sous-sous-catégorie du Diabète sucré.\n",
    "*   C18.452.394.750.124 : Terme spécifique pour le Diabète sucré de type 1.\n",
    "\n",
    "Cette hiérarchie reflète l’organisation des termes MeSH, permettant de situer chaque condition médicale dans un contexte plus large et de naviguer efficacement dans les informations médicales."
   ]
  },
  {
   "cell_type": "code",
   "execution_count": 1,
   "metadata": {},
   "outputs": [],
   "source": [
    "import pandas as pd\n",
    "import numpy as np"
   ]
  },
  {
   "cell_type": "code",
   "execution_count": 2,
   "metadata": {},
   "outputs": [
    {
     "name": "stdout",
     "output_type": "stream",
     "text": [
      "Hello from MeSH!\n"
     ]
    }
   ],
   "source": [
    "import sys\n",
    "import os\n",
    "\n",
    "# Ajouter le dossier courant au PATH si ce n'est pas déjà fait\n",
    "sys.path.append(os.path.abspath(\".\"))\n",
    "\n",
    "import MeSH\n",
    "print(MeSH.Hello())"
   ]
  },
  {
   "cell_type": "markdown",
   "metadata": {},
   "source": [
    "Le dictionnaire est disponible au format XML à cet [URL](https://nlmpubs.nlm.nih.gov/projects/mesh/MESH_FILES/xmlmesh/?_gl=1*1vhz8wv*_ga*MTkwNTMyNjEyOC4xNzM2Njg2Mzcy*_ga_7147EPK006*MTczNzEwNTQ1MS4xMi4xLjE3MzcxMDU4OTMuMC4wLjA.*_ga_P1FPTH9PL4*MTczNzEwNTQ1MS4xNC4xLjE3MzcxMDU4OTMuMC4wLjA)"
   ]
  },
  {
   "cell_type": "code",
   "execution_count": 3,
   "metadata": {},
   "outputs": [
    {
     "name": "stdout",
     "output_type": "stream",
     "text": [
      "Le fichier data/desc2025.xml existe déjà. Pas de téléchargement nécessaire.\n",
      "Fichier XML analysé avec succès : data/desc2025.xml\n"
     ]
    }
   ],
   "source": [
    "import requests\n",
    "\n",
    "# URL et chemin local du fichier XML\n",
    "url_fichier = \"https://nlmpubs.nlm.nih.gov/projects/mesh/MESH_FILES/xmlmesh/desc2025.xml\"\n",
    "chemin_fichier = \"data/desc2025.xml\"  # Nom du fichier local\n",
    "\n",
    "# Vérifier si le fichier existe déjà\n",
    "if not os.path.exists(chemin_fichier):\n",
    "    try:\n",
    "        response = requests.get(url_fichier)\n",
    "        response.raise_for_status()  # Vérifie si la requête a réussi\n",
    "\n",
    "        with open(chemin_fichier, \"wb\") as fichier:\n",
    "            fichier.write(response.content)\n",
    "\n",
    "        print(f\"Fichier téléchargé avec succès : {chemin_fichier}\")\n",
    "    except requests.RequestException as e:\n",
    "        print(f\"Erreur lors du téléchargement du fichier XML : {e}\")\n",
    "        exit(1)  # Arrête l'exécution en cas d'échec\n",
    "else:\n",
    "    print(f\"Le fichier {chemin_fichier} existe déjà. Pas de téléchargement nécessaire.\")\n",
    "\n",
    "# Analyse du fichier téléchargé\n",
    "racine = MeSH.chargement_arbre_mesh(chemin_fichier)"
   ]
  },
  {
   "cell_type": "markdown",
   "metadata": {},
   "source": [
    "## Chargement données"
   ]
  },
  {
   "cell_type": "code",
   "execution_count": 4,
   "metadata": {},
   "outputs": [
    {
     "data": {
      "text/html": [
       "<div>\n",
       "<style scoped>\n",
       "    .dataframe tbody tr th:only-of-type {\n",
       "        vertical-align: middle;\n",
       "    }\n",
       "\n",
       "    .dataframe tbody tr th {\n",
       "        vertical-align: top;\n",
       "    }\n",
       "\n",
       "    .dataframe thead th {\n",
       "        text-align: right;\n",
       "    }\n",
       "</style>\n",
       "<table border=\"1\" class=\"dataframe\">\n",
       "  <thead>\n",
       "    <tr style=\"text-align: right;\">\n",
       "      <th></th>\n",
       "      <th>pmcid</th>\n",
       "      <th>title</th>\n",
       "      <th>gender</th>\n",
       "      <th>case_text</th>\n",
       "      <th>keywords</th>\n",
       "      <th>major_mesh_terms</th>\n",
       "      <th>mesh_terms</th>\n",
       "      <th>journal</th>\n",
       "      <th>doi</th>\n",
       "    </tr>\n",
       "  </thead>\n",
       "  <tbody>\n",
       "    <tr>\n",
       "      <th>0</th>\n",
       "      <td>PMC5287946</td>\n",
       "      <td>Malignant adenohypophysis spindle cell oncocyt...</td>\n",
       "      <td>Male</td>\n",
       "      <td>A 30-year-old man came to Peking Union Medical...</td>\n",
       "      <td>None</td>\n",
       "      <td>[Adenoma, Oxyphilic / pathology, Ki-67 Antigen...</td>\n",
       "      <td>[Adenoma, Oxyphilic / pathology, Ki-67 Antigen...</td>\n",
       "      <td>Medicine (Baltimore)</td>\n",
       "      <td>10.1097/MD.0000000000005657</td>\n",
       "    </tr>\n",
       "    <tr>\n",
       "      <th>1</th>\n",
       "      <td>PMC3678730</td>\n",
       "      <td>Misclassification of pregnancy-related deaths ...</td>\n",
       "      <td>Female</td>\n",
       "      <td>For each death, the DSS has systematically rec...</td>\n",
       "      <td>None</td>\n",
       "      <td>[Cause of Death, Data Collection / standards, ...</td>\n",
       "      <td>[Cause of Death, Data Collection / standards, ...</td>\n",
       "      <td>Trop Med Int Health</td>\n",
       "      <td>10.1111/tmi.12012</td>\n",
       "    </tr>\n",
       "    <tr>\n",
       "      <th>2</th>\n",
       "      <td>PMC7201103</td>\n",
       "      <td>Gender Differences in Patients With COVID-19: ...</td>\n",
       "      <td>Female</td>\n",
       "      <td>The demographic and clinical characteristics a...</td>\n",
       "      <td>[covid-19, sars, sars-cov-2, female, gender, m...</td>\n",
       "      <td>[COVID-19 / epidemiology, COVID-19 / mortality...</td>\n",
       "      <td>[COVID-19 / epidemiology, COVID-19 / mortality...</td>\n",
       "      <td>Front Public Health</td>\n",
       "      <td>10.3389/fpubh.2020.00152</td>\n",
       "    </tr>\n",
       "  </tbody>\n",
       "</table>\n",
       "</div>"
      ],
      "text/plain": [
       "        pmcid                                              title  gender  \\\n",
       "0  PMC5287946  Malignant adenohypophysis spindle cell oncocyt...    Male   \n",
       "1  PMC3678730  Misclassification of pregnancy-related deaths ...  Female   \n",
       "2  PMC7201103  Gender Differences in Patients With COVID-19: ...  Female   \n",
       "\n",
       "                                           case_text  \\\n",
       "0  A 30-year-old man came to Peking Union Medical...   \n",
       "1  For each death, the DSS has systematically rec...   \n",
       "2  The demographic and clinical characteristics a...   \n",
       "\n",
       "                                            keywords  \\\n",
       "0                                               None   \n",
       "1                                               None   \n",
       "2  [covid-19, sars, sars-cov-2, female, gender, m...   \n",
       "\n",
       "                                    major_mesh_terms  \\\n",
       "0  [Adenoma, Oxyphilic / pathology, Ki-67 Antigen...   \n",
       "1  [Cause of Death, Data Collection / standards, ...   \n",
       "2  [COVID-19 / epidemiology, COVID-19 / mortality...   \n",
       "\n",
       "                                          mesh_terms               journal  \\\n",
       "0  [Adenoma, Oxyphilic / pathology, Ki-67 Antigen...  Medicine (Baltimore)   \n",
       "1  [Cause of Death, Data Collection / standards, ...   Trop Med Int Health   \n",
       "2  [COVID-19 / epidemiology, COVID-19 / mortality...   Front Public Health   \n",
       "\n",
       "                           doi  \n",
       "0  10.1097/MD.0000000000005657  \n",
       "1            10.1111/tmi.12012  \n",
       "2     10.3389/fpubh.2020.00152  "
      ]
     },
     "execution_count": 4,
     "metadata": {},
     "output_type": "execute_result"
    }
   ],
   "source": [
    "df = pd.read_parquet('data/df_final')\n",
    "df.head(3)"
   ]
  },
  {
   "cell_type": "code",
   "execution_count": 5,
   "metadata": {},
   "outputs": [
    {
     "name": "stdout",
     "output_type": "stream",
     "text": [
      "<class 'numpy.ndarray'>\n",
      "<class 'dict'>\n",
      "{'therapy': {'Arteriovenous Fistula', 'Intracranial Arteriovenous Malformations'}, 'pathology': {'Cavernous Sinus', 'Carotid Artery, Internal'}, 'complications': {'Ehlers-Danlos Syndrome'}, 'methods': {'Endovascular Procedures', 'Embolization, Therapeutic'}}\n"
     ]
    }
   ],
   "source": [
    "print(type(df.major_mesh_terms[4]))\n",
    "print(type(MeSH.list_to_dict(df.major_mesh_terms[4])))\n",
    "print(MeSH.list_to_dict(df.major_mesh_terms[4]))"
   ]
  },
  {
   "cell_type": "code",
   "execution_count": 6,
   "metadata": {},
   "outputs": [
    {
     "data": {
      "text/html": [
       "<div>\n",
       "<style scoped>\n",
       "    .dataframe tbody tr th:only-of-type {\n",
       "        vertical-align: middle;\n",
       "    }\n",
       "\n",
       "    .dataframe tbody tr th {\n",
       "        vertical-align: top;\n",
       "    }\n",
       "\n",
       "    .dataframe thead th {\n",
       "        text-align: right;\n",
       "    }\n",
       "</style>\n",
       "<table border=\"1\" class=\"dataframe\">\n",
       "  <thead>\n",
       "    <tr style=\"text-align: right;\">\n",
       "      <th></th>\n",
       "      <th>pmcid</th>\n",
       "      <th>title</th>\n",
       "      <th>gender</th>\n",
       "      <th>case_text</th>\n",
       "      <th>keywords</th>\n",
       "      <th>major_mesh_terms</th>\n",
       "      <th>mesh_terms</th>\n",
       "      <th>journal</th>\n",
       "      <th>doi</th>\n",
       "      <th>dict_mesh</th>\n",
       "    </tr>\n",
       "  </thead>\n",
       "  <tbody>\n",
       "    <tr>\n",
       "      <th>0</th>\n",
       "      <td>PMC5287946</td>\n",
       "      <td>Malignant adenohypophysis spindle cell oncocyt...</td>\n",
       "      <td>Male</td>\n",
       "      <td>A 30-year-old man came to Peking Union Medical...</td>\n",
       "      <td>None</td>\n",
       "      <td>[Adenoma, Oxyphilic / pathology, Ki-67 Antigen...</td>\n",
       "      <td>[Adenoma, Oxyphilic / pathology, Ki-67 Antigen...</td>\n",
       "      <td>Medicine (Baltimore)</td>\n",
       "      <td>10.1097/MD.0000000000005657</td>\n",
       "      <td>{'pathology': {'Pituitary Gland, Anterior', 'P...</td>\n",
       "    </tr>\n",
       "    <tr>\n",
       "      <th>1</th>\n",
       "      <td>PMC3678730</td>\n",
       "      <td>Misclassification of pregnancy-related deaths ...</td>\n",
       "      <td>Female</td>\n",
       "      <td>For each death, the DSS has systematically rec...</td>\n",
       "      <td>None</td>\n",
       "      <td>[Cause of Death, Data Collection / standards, ...</td>\n",
       "      <td>[Cause of Death, Data Collection / standards, ...</td>\n",
       "      <td>Trop Med Int Health</td>\n",
       "      <td>10.1111/tmi.12012</td>\n",
       "      <td>{'No Qualifier': {'Mortality', 'Cause of Death...</td>\n",
       "    </tr>\n",
       "    <tr>\n",
       "      <th>2</th>\n",
       "      <td>PMC7201103</td>\n",
       "      <td>Gender Differences in Patients With COVID-19: ...</td>\n",
       "      <td>Female</td>\n",
       "      <td>The demographic and clinical characteristics a...</td>\n",
       "      <td>[covid-19, sars, sars-cov-2, female, gender, m...</td>\n",
       "      <td>[COVID-19 / epidemiology, COVID-19 / mortality...</td>\n",
       "      <td>[COVID-19 / epidemiology, COVID-19 / mortality...</td>\n",
       "      <td>Front Public Health</td>\n",
       "      <td>10.3389/fpubh.2020.00152</td>\n",
       "      <td>{'epidemiology': {'COVID-19', 'Severe Acute Re...</td>\n",
       "    </tr>\n",
       "    <tr>\n",
       "      <th>3</th>\n",
       "      <td>PMC4108191</td>\n",
       "      <td>Acute pulmonary embolism caused by enlarged ut...</td>\n",
       "      <td>Female</td>\n",
       "      <td>A 42-year-old, non-smoking, virgin woman prese...</td>\n",
       "      <td>[echocardiography, leiomyoma, pulmonary emboli...</td>\n",
       "      <td>[Pulmonary Embolism / etiology, Uterine Neopla...</td>\n",
       "      <td>[Pulmonary Embolism / etiology, Uterine Neopla...</td>\n",
       "      <td>Am J Case Rep</td>\n",
       "      <td>10.12659/AJCR.890607</td>\n",
       "      <td>{'etiology': {'Pulmonary Embolism'}, 'complica...</td>\n",
       "    </tr>\n",
       "    <tr>\n",
       "      <th>4</th>\n",
       "      <td>PMC4508704</td>\n",
       "      <td>Transvenous embolization for carotid-cavernous...</td>\n",
       "      <td>Female</td>\n",
       "      <td>The patient was a 37-year-old woman with a his...</td>\n",
       "      <td>None</td>\n",
       "      <td>[Arteriovenous Fistula / therapy, Carotid Arte...</td>\n",
       "      <td>[Arteriovenous Fistula / therapy, Carotid Arte...</td>\n",
       "      <td>Neurol Med Chir (Tokyo)</td>\n",
       "      <td>10.2176/nmc.cr.2013-0007</td>\n",
       "      <td>{'therapy': {'Arteriovenous Fistula', 'Intracr...</td>\n",
       "    </tr>\n",
       "  </tbody>\n",
       "</table>\n",
       "</div>"
      ],
      "text/plain": [
       "        pmcid                                              title  gender  \\\n",
       "0  PMC5287946  Malignant adenohypophysis spindle cell oncocyt...    Male   \n",
       "1  PMC3678730  Misclassification of pregnancy-related deaths ...  Female   \n",
       "2  PMC7201103  Gender Differences in Patients With COVID-19: ...  Female   \n",
       "3  PMC4108191  Acute pulmonary embolism caused by enlarged ut...  Female   \n",
       "4  PMC4508704  Transvenous embolization for carotid-cavernous...  Female   \n",
       "\n",
       "                                           case_text  \\\n",
       "0  A 30-year-old man came to Peking Union Medical...   \n",
       "1  For each death, the DSS has systematically rec...   \n",
       "2  The demographic and clinical characteristics a...   \n",
       "3  A 42-year-old, non-smoking, virgin woman prese...   \n",
       "4  The patient was a 37-year-old woman with a his...   \n",
       "\n",
       "                                            keywords  \\\n",
       "0                                               None   \n",
       "1                                               None   \n",
       "2  [covid-19, sars, sars-cov-2, female, gender, m...   \n",
       "3  [echocardiography, leiomyoma, pulmonary emboli...   \n",
       "4                                               None   \n",
       "\n",
       "                                    major_mesh_terms  \\\n",
       "0  [Adenoma, Oxyphilic / pathology, Ki-67 Antigen...   \n",
       "1  [Cause of Death, Data Collection / standards, ...   \n",
       "2  [COVID-19 / epidemiology, COVID-19 / mortality...   \n",
       "3  [Pulmonary Embolism / etiology, Uterine Neopla...   \n",
       "4  [Arteriovenous Fistula / therapy, Carotid Arte...   \n",
       "\n",
       "                                          mesh_terms                  journal  \\\n",
       "0  [Adenoma, Oxyphilic / pathology, Ki-67 Antigen...     Medicine (Baltimore)   \n",
       "1  [Cause of Death, Data Collection / standards, ...      Trop Med Int Health   \n",
       "2  [COVID-19 / epidemiology, COVID-19 / mortality...      Front Public Health   \n",
       "3  [Pulmonary Embolism / etiology, Uterine Neopla...            Am J Case Rep   \n",
       "4  [Arteriovenous Fistula / therapy, Carotid Arte...  Neurol Med Chir (Tokyo)   \n",
       "\n",
       "                           doi  \\\n",
       "0  10.1097/MD.0000000000005657   \n",
       "1            10.1111/tmi.12012   \n",
       "2     10.3389/fpubh.2020.00152   \n",
       "3         10.12659/AJCR.890607   \n",
       "4     10.2176/nmc.cr.2013-0007   \n",
       "\n",
       "                                           dict_mesh  \n",
       "0  {'pathology': {'Pituitary Gland, Anterior', 'P...  \n",
       "1  {'No Qualifier': {'Mortality', 'Cause of Death...  \n",
       "2  {'epidemiology': {'COVID-19', 'Severe Acute Re...  \n",
       "3  {'etiology': {'Pulmonary Embolism'}, 'complica...  \n",
       "4  {'therapy': {'Arteriovenous Fistula', 'Intracr...  "
      ]
     },
     "execution_count": 6,
     "metadata": {},
     "output_type": "execute_result"
    }
   ],
   "source": [
    "df['dict_mesh'] = df.major_mesh_terms.apply(MeSH.list_to_dict)\n",
    "df.head()"
   ]
  },
  {
   "cell_type": "markdown",
   "metadata": {},
   "source": [
    "## Extraction Code MeSH"
   ]
  },
  {
   "cell_type": "code",
   "execution_count": 7,
   "metadata": {},
   "outputs": [],
   "source": [
    "import multilabel_preprocessing as mp\n",
    "from tqdm import tqdm\n",
    "tqdm.pandas()  # Pour que apply() affiche une barre de progression"
   ]
  },
  {
   "cell_type": "code",
   "execution_count": 8,
   "metadata": {},
   "outputs": [],
   "source": [
    "# J AI COPIE CE CODE SOUS \"\"\"VERSION CACHED\"\"\" DANS LE FICHIER MESH --> POSSIBILITE D'UTILISER DIRECTEMENT CES FONCTIONS\n",
    "\n",
    "from functools import lru_cache\n",
    "\n",
    "@lru_cache(maxsize=None)\n",
    "def rechercher_descripteur_cached(terme, racine):\n",
    "    return MeSH.recherche_descripteur(racine, terme, format_reponse='numero_mesh')\n",
    "\n",
    "\n",
    "def extraire_codes_disease_C_cached(dict_mesh_ligne, racine):\n",
    "    \"\"\"\n",
    "    Version optimisée avec cache + rapide + propre.\n",
    "    \"\"\"\n",
    "    codes = set()\n",
    "\n",
    "    if not isinstance(dict_mesh_ligne, dict):\n",
    "        return []\n",
    "\n",
    "    for termes in dict_mesh_ligne.values():\n",
    "        for terme in termes:\n",
    "            list_mesh = rechercher_descripteur_cached(terme, racine)\n",
    "            if list_mesh:\n",
    "                for item in list_mesh:\n",
    "                    if item.startswith(\"C\") and len(item) > 2:\n",
    "                        code = item[1:3]\n",
    "                        if code.isdigit():\n",
    "                            codes.add(code)\n",
    "\n",
    "    return sorted(codes)"
   ]
  },
  {
   "cell_type": "code",
   "execution_count": 9,
   "metadata": {},
   "outputs": [
    {
     "data": {
      "text/html": [
       "<div>\n",
       "<style scoped>\n",
       "    .dataframe tbody tr th:only-of-type {\n",
       "        vertical-align: middle;\n",
       "    }\n",
       "\n",
       "    .dataframe tbody tr th {\n",
       "        vertical-align: top;\n",
       "    }\n",
       "\n",
       "    .dataframe thead th {\n",
       "        text-align: right;\n",
       "    }\n",
       "</style>\n",
       "<table border=\"1\" class=\"dataframe\">\n",
       "  <thead>\n",
       "    <tr style=\"text-align: right;\">\n",
       "      <th></th>\n",
       "      <th>pmcid</th>\n",
       "      <th>title</th>\n",
       "      <th>gender</th>\n",
       "      <th>case_text</th>\n",
       "      <th>keywords</th>\n",
       "      <th>major_mesh_terms</th>\n",
       "      <th>mesh_terms</th>\n",
       "      <th>journal</th>\n",
       "      <th>doi</th>\n",
       "      <th>dict_mesh</th>\n",
       "    </tr>\n",
       "  </thead>\n",
       "  <tbody>\n",
       "    <tr>\n",
       "      <th>0</th>\n",
       "      <td>PMC5287946</td>\n",
       "      <td>Malignant adenohypophysis spindle cell oncocyt...</td>\n",
       "      <td>Male</td>\n",
       "      <td>A 30-year-old man came to Peking Union Medical...</td>\n",
       "      <td>None</td>\n",
       "      <td>[Adenoma, Oxyphilic / pathology, Ki-67 Antigen...</td>\n",
       "      <td>[Adenoma, Oxyphilic / pathology, Ki-67 Antigen...</td>\n",
       "      <td>Medicine (Baltimore)</td>\n",
       "      <td>10.1097/MD.0000000000005657</td>\n",
       "      <td>{'pathology': {'Pituitary Gland, Anterior', 'P...</td>\n",
       "    </tr>\n",
       "  </tbody>\n",
       "</table>\n",
       "</div>"
      ],
      "text/plain": [
       "        pmcid                                              title gender  \\\n",
       "0  PMC5287946  Malignant adenohypophysis spindle cell oncocyt...   Male   \n",
       "\n",
       "                                           case_text keywords  \\\n",
       "0  A 30-year-old man came to Peking Union Medical...     None   \n",
       "\n",
       "                                    major_mesh_terms  \\\n",
       "0  [Adenoma, Oxyphilic / pathology, Ki-67 Antigen...   \n",
       "\n",
       "                                          mesh_terms               journal  \\\n",
       "0  [Adenoma, Oxyphilic / pathology, Ki-67 Antigen...  Medicine (Baltimore)   \n",
       "\n",
       "                           doi  \\\n",
       "0  10.1097/MD.0000000000005657   \n",
       "\n",
       "                                           dict_mesh  \n",
       "0  {'pathology': {'Pituitary Gland, Anterior', 'P...  "
      ]
     },
     "execution_count": 9,
     "metadata": {},
     "output_type": "execute_result"
    }
   ],
   "source": [
    "df2 = df.copy(deep=True)\n",
    "df2.head(1)"
   ]
  },
  {
   "cell_type": "code",
   "execution_count": 10,
   "metadata": {},
   "outputs": [
    {
     "name": "stderr",
     "output_type": "stream",
     "text": [
      "100%|██████████| 10718/10718 [11:26<00:00, 15.61it/s]\n"
     ]
    }
   ],
   "source": [
    "#raise RuntimeError(\"⛔ Cette cellule ne doit pas être exécutée.\")\n",
    "\n",
    "# Application ligne par ligne avec racine et objet MeSH passés comme arguments\n",
    "df2[\"codes_mesh_extraits\"] = df2[\"dict_mesh\"].progress_apply(lambda x: extraire_codes_disease_C_cached(x, racine))"
   ]
  },
  {
   "cell_type": "code",
   "execution_count": 11,
   "metadata": {},
   "outputs": [],
   "source": [
    "df2[\"target\"] = df2[\"codes_mesh_extraits\"].apply(lambda x: mp.vectorizer(x))"
   ]
  },
  {
   "cell_type": "code",
   "execution_count": 20,
   "metadata": {},
   "outputs": [
    {
     "data": {
      "text/plain": [
       "numpy.ndarray"
      ]
     },
     "execution_count": 20,
     "metadata": {},
     "output_type": "execute_result"
    }
   ],
   "source": [
    "type(df2[\"target\"][1])"
   ]
  },
  {
   "cell_type": "code",
   "execution_count": 21,
   "metadata": {},
   "outputs": [],
   "source": [
    "#raise RuntimeError(\"⛔ Cette cellule ne doit pas être exécutée.\")\n",
    "df2.to_pickle(\"data/df_target_V2\")"
   ]
  },
  {
   "cell_type": "code",
   "execution_count": 16,
   "metadata": {},
   "outputs": [
    {
     "name": "stdout",
     "output_type": "stream",
     "text": [
      "<class 'numpy.ndarray'>\n",
      "[False False False False False False False False  True  True  True False\n",
      " False False False False False False False False False False False False\n",
      " False False]\n"
     ]
    }
   ],
   "source": [
    "# Exemple d'utilisation\n",
    "print(type(mp.vectorizer([1, 8, 26])))\n",
    "# Résultat attendu : [1 0 0 0 0 0 0 1 0 0 0 0 0 0 0 0 0 0 0 0 0 0 0 0 0 1]\n",
    "\n",
    "print(mp.vectorizer([9, 10, 11]))\n",
    "# Résultat attendu : [0 0 0 0 0 0 0 0 0 0 0 0 0 0 0 0 0 0 0 0 0 0 0 0 0 0]"
   ]
  },
  {
   "cell_type": "markdown",
   "metadata": {},
   "source": [
    "***"
   ]
  },
  {
   "cell_type": "markdown",
   "metadata": {},
   "source": [
    "# Exemples / Archives"
   ]
  },
  {
   "cell_type": "code",
   "execution_count": 14,
   "metadata": {},
   "outputs": [
    {
     "ename": "RuntimeError",
     "evalue": "⛔ Cette cellule ne doit pas être exécutée.",
     "output_type": "error",
     "traceback": [
      "\u001b[0;31m---------------------------------------------------------------------------\u001b[0m",
      "\u001b[0;31mRuntimeError\u001b[0m                              Traceback (most recent call last)",
      "Cell \u001b[0;32mIn[14], line 1\u001b[0m\n\u001b[0;32m----> 1\u001b[0m \u001b[38;5;28;01mraise\u001b[39;00m \u001b[38;5;167;01mRuntimeError\u001b[39;00m(\u001b[38;5;124m\"\u001b[39m\u001b[38;5;124m⛔ Cette cellule ne doit pas être exécutée.\u001b[39m\u001b[38;5;124m\"\u001b[39m)\n\u001b[1;32m      4\u001b[0m \u001b[38;5;28;01mdef\u001b[39;00m\u001b[38;5;250m \u001b[39m\u001b[38;5;21mextraire_codes_mesh\u001b[39m(dict_mesh_ligne, racine, mesh_obj):\n\u001b[1;32m      5\u001b[0m \u001b[38;5;250m    \u001b[39m\u001b[38;5;124;03m\"\"\"\u001b[39;00m\n\u001b[1;32m      6\u001b[0m \u001b[38;5;124;03m    Extrait les deux chiffres suivant le 'C' des codes MeSH pour les maladies (catégorie C).\u001b[39;00m\n\u001b[1;32m      7\u001b[0m \n\u001b[0;32m   (...)\u001b[0m\n\u001b[1;32m     14\u001b[0m \u001b[38;5;124;03m        list: Liste triée des codes 'C' (2 chiffres après le 'C'), sans doublons.\u001b[39;00m\n\u001b[1;32m     15\u001b[0m \u001b[38;5;124;03m    \"\"\"\u001b[39;00m\n",
      "\u001b[0;31mRuntimeError\u001b[0m: ⛔ Cette cellule ne doit pas être exécutée."
     ]
    }
   ],
   "source": [
    "raise RuntimeError(\"⛔ Cette cellule ne doit pas être exécutée.\")\n",
    "\n",
    "\n",
    "def extraire_codes_mesh(dict_mesh_ligne, racine, mesh_obj):\n",
    "    \"\"\"\n",
    "    Extrait les deux chiffres suivant le 'C' des codes MeSH pour les maladies (catégorie C).\n",
    "\n",
    "    Args:\n",
    "        dict_mesh_ligne (dict): Dictionnaire {qualificateur: set(termes)}\n",
    "        racine (str): Racine MeSH utilisée pour la recherche.\n",
    "        mesh_obj: Objet MeSH avec la méthode recherche_descripteur(term, racine, format_reponse='numero_mesh')\n",
    "\n",
    "    Returns:\n",
    "        list: Liste triée des codes 'C' (2 chiffres après le 'C'), sans doublons.\n",
    "    \"\"\"\n",
    "    set_final = set()\n",
    "\n",
    "    if not isinstance(dict_mesh_ligne, dict):\n",
    "        return []\n",
    "\n",
    "    for mesh_terms in dict_mesh_ligne.values():\n",
    "        if not isinstance(mesh_terms, (set, list)):\n",
    "            continue\n",
    "\n",
    "        for term in mesh_terms:\n",
    "            try:\n",
    "                list_mesh = mesh_obj.recherche_descripteur(racine, str(term), format_reponse='numero_mesh')\n",
    "                if not list_mesh:\n",
    "                    continue\n",
    "\n",
    "                for item in list_mesh:\n",
    "                    if isinstance(item, str) and item.startswith('C') and len(item) >= 3:\n",
    "                        code = item[1:3]  # Prend les deux chiffres après le 'C'\n",
    "                        if code.isdigit():\n",
    "                            set_final.add(code)\n",
    "            except Exception as e:\n",
    "                print(f\"Erreur avec le terme '{term}': {e}\")\n",
    "                continue\n",
    "\n",
    "    return sorted(set_final)"
   ]
  },
  {
   "cell_type": "code",
   "execution_count": null,
   "metadata": {},
   "outputs": [
    {
     "ename": "RuntimeError",
     "evalue": "⛔ Cette cellule ne doit pas être exécutée.",
     "output_type": "error",
     "traceback": [
      "\u001b[0;31m---------------------------------------------------------------------------\u001b[0m",
      "\u001b[0;31mRuntimeError\u001b[0m                              Traceback (most recent call last)",
      "Cell \u001b[0;32mIn[1], line 1\u001b[0m\n\u001b[0;32m----> 1\u001b[0m \u001b[38;5;28;01mraise\u001b[39;00m \u001b[38;5;167;01mRuntimeError\u001b[39;00m(\u001b[38;5;124m\"\u001b[39m\u001b[38;5;124m⛔ Cette cellule ne doit pas être exécutée.\u001b[39m\u001b[38;5;124m\"\u001b[39m)\n\u001b[1;32m      3\u001b[0m df2 \u001b[38;5;241m=\u001b[39m pd\u001b[38;5;241m.\u001b[39mDataFrame()\n\u001b[1;32m      4\u001b[0m \u001b[38;5;66;03m# Application ligne par ligne avec racine et objet MeSH passés comme arguments\u001b[39;00m\n",
      "\u001b[0;31mRuntimeError\u001b[0m: ⛔ Cette cellule ne doit pas être exécutée."
     ]
    }
   ],
   "source": [
    "raise RuntimeError(\"⛔ Cette cellule ne doit pas être exécutée.\")\n",
    "\n",
    "df2 = pd.DataFrame()\n",
    "# Application ligne par ligne avec racine et objet MeSH passés comme arguments\n",
    "df2[\"codes_mesh_extraits\"] = df[\"dict_mesh\"].head(100).apply(lambda x: extraire_codes_mesh(x, racine, MeSH))"
   ]
  },
  {
   "cell_type": "code",
   "execution_count": null,
   "metadata": {},
   "outputs": [
    {
     "name": "stdout",
     "output_type": "stream",
     "text": [
      "\n",
      "Qualificateur : therapy\n",
      "['10', '14', '16', '23']\n",
      "\n",
      "Qualificateur : pathology\n",
      "['10', '14', '16', '23']\n",
      "\n",
      "Qualificateur : complications\n",
      "['10', '14', '15', '16', '17', '23']\n",
      "\n",
      "Qualificateur : methods\n",
      "['10', '14', '15', '16', '17', '23']\n",
      "\n",
      "Liste finale triée : ['10', '14', '15', '16', '17', '23']\n"
     ]
    }
   ],
   "source": [
    "raise RuntimeError(\"⛔ Cette cellule ne doit pas être exécutée.\")\n",
    "\n",
    "from collections import OrderedDict\n",
    "\n",
    "i = 4\n",
    "set_final = set()\n",
    "\n",
    "#rajouter fonction qui prend en arg un dict\n",
    "\n",
    "for key in df.dict_mesh[i].keys():\n",
    "    mesh_terms = df.dict_mesh[i][key]  # C'est un set\n",
    "    print(\"\\nQualificateur :\", key)\n",
    "\n",
    "    for term in mesh_terms:  # Itérer sur le set (même si un seul élément)\n",
    "        list_mesh = MeSH.recherche_descripteur(racine, str(term), format_reponse='numero_mesh')\n",
    "        \n",
    "        # Filtrer, extraire et ajouter les éléments au set\n",
    "        set_final.update(item.split('.')[0][-2:] for item in list_mesh if item.startswith('C'))\n",
    "    \n",
    "    print(sorted(set_final))  # Affichage trié\n",
    "\n",
    "# Conversion finale en liste triée\n",
    "result = sorted(set_final)\n",
    "\n",
    "print(\"\\nListe finale triée :\", result)\n",
    "\n"
   ]
  },
  {
   "cell_type": "code",
   "execution_count": null,
   "metadata": {},
   "outputs": [
    {
     "name": "stdout",
     "output_type": "stream",
     "text": [
      "\n",
      "Qualificateur : therapy\n",
      "['Cardiovascular Diseases', 'Congenital, Hereditary, and Neonatal Diseases and Abnormalities', 'Nervous System Diseases', 'Pathological Conditions, Signs and Symptoms']\n",
      "\n",
      "Qualificateur : pathology\n",
      "['Cardiovascular Diseases', 'Congenital, Hereditary, and Neonatal Diseases and Abnormalities', 'Nervous System Diseases', 'Pathological Conditions, Signs and Symptoms']\n",
      "\n",
      "Qualificateur : complications\n",
      "['Cardiovascular Diseases', 'Congenital, Hereditary, and Neonatal Diseases and Abnormalities', 'Hemic and Lymphatic Diseases', 'Nervous System Diseases', 'Pathological Conditions, Signs and Symptoms', 'Skin and Connective Tissue Diseases']\n",
      "\n",
      "Qualificateur : methods\n",
      "['Cardiovascular Diseases', 'Congenital, Hereditary, and Neonatal Diseases and Abnormalities', 'Hemic and Lymphatic Diseases', 'Nervous System Diseases', 'Pathological Conditions, Signs and Symptoms', 'Skin and Connective Tissue Diseases']\n",
      "\n",
      "Liste finale triée : ['Cardiovascular Diseases', 'Congenital, Hereditary, and Neonatal Diseases and Abnormalities', 'Hemic and Lymphatic Diseases', 'Nervous System Diseases', 'Pathological Conditions, Signs and Symptoms', 'Skin and Connective Tissue Diseases']\n"
     ]
    }
   ],
   "source": [
    "raise RuntimeError(\"⛔ Cette cellule ne doit pas être exécutée.\")\n",
    "\n",
    "from collections import OrderedDict\n",
    "\n",
    "i = 4\n",
    "set_final = set()\n",
    "\n",
    "#rajouter fonction qui prend en arg un dict\n",
    "\n",
    "for key in df.dict_mesh[i].keys():\n",
    "    mesh_terms = df.dict_mesh[i][key]  # C'est un set\n",
    "    print(\"\\nQualificateur :\", key)\n",
    "\n",
    "    for term in mesh_terms:  # Itérer sur le set (même si un seul élément)\n",
    "        list_mesh = MeSH.recherche_descripteur(racine, str(term), format_reponse='numero_mesh')\n",
    "        \n",
    "        # Filtrer, extraire et ajouter les éléments au set\n",
    "        set_final.update(MeSH.categorie_haute(racine, item, level=1) for item in list_mesh if item.startswith('C'))\n",
    "    \n",
    "    print(sorted(set_final))  # Affichage trié\n",
    "\n",
    "# Conversion finale en liste triée\n",
    "result = sorted(set_final)\n",
    "\n",
    "print(\"\\nListe finale triée :\", result)"
   ]
  }
 ],
 "metadata": {
  "kernelspec": {
   "display_name": "base",
   "language": "python",
   "name": "python3"
  },
  "language_info": {
   "codemirror_mode": {
    "name": "ipython",
    "version": 3
   },
   "file_extension": ".py",
   "mimetype": "text/x-python",
   "name": "python",
   "nbconvert_exporter": "python",
   "pygments_lexer": "ipython3",
   "version": "3.12.7"
  }
 },
 "nbformat": 4,
 "nbformat_minor": 2
}
