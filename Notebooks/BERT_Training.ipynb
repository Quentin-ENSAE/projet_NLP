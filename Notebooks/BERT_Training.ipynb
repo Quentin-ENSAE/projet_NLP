{
 "cells": [
  {
   "cell_type": "markdown",
   "metadata": {},
   "source": [
    "# BERT"
   ]
  },
  {
   "cell_type": "code",
   "execution_count": 1,
   "metadata": {},
   "outputs": [
    {
     "name": "stderr",
     "output_type": "stream",
     "text": [
      "/opt/conda/lib/python3.12/site-packages/tqdm/auto.py:21: TqdmWarning: IProgress not found. Please update jupyter and ipywidgets. See https://ipywidgets.readthedocs.io/en/stable/user_install.html\n",
      "  from .autonotebook import tqdm as notebook_tqdm\n"
     ]
    }
   ],
   "source": [
    "import os\n",
    "import pandas as pd\n",
    "import numpy as np\n",
    "import matplotlib.pyplot as plt\n",
    "from tqdm import tqdm  # Barre de progression pour Jupyter\n",
    "pd.set_option('display.max_colwidth', None)\n",
    "import s3fs\n",
    "\n",
    "from transformers import AutoTokenizer, AutoModelForSequenceClassification\n",
    "from transformers import Trainer, TrainingArguments\n",
    "from sklearn.preprocessing import MultiLabelBinarizer\n",
    "from datasets import Dataset\n",
    "\n",
    "import torch\n",
    "from sklearn.metrics import (\n",
    "    f1_score, precision_score, recall_score, hamming_loss, accuracy_score\n",
    ")"
   ]
  },
  {
   "cell_type": "code",
   "execution_count": null,
   "metadata": {},
   "outputs": [],
   "source": [
    "df = pd.read_pickle('data/df_target_V2.pkl')"
   ]
  },
  {
   "cell_type": "code",
   "execution_count": 2,
   "metadata": {},
   "outputs": [
    {
     "name": "stdout",
     "output_type": "stream",
     "text": [
      "True\n",
      "Tesla T4\n"
     ]
    }
   ],
   "source": [
    "print(torch.cuda.is_available())  # doit renvoyer True\n",
    "print(torch.cuda.get_device_name(0))  # nom de ton GPU"
   ]
  },
  {
   "cell_type": "code",
   "execution_count": null,
   "metadata": {},
   "outputs": [
    {
     "name": "stderr",
     "output_type": "stream",
     "text": [
      "Some weights of BertForSequenceClassification were not initialized from the model checkpoint at emilyalsentzer/Bio_ClinicalBERT and are newly initialized: ['classifier.bias', 'classifier.weight']\n",
      "You should probably TRAIN this model on a down-stream task to be able to use it for predictions and inference.\n"
     ]
    }
   ],
   "source": [
    "# Nom du modèle médical BERT\n",
    "model_name = \"emilyalsentzer/Bio_ClinicalBERT\"\n",
    "\n",
    "# Tokenizer\n",
    "tokenizer = AutoTokenizer.from_pretrained(model_name)\n",
    "\n",
    "# Tu dois définir le nombre de classes en sortie\n",
    "n_labels = 26  # par exemple\n",
    "model = AutoModelForSequenceClassification.from_pretrained(\n",
    "    model_name,\n",
    "    num_labels=n_labels,\n",
    "    problem_type=\"multi_label_classification\"\n",
    ")"
   ]
  },
  {
   "cell_type": "code",
   "execution_count": 1,
   "metadata": {},
   "outputs": [
    {
     "ename": "NameError",
     "evalue": "name 'df' is not defined",
     "output_type": "error",
     "traceback": [
      "\u001b[31m---------------------------------------------------------------------------\u001b[39m",
      "\u001b[31mNameError\u001b[39m                                 Traceback (most recent call last)",
      "\u001b[36mCell\u001b[39m\u001b[36m \u001b[39m\u001b[32mIn[1]\u001b[39m\u001b[32m, line 2\u001b[39m\n\u001b[32m      1\u001b[39m \u001b[38;5;66;03m# 1. Calculer le nombre de tokens pour chaque case_text\u001b[39;00m\n\u001b[32m----> \u001b[39m\u001b[32m2\u001b[39m df[\u001b[33m'\u001b[39m\u001b[33mn_tokens\u001b[39m\u001b[33m'\u001b[39m] = \u001b[43mdf\u001b[49m[\u001b[33m'\u001b[39m\u001b[33mcase_text\u001b[39m\u001b[33m'\u001b[39m].apply(\u001b[38;5;28;01mlambda\u001b[39;00m x: \u001b[38;5;28mlen\u001b[39m(tokenizer.tokenize(\u001b[38;5;28mstr\u001b[39m(x))))\n\u001b[32m      4\u001b[39m \u001b[38;5;66;03m# 2. Afficher les stats descriptives\u001b[39;00m\n\u001b[32m      5\u001b[39m \u001b[38;5;28mprint\u001b[39m(df[\u001b[33m'\u001b[39m\u001b[33mn_tokens\u001b[39m\u001b[33m'\u001b[39m].describe())\n",
      "\u001b[31mNameError\u001b[39m: name 'df' is not defined"
     ]
    }
   ],
   "source": [
    "# 1. Calculer le nombre de tokens pour chaque case_text\n",
    "df['n_tokens'] = df['case_text'].apply(lambda x: len(tokenizer.tokenize(str(x))))\n",
    "\n",
    "# 2. Afficher les stats descriptives\n",
    "print(df['n_tokens'].describe())"
   ]
  },
  {
   "cell_type": "code",
   "execution_count": null,
   "metadata": {},
   "outputs": [
    {
     "name": "stderr",
     "output_type": "stream",
     "text": [
      "Map: 100%|██████████| 10718/10718 [00:17<00:00, 608.27 examples/s]\n"
     ]
    }
   ],
   "source": [
    "from datasets import Dataset\n",
    "df = df.rename(columns={\"target\": \"labels\"})\n",
    "df[\"labels\"] = df[\"labels\"].apply(lambda x: np.array(x, dtype=np.float32))\n",
    "dataset = Dataset.from_pandas(df)\n",
    "\n",
    "# Tokenizer\n",
    "def tokenize(batch):\n",
    "    return tokenizer(batch[\"case_text\"], padding=\"max_length\", truncation=True, max_length=512)\n",
    "\n",
    "dataset = dataset.map(tokenize, batched=True)"
   ]
  },
  {
   "cell_type": "code",
   "execution_count": null,
   "metadata": {},
   "outputs": [],
   "source": [
    "training_args = TrainingArguments(\n",
    "    output_dir=\"./results\",\n",
    "    evaluation_strategy=\"epoch\",              # évaluation à chaque époque\n",
    "    save_strategy=\"epoch\",                    # sauvegarde à chaque époque (utile pour reprise)\n",
    "    save_total_limit=2,                       # limite le nombre de checkpoints\n",
    "    learning_rate=3e-5,                       # légèrement augmenté pour convergence plus rapide\n",
    "    per_device_train_batch_size=4,            # réduit à 4 pour éviter OOM (GPU 16 Go)\n",
    "    per_device_eval_batch_size=4,\n",
    "    num_train_epochs=5,                       # plus d'époques si dataset pas trop gros\n",
    "    weight_decay=0.01,\n",
    "    fp16=True,                                # active le mixed precision training (optimisé pour Ampere)\n",
    "    gradient_accumulation_steps=4,            # simule un batch size plus grand (4x4 = 16)\n",
    "    warmup_ratio=0.1,                         # warmup sur 10% des steps pour stabiliser l'entraînement\n",
    "    logging_dir=\"./logs\",\n",
    "    logging_steps=10,\n",
    "    load_best_model_at_end=True,              # récupère le meilleur modèle (selon eval loss)\n",
    "    metric_for_best_model=\"eval_loss\",\n",
    "    greater_is_better=False,\n",
    "    dataloader_num_workers=2,                 # légère parallélisation de l’I/O\n",
    "    report_to=\"none\",                         # désactive Weights & Biases si non utilisé\n",
    ")\n",
    "\n",
    "def exact_match_accuracy(y_true, y_pred):\n",
    "    return np.all(y_true == y_pred, axis=1).mean()\n",
    "\n",
    "def compute_metrics(eval_pred):\n",
    "    logits, labels = eval_pred\n",
    "    thresholds = np.linspace(0.1, 0.99, 20)\n",
    "\n",
    "    best_threshold = 0.5\n",
    "    best_precision = 0\n",
    "\n",
    "    for t in thresholds:\n",
    "        preds = (logits >= t).astype(int)\n",
    "        micro_precision = precision_score(labels, preds, average='micro', zero_division=0)\n",
    "        if micro_precision > best_precision:\n",
    "            best_precision = micro_precision\n",
    "            best_threshold = t\n",
    "\n",
    "    # Final prediction with the best threshold\n",
    "    preds = (logits >= best_threshold).astype(int)\n",
    "\n",
    "    return {\n",
    "        'threshold': best_threshold,\n",
    "        'micro_precision': precision_score(labels, preds, average='micro', zero_division=0),\n",
    "        'micro_recall': recall_score(labels, preds, average='micro', zero_division=0),\n",
    "        'micro_f1': f1_score(labels, preds, average='micro', zero_division=0),\n",
    "        'hamming_loss': hamming_loss(labels, preds),\n",
    "        'exact_match_accuracy': exact_match_accuracy(labels, preds)\n",
    "    }\n",
    "\n",
    "trainer = Trainer(\n",
    "    model=model,\n",
    "    args=training_args,\n",
    "    train_dataset=dataset,\n",
    "    eval_dataset=dataset,\n",
    "    compute_metrics=compute_metrics\n",
    ")\n",
    "\n",
    "trainer.train()"
   ]
  },
  {
   "cell_type": "code",
   "execution_count": null,
   "metadata": {},
   "outputs": [
    {
     "data": {
      "text/html": [
       "\n",
       "    <div>\n",
       "      \n",
       "      <progress value='3350' max='3350' style='width:300px; height:20px; vertical-align: middle;'></progress>\n",
       "      [3350/3350 : < :, Epoch 5/5]\n",
       "    </div>\n",
       "    <table border=\"1\" class=\"dataframe\">\n",
       "  <thead>\n",
       " <tr style=\"text-align: left;\">\n",
       "      <th>Epoch</th>\n",
       "      <th>Training Loss</th>\n",
       "      <th>Validation Loss</th>\n",
       "    </tr>\n",
       "  </thead>\n",
       "  <tbody>\n",
       "  </tbody>\n",
       "</table><p>"
      ],
      "text/plain": [
       "<IPython.core.display.HTML object>"
      ]
     },
     "metadata": {},
     "output_type": "display_data"
    },
    {
     "data": {
      "text/plain": [
       "TrainOutput(global_step=3350, training_loss=0.0, metrics={'train_runtime': 0.4082, 'train_samples_per_second': 131291.268, 'train_steps_per_second': 8207.235, 'total_flos': 1.4136845312249856e+16, 'train_loss': 0.0, 'epoch': 5.0})"
      ]
     },
     "metadata": {},
     "output_type": "display_data"
    }
   ],
   "source": [
    "trainer.train(resume_from_checkpoint=\"./results/checkpoint-3350\")"
   ]
  },
  {
   "cell_type": "code",
   "execution_count": null,
   "metadata": {},
   "outputs": [
    {
     "name": "stderr",
     "output_type": "stream",
     "text": [
      "huggingface/tokenizers: The current process just got forked, after parallelism has already been used. Disabling parallelism to avoid deadlocks...\n",
      "To disable this warning, you can either:\n",
      "\t- Avoid using `tokenizers` before the fork if possible\n",
      "\t- Explicitly set the environment variable TOKENIZERS_PARALLELISM=(true | false)\n",
      "huggingface/tokenizers: The current process just got forked, after parallelism has already been used. Disabling parallelism to avoid deadlocks...\n",
      "To disable this warning, you can either:\n",
      "\t- Avoid using `tokenizers` before the fork if possible\n",
      "\t- Explicitly set the environment variable TOKENIZERS_PARALLELISM=(true | false)\n"
     ]
    },
    {
     "data": {
      "text/html": [
       "\n",
       "    <div>\n",
       "      \n",
       "      <progress value='2680' max='2680' style='width:300px; height:20px; vertical-align: middle;'></progress>\n",
       "      [2680/2680 01:53]\n",
       "    </div>\n",
       "    "
      ],
      "text/plain": [
       "<IPython.core.display.HTML object>"
      ]
     },
     "metadata": {},
     "output_type": "display_data"
    }
   ],
   "source": [
    "metrics = trainer.evaluate()\n"
   ]
  },
  {
   "cell_type": "code",
   "execution_count": null,
   "metadata": {},
   "outputs": [
    {
     "data": {
      "text/html": [
       "<div>\n",
       "<style scoped>\n",
       "    .dataframe tbody tr th:only-of-type {\n",
       "        vertical-align: middle;\n",
       "    }\n",
       "\n",
       "    .dataframe tbody tr th {\n",
       "        vertical-align: top;\n",
       "    }\n",
       "\n",
       "    .dataframe thead th {\n",
       "        text-align: right;\n",
       "    }\n",
       "</style>\n",
       "<table border=\"1\" class=\"dataframe\">\n",
       "  <thead>\n",
       "    <tr style=\"text-align: right;\">\n",
       "      <th></th>\n",
       "      <th>eval_loss</th>\n",
       "      <th>eval_threshold</th>\n",
       "      <th>eval_micro_precision</th>\n",
       "      <th>eval_micro_recall</th>\n",
       "      <th>eval_micro_f1</th>\n",
       "      <th>eval_hamming_loss</th>\n",
       "      <th>eval_exact_match_accuracy</th>\n",
       "      <th>eval_runtime</th>\n",
       "      <th>eval_samples_per_second</th>\n",
       "      <th>eval_steps_per_second</th>\n",
       "      <th>epoch</th>\n",
       "    </tr>\n",
       "  </thead>\n",
       "  <tbody>\n",
       "    <tr>\n",
       "      <th>0</th>\n",
       "      <td>0.052049</td>\n",
       "      <td>0.99</td>\n",
       "      <td>0.994627</td>\n",
       "      <td>0.777871</td>\n",
       "      <td>0.872996</td>\n",
       "      <td>0.022227</td>\n",
       "      <td>0.564658</td>\n",
       "      <td>115.6827</td>\n",
       "      <td>92.65</td>\n",
       "      <td>23.167</td>\n",
       "      <td>5.0</td>\n",
       "    </tr>\n",
       "  </tbody>\n",
       "</table>\n",
       "</div>"
      ],
      "text/plain": [
       "   eval_loss  eval_threshold  eval_micro_precision  eval_micro_recall  \\\n",
       "0   0.052049            0.99              0.994627           0.777871   \n",
       "\n",
       "   eval_micro_f1  eval_hamming_loss  eval_exact_match_accuracy  eval_runtime  \\\n",
       "0       0.872996           0.022227                   0.564658      115.6827   \n",
       "\n",
       "   eval_samples_per_second  eval_steps_per_second  epoch  \n",
       "0                    92.65                 23.167    5.0  "
      ]
     },
     "metadata": {},
     "output_type": "display_data"
    }
   ],
   "source": [
    "df = pd.DataFrame([metrics])\n",
    "display(df)"
   ]
  },
  {
   "cell_type": "code",
   "execution_count": null,
   "metadata": {},
   "outputs": [
    {
     "data": {
      "text/plain": [
       "('./mon_modele_final/tokenizer_config.json',\n",
       " './mon_modele_final/special_tokens_map.json',\n",
       " './mon_modele_final/vocab.txt',\n",
       " './mon_modele_final/added_tokens.json',\n",
       " './mon_modele_final/tokenizer.json')"
      ]
     },
     "metadata": {},
     "output_type": "display_data"
    }
   ],
   "source": [
    "trainer.save_model(\"./mon_modele_final2\")\n",
    "tokenizer.save_pretrained(\"./mon_modele_final2\")"
   ]
  },
  {
   "cell_type": "markdown",
   "metadata": {},
   "source": [
    "## TEST du modèle"
   ]
  },
  {
   "cell_type": "code",
   "execution_count": 5,
   "metadata": {},
   "outputs": [],
   "source": [
    "text = \"\"\"\n",
    "A 68-year-old man presents with a persistent cough, present for three months, accompanied by increasing shortness of breath when he exerts himself. He also complains of recent lower back pain.\n",
    "He has a significant smoking history, having smoked the equivalent of 40 packs of cigarettes per year. Notably, he reports coughing up sputum tinged with blood on occasion. During the physical examination, \n",
    "the physician observes diminished breath sounds specifically in the lower portion of his right lung. An initial chest X-ray reveals a concerning mass located in the right lower lobe of the lung.\n",
    "To further investigate, a CT scan of the chest is performed. This imaging confirms the presence of a 4-centimeter mass within the right lower lobe. Additionally, \n",
    "the scan reveals enlarged lymph nodes in the region of the lung's hilum (hilar lymphadenopathy). Upon further questioning, the patient admits to experiencing nocturia, characterized by the need to urinate frequently during the night, \n",
    "approximately two to three times per night, over the past six months. He initially attributed this to simply drinking more fluids before bed. He also mentions mild, intermittent lower back pain that sometimes radiates down his right leg. \n",
    "He had previously dismissed this pain as a normal consequence of aging and stiffness. His medical history includes high blood pressure (hypertension), which is currently being managed with medication. An electrocardiogram (ECG) is performed as part of the evaluation. \n",
    "The ECG reveals a left bundle branch block, which is a new finding compared to previous ECG recordings. An echocardiogram shows mild left ventricular hypertrophy. To determine the specific nature of the lung mass and assess the involvement of the lymph nodes, \n",
    "the patient is scheduled for a bronchoscopy with a biopsy. In addition, due to his reported nocturia and lower back pain, \n",
    "a prostate-specific antigen (PSA) test will be performed to evaluate prostate health. A more comprehensive cardiac assessment is planned to further investigate the newly identified left bundle branch block.\n",
    "\"\"\""
   ]
  },
  {
   "cell_type": "code",
   "execution_count": 6,
   "metadata": {},
   "outputs": [
    {
     "data": {
      "text/plain": [
       "\"\\nA 68-year-old man presents with a persistent cough, present for three months, accompanied by increasing shortness of breath when he exerts himself. He also complains of recent lower back pain.\\nHe has a significant smoking history, having smoked the equivalent of 40 packs of cigarettes per year. Notably, he reports coughing up sputum tinged with blood on occasion. During the physical examination, \\nthe physician observes diminished breath sounds specifically in the lower portion of his right lung. An initial chest X-ray reveals a concerning mass located in the right lower lobe of the lung.\\nTo further investigate, a CT scan of the chest is performed. This imaging confirms the presence of a 4-centimeter mass within the right lower lobe. Additionally, \\nthe scan reveals enlarged lymph nodes in the region of the lung's hilum (hilar lymphadenopathy). Upon further questioning, the patient admits to experiencing nocturia, characterized by the need to urinate frequently during the night, \\napproximately two to three times per night, over the past six months. He initially attributed this to simply drinking more fluids before bed. He also mentions mild, intermittent lower back pain that sometimes radiates down his right leg. \\nHe had previously dismissed this pain as a normal consequence of aging and stiffness. His medical history includes high blood pressure (hypertension), which is currently being managed with medication. An electrocardiogram (ECG) is performed as part of the evaluation. \\nThe ECG reveals a left bundle branch block, which is a new finding compared to previous ECG recordings. An echocardiogram shows mild left ventricular hypertrophy. To determine the specific nature of the lung mass and assess the involvement of the lymph nodes, \\nthe patient is scheduled for a bronchoscopy with a biopsy. In addition, due to his reported nocturia and lower back pain, \\na prostate-specific antigen (PSA) test will be performed to evaluate prostate health. A more comprehensive cardiac assessment is planned to further investigate the newly identified left bundle branch block.\\n\""
      ]
     },
     "execution_count": 6,
     "metadata": {},
     "output_type": "execute_result"
    }
   ],
   "source": [
    "text"
   ]
  },
  {
   "cell_type": "code",
   "execution_count": 8,
   "metadata": {},
   "outputs": [],
   "source": [
    "model = AutoModelForSequenceClassification.from_pretrained(\"./mon_modele_final2\")\n",
    "tokenizer = AutoTokenizer.from_pretrained(\"./mon_modele_final2\")"
   ]
  },
  {
   "cell_type": "code",
   "execution_count": 12,
   "metadata": {},
   "outputs": [
    {
     "name": "stdout",
     "output_type": "stream",
     "text": [
      "[False, False, False, True, False, False, False, True, False, False, False, False, False, True, False, False, False, False, False, False, False, False, False, False, False, False]\n"
     ]
    }
   ],
   "source": [
    "# Tokenization\n",
    "inputs = tokenizer(text, return_tensors='pt', truncation=True, padding=True)\n",
    "\n",
    "# Mettre le modèle en mode évaluation\n",
    "model.eval()\n",
    "\n",
    "# Tokenisation\n",
    "inputs = tokenizer(text, return_tensors=\"pt\", truncation=True, padding=True)\n",
    "\n",
    "# Prédiction (désactive le calcul de gradients)\n",
    "with torch.no_grad():\n",
    "    outputs = model(**inputs)\n",
    "    logits = outputs.logits\n",
    "\n",
    "# Appliquer une sigmoïde pour obtenir les probabilités\n",
    "probs = torch.sigmoid(logits)\n",
    "\n",
    "# Seuil pour dire si chaque label est actif ou pas (ici 0.5)\n",
    "predicted_labels = (probs > 0.5).squeeze().bool().tolist()\n",
    "\n",
    "# Affichage\n",
    "print(predicted_labels)"
   ]
  },
  {
   "cell_type": "code",
   "execution_count": 15,
   "metadata": {},
   "outputs": [
    {
     "data": {
      "text/plain": [
       "list"
      ]
     },
     "execution_count": 15,
     "metadata": {},
     "output_type": "execute_result"
    }
   ],
   "source": [
    "type(predicted_labels)"
   ]
  },
  {
   "cell_type": "code",
   "execution_count": 16,
   "metadata": {},
   "outputs": [
    {
     "data": {
      "text/plain": [
       "['C04 – neoplasms',\n",
       " 'C08 – respiratory tract diseases',\n",
       " 'C14 – cardiovascular diseases']"
      ]
     },
     "execution_count": 16,
     "metadata": {},
     "output_type": "execute_result"
    }
   ],
   "source": [
    "import multilabel_preprocessing as mp\n",
    "mp.mesh_labels_from_vector(np.array(predicted_labels))"
   ]
  },
  {
   "cell_type": "markdown",
   "metadata": {},
   "source": [
    "## Autre"
   ]
  },
  {
   "cell_type": "markdown",
   "metadata": {},
   "source": [
    "| Étape                  | Outils                         | Ce que tu fais                            |\n",
    "|------------------------|--------------------------------|--------------------------------------------|\n",
    "| Choix du modèle        | HuggingFace `transformers`     | Utilise un BERT médical pré-entraîné       |\n",
    "| Préparation des données| `datasets`, `tokenizer`        | Tokenisation + conversion des labels       |\n",
    "| Modélisation           | `AutoModelForSequenceClassification` | Déclare une classification multi-label |\n",
    "| Entraînement           | `Trainer`                      | Fine-tuning du modèle sur tes données      |\n",
    "| Évaluation             | `f1_score`, `hamming_loss`     | Calcul des performances globales           |"
   ]
  },
  {
   "cell_type": "code",
   "execution_count": null,
   "metadata": {},
   "outputs": [],
   "source": [
    "raise RuntimeError(\"⛔ Cette cellule ne doit pas être exécutée.\")\n",
    "\n",
    "# Create filesystem object\n",
    "S3_ENDPOINT_URL = \"https://\" + os.environ[\"AWS_S3_ENDPOINT\"]\n",
    "fs = s3fs.S3FileSystem(client_kwargs={'endpoint_url': S3_ENDPOINT_URL})\n",
    "\n",
    "BUCKET_OUT = \"s3://quentin1999/Data_Projet_NLP\"\n",
    "FILE_KEY_OUT_S3 = \"df_target_V3.pkl\"\n",
    "FILE_PATH_OUT_S3 = BUCKET_OUT + \"/\" + FILE_KEY_OUT_S3\n",
    "\n",
    "with fs.open(FILE_PATH_OUT_S3, 'wb') as file_out:\n",
    "    df.to_pickle(file_out)"
   ]
  },
  {
   "cell_type": "code",
   "execution_count": null,
   "metadata": {},
   "outputs": [],
   "source": [
    "raise RuntimeError(\"⛔ Cette cellule ne doit pas être exécutée.\")\n",
    "\n",
    "from transformers import AutoTokenizer, AutoModelForSequenceClassification\n",
    "\n",
    "model = AutoModelForSequenceClassification.from_pretrained(\"./mon_modele_final\")\n",
    "tokenizer = AutoTokenizer.from_pretrained(\"./mon_modele_final\")"
   ]
  },
  {
   "cell_type": "markdown",
   "metadata": {},
   "source": [
    "## Enregistrer le modèle BERT trained"
   ]
  },
  {
   "cell_type": "code",
   "execution_count": null,
   "metadata": {},
   "outputs": [
    {
     "name": "stdout",
     "output_type": "stream",
     "text": [
      "✅ Modèle sauvegardé dans le Vault S3 : s3://quentin1999/Data_Projet_NLP/mon_modele_final.zip\n"
     ]
    }
   ],
   "source": [
    "import shutil\n",
    "import zipfile\n",
    "\n",
    "# === 1. Zippage du dossier ===\n",
    "output_dir = \"./mon_modele_final\"\n",
    "zip_path = \"./mon_modele_final.zip\"\n",
    "shutil.make_archive(base_name=\"mon_modele_final\", format='zip', root_dir=output_dir)\n",
    "\n",
    "# === 2. Envoi vers S3 Vault ===\n",
    "S3_ENDPOINT_URL = \"https://\" + os.environ[\"AWS_S3_ENDPOINT\"]\n",
    "fs = s3fs.S3FileSystem(client_kwargs={'endpoint_url': S3_ENDPOINT_URL})\n",
    "\n",
    "BUCKET_OUT = \"s3://quentin1999/Data_Projet_NLP\"\n",
    "MODEL_ZIP_KEY = \"mon_modele_final.zip\"\n",
    "MODEL_ZIP_PATH_S3 = BUCKET_OUT + \"/\" + MODEL_ZIP_KEY\n",
    "\n",
    "with fs.open(MODEL_ZIP_PATH_S3, 'wb') as f_out:\n",
    "    with open(zip_path, 'rb') as f_in:\n",
    "        shutil.copyfileobj(f_in, f_out)\n",
    "\n",
    "print(\"✅ Modèle sauvegardé dans le Vault S3 :\", MODEL_ZIP_PATH_S3)"
   ]
  },
  {
   "cell_type": "code",
   "execution_count": null,
   "metadata": {},
   "outputs": [],
   "source": [
    "# Téléchargement depuis S3\n",
    "with fs.open(MODEL_ZIP_PATH_S3, 'rb') as f_in:\n",
    "    with open(\"mon_modele_final.zip\", 'wb') as f_out:\n",
    "        shutil.copyfileobj(f_in, f_out)\n",
    "\n",
    "# Dézippage\n",
    "shutil.unpack_archive(\"mon_modele_final.zip\", extract_dir=\"./mon_modele_final\")\n",
    "\n",
    "# Chargement\n",
    "model = AutoModelForSequenceClassification.from_pretrained(\"./mon_modele_final\")\n",
    "tokenizer = AutoTokenizer.from_pretrained(\"./mon_modele_final\")"
   ]
  },
  {
   "cell_type": "code",
   "execution_count": null,
   "metadata": {},
   "outputs": [
    {
     "ename": "NameError",
     "evalue": "name 'X_test' is not defined",
     "output_type": "error",
     "traceback": [
      "\u001b[31m---------------------------------------------------------------------------\u001b[39m\n",
      "\u001b[31mNameError\u001b[39m                                 Traceback (most recent call last)\n",
      "\u001b[36mCell\u001b[39m\u001b[36m \u001b[39m\u001b[32mIn[21]\u001b[39m\u001b[32m, line 10\u001b[39m\n",
      "\u001b[32m      7\u001b[39m model.eval()\n",
      "\u001b[32m      9\u001b[39m \u001b[38;5;66;03m# Exemple si tu as X_test sous forme de textes\u001b[39;00m\n",
      "\u001b[32m---> \u001b[39m\u001b[32m10\u001b[39m \u001b[38;5;28;01mfor\u001b[39;00m batch \u001b[38;5;129;01min\u001b[39;00m tqdm(\u001b[43mX_test\u001b[49m):  \u001b[38;5;66;03m# ou DataLoader, selon ta structure\u001b[39;00m\n",
      "\u001b[32m     11\u001b[39m     inputs = tokenizer(batch, return_tensors=\u001b[33m\"\u001b[39m\u001b[33mpt\u001b[39m\u001b[33m\"\u001b[39m, truncation=\u001b[38;5;28;01mTrue\u001b[39;00m, padding=\u001b[38;5;28;01mTrue\u001b[39;00m).to(model.device)\n",
      "\u001b[32m     12\u001b[39m     \u001b[38;5;28;01mwith\u001b[39;00m torch.no_grad():\n",
      "\n",
      "\u001b[31mNameError\u001b[39m: name 'X_test' is not defined"
     ]
    }
   ],
   "source": [
    "from sklearn.metrics import f1_score, hamming_loss\n",
    "import numpy as np\n",
    "import torch\n",
    "from tqdm import tqdm\n",
    "\n",
    "# 1. Mettre le modèle en mode évaluation\n",
    "model.eval()\n",
    "\n",
    "# Exemple si tu as X_test sous forme de textes\n",
    "for batch in tqdm(X_test):  # ou DataLoader, selon ta structure\n",
    "    inputs = tokenizer(batch, return_tensors=\"pt\", truncation=True, padding=True).to(model.device)\n",
    "    with torch.no_grad():\n",
    "        outputs = model(**inputs)\n",
    "    logits = outputs.logits.cpu().numpy()\n",
    "    y_pred_logits.append(logits)\n",
    "\n",
    "# 3. Empiler les logits et binariser\n",
    "y_pred_logits = np.vstack(y_pred_logits)         # (n_samples, n_classes)\n",
    "y_pred = (y_pred_logits >= 0.5).astype(int)      # Seuil de 0.5 pour binariser\n",
    "\n",
    "# 4. Évaluation (en supposant que y_test_array est déjà binairisé)\n",
    "f1_micro = f1_score(y_test_array, y_pred, average='micro')\n",
    "f1_macro = f1_score(y_test_array, y_pred, average='macro')\n",
    "hamming = hamming_loss(y_test_array, y_pred)\n",
    "\n",
    "print(f\"✅ F1 Micro : {f1_micro:.4f}\")\n",
    "print(f\"✅ F1 Macro : {f1_macro:.4f}\")\n",
    "print(f\"🔁 Hamming Loss : {hamming:.4f}\")"
   ]
  }
 ],
 "metadata": {
  "kernelspec": {
   "display_name": "base",
   "language": "python",
   "name": "python3"
  },
  "language_info": {
   "codemirror_mode": {
    "name": "ipython",
    "version": 3
   },
   "file_extension": ".py",
   "mimetype": "text/x-python",
   "name": "python",
   "nbconvert_exporter": "python",
   "pygments_lexer": "ipython3",
   "version": "3.12.9"
  }
 },
 "nbformat": 4,
 "nbformat_minor": 2
}
