{
 "cells": [
  {
   "cell_type": "markdown",
   "metadata": {},
   "source": [
    "# 0. Demonstration on how to use MultiCaRe dataset\n",
    "Demonstrates how to load and explore the MultiCaRe dataset.Notebook adapted from the MultiCaRe GitHub repository. Illustrates how to load and perform an initial exploration of the MultiCaRe dataset."
   ]
  },
  {
   "cell_type": "code",
   "execution_count": 1,
   "metadata": {},
   "outputs": [],
   "source": [
    "%%capture\n",
    "!pip install multiversity\n",
    "\n",
    "from multiversity.multicare_dataset import MedicalDatasetCreator"
   ]
  },
  {
   "cell_type": "code",
   "execution_count": 2,
   "metadata": {},
   "outputs": [],
   "source": [
    "import os\n",
    "import pandas as pd"
   ]
  },
  {
   "cell_type": "markdown",
   "metadata": {},
   "source": [
    "# 1. Downloading the Whole MultiCaRe Dataset"
   ]
  },
  {
   "cell_type": "code",
   "execution_count": 7,
   "metadata": {},
   "outputs": [
    {
     "data": {
      "text/plain": [
       "'/home/onyxia/projet_NLP'"
      ]
     },
     "execution_count": 7,
     "metadata": {},
     "output_type": "execute_result"
    }
   ],
   "source": [
    "os.chdir(\"/home/onyxia/projet_NLP\")\n",
    "os.getcwd()"
   ]
  },
  {
   "cell_type": "code",
   "execution_count": 8,
   "metadata": {},
   "outputs": [
    {
     "name": "stdout",
     "output_type": "stream",
     "text": [
      "The MultiCaRe Dataset is already downloaded.\n",
      "Importing and pre-processing the main files.\n",
      "Done!\n"
     ]
    }
   ],
   "source": [
    "mdc = MedicalDatasetCreator(directory = 'medical_datasets')"
   ]
  },
  {
   "cell_type": "code",
   "execution_count": 9,
   "metadata": {},
   "outputs": [
    {
     "data": {
      "text/plain": [
       "['PMC1',\n",
       " 'PMC2',\n",
       " 'PMC3',\n",
       " 'PMC4',\n",
       " 'PMC5',\n",
       " 'PMC6',\n",
       " 'PMC7',\n",
       " 'PMC8',\n",
       " 'PMC9',\n",
       " 'abstracts.parquet',\n",
       " 'captions_and_labels.csv',\n",
       " 'case_images.parquet',\n",
       " 'cases.parquet',\n",
       " 'data_dictionary.csv',\n",
       " 'metadata.parquet']"
      ]
     },
     "execution_count": 9,
     "metadata": {},
     "output_type": "execute_result"
    }
   ],
   "source": [
    "sorted(os.listdir('medical_datasets/whole_multicare_dataset'))"
   ]
  },
  {
   "cell_type": "markdown",
   "metadata": {},
   "source": [
    "# 2. Reading of dataset"
   ]
  },
  {
   "cell_type": "code",
   "execution_count": 10,
   "metadata": {},
   "outputs": [
    {
     "data": {
      "text/html": [
       "<div>\n",
       "<style scoped>\n",
       "    .dataframe tbody tr th:only-of-type {\n",
       "        vertical-align: middle;\n",
       "    }\n",
       "\n",
       "    .dataframe tbody tr th {\n",
       "        vertical-align: top;\n",
       "    }\n",
       "\n",
       "    .dataframe thead th {\n",
       "        text-align: right;\n",
       "    }\n",
       "</style>\n",
       "<table border=\"1\" class=\"dataframe\">\n",
       "  <thead>\n",
       "    <tr style=\"text-align: right;\">\n",
       "      <th></th>\n",
       "      <th>file</th>\n",
       "      <th>field</th>\n",
       "      <th>explanation</th>\n",
       "    </tr>\n",
       "  </thead>\n",
       "  <tbody>\n",
       "    <tr>\n",
       "      <th>0</th>\n",
       "      <td>captions_and_labels.csv</td>\n",
       "      <td>file_id</td>\n",
       "      <td>Primary key for each row. Each row contains on...</td>\n",
       "    </tr>\n",
       "    <tr>\n",
       "      <th>1</th>\n",
       "      <td>captions_and_labels.csv</td>\n",
       "      <td>file</td>\n",
       "      <td>Name of the image file. The file path can be d...</td>\n",
       "    </tr>\n",
       "    <tr>\n",
       "      <th>2</th>\n",
       "      <td>captions_and_labels.csv</td>\n",
       "      <td>main_image</td>\n",
       "      <td>Id from the original image (it corresponds to ...</td>\n",
       "    </tr>\n",
       "    <tr>\n",
       "      <th>3</th>\n",
       "      <td>captions_and_labels.csv</td>\n",
       "      <td>image_component</td>\n",
       "      <td>It is 'undivided' if the source image was not ...</td>\n",
       "    </tr>\n",
       "    <tr>\n",
       "      <th>4</th>\n",
       "      <td>captions_and_labels.csv</td>\n",
       "      <td>patient_id</td>\n",
       "      <td>Id of the patient, created combining the PMC o...</td>\n",
       "    </tr>\n",
       "  </tbody>\n",
       "</table>\n",
       "</div>"
      ],
      "text/plain": [
       "                      file            field  \\\n",
       "0  captions_and_labels.csv          file_id   \n",
       "1  captions_and_labels.csv             file   \n",
       "2  captions_and_labels.csv       main_image   \n",
       "3  captions_and_labels.csv  image_component   \n",
       "4  captions_and_labels.csv       patient_id   \n",
       "\n",
       "                                         explanation  \n",
       "0  Primary key for each row. Each row contains on...  \n",
       "1  Name of the image file. The file path can be d...  \n",
       "2  Id from the original image (it corresponds to ...  \n",
       "3  It is 'undivided' if the source image was not ...  \n",
       "4  Id of the patient, created combining the PMC o...  "
      ]
     },
     "execution_count": 10,
     "metadata": {},
     "output_type": "execute_result"
    }
   ],
   "source": [
    "data_dictionary = pd.read_csv('medical_datasets/whole_multicare_dataset/data_dictionary.csv')\n",
    "\n",
    "data_dictionary.head()"
   ]
  },
  {
   "cell_type": "code",
   "execution_count": 11,
   "metadata": {},
   "outputs": [],
   "source": [
    "filters = [{'field': 'min_age', 'string_list': ['18']},\n",
    "           {'field': 'gender', 'string_list': ['Male']},\n",
    "           {'field': 'case_strings', 'string_list': ['tumor', 'cancer', 'carcinoma'], 'operator': 'any'},\n",
    "           {'field': 'caption', 'string_list': ['metastasis', 'tumor', 'mass'], 'operator': 'any'},\n",
    "           {'field': 'label', 'string_list': ['mri', 'head']}]"
   ]
  },
  {
   "cell_type": "code",
   "execution_count": 12,
   "metadata": {},
   "outputs": [
    {
     "name": "stdout",
     "output_type": "stream",
     "text": [
      "The male_brain_tumor_dataset was successfully created!\n"
     ]
    }
   ],
   "source": [
    "mdc.create_dataset(dataset_name = 'male_brain_tumor_dataset', filter_list = filters, dataset_type = 'multimodal')\n"
   ]
  },
  {
   "cell_type": "code",
   "execution_count": 13,
   "metadata": {},
   "outputs": [
    {
     "data": {
      "text/markdown": [
       "**Case PMC10018421_01:**"
      ],
      "text/plain": [
       "<IPython.core.display.Markdown object>"
      ]
     },
     "metadata": {},
     "output_type": "display_data"
    },
    {
     "data": {
      "text/plain": [
       "'Gender: Male'"
      ]
     },
     "metadata": {},
     "output_type": "display_data"
    },
    {
     "data": {
      "text/plain": [
       "'Age: 32.0'"
      ]
     },
     "metadata": {},
     "output_type": "display_data"
    },
    {
     "data": {
      "text/plain": [
       "'Clinical Case:'"
      ]
     },
     "metadata": {},
     "output_type": "display_data"
    },
    {
     "data": {
      "text/plain": [
       "\"A 32-year-old male presented with a history of intermittent headache for 5 months followed by progressive gait disturbances and blurry vision. His medical and family history was insignificant. His physical examination showed ataxia and cerebellar signs including dysmetria and dysdiadochokinesia in the right upper and lower limbs. Decreased visual acuity was noted in both eyes with bilateral papilledema on ophthalmologic exam. The rest of the examination was otherwise normal. Brain MRI revealed a lesion in the right cerebellar hemisphere. The patient underwent a suboccipital craniotomy. During the procedure, frozen sections were misinterpreted as high-grade malignant glioma. The neurosurgeon decided to proceed with subtotal resection because the risks of gross total resection (GTR) outweighed the benefits considering the aggressive nature of the suspected tumor. Adjuvant therapy with a combination of radiotherapy and chemotherapy with temozolomide was initiated. Two years after surgery, the patient complained of reemergence of symptoms including gait disturbance and morning headaches suggestive of increased intracranial pressure. Brain MRI showed a 4.4 x 4.0 cm ill-defined lesion in the right cerebellum with a mixed cystic-solid pattern (shown in <PMC10018421_crn-2023-0015-0001-529741_f1_a_1_4.webp><PMC10018421_crn-2023-0015-0001-529741_f1_b_2_4.webp><PMC10018421_crn-2023-0015-0001-529741_f1_c_3_4.webp><PMC10018421_crn-2023-0015-0001-529741_f1_d_4_4.webp>). Cystic components of the tumor were hypointense on T1- and hyperintense on T2-weighted images, whereas the solid components of the tumor were hypointense or isointense on T1- and slightly hyperintense on T2-weighted images. Gadolinium-enhanced T1-weighted images showed marked enhancement of the cystic walls. The unusual clinical course and radiologic features raised suspicion for a more benign tumor than high-grade glioma. The patient underwent another surgery to alleviate the symptoms and reassess the residual lesion. During this surgery, the frozen sections suggested the diagnosis of PXA; therefore, the neurosurgeon conducted GTR. The histopathological and the immunohistochemical studies confirmed the diagnosis of PXA and eliminated the initial diagnosis as high-grade glioma is not consistent with the histopathological studies' findings. The postoperative follow-up was without complications. The patient was closely monitored thereafter.\""
      ]
     },
     "metadata": {},
     "output_type": "display_data"
    },
    {
     "data": {
      "text/markdown": [
       "**Image:**"
      ],
      "text/plain": [
       "<IPython.core.display.Markdown object>"
      ]
     },
     "metadata": {},
     "output_type": "display_data"
    },
    {
     "data": {
      "image/png": "[encoded data removed]",
      "text/plain": [
       "<IPython.core.display.Image object>"
      ]
     },
     "metadata": {},
     "output_type": "display_data"
    },
    {
     "data": {
      "text/markdown": [
       "**Image Labels:**"
      ],
      "text/plain": [
       "<IPython.core.display.Markdown object>"
      ]
     },
     "metadata": {},
     "output_type": "display_data"
    },
    {
     "data": {
      "text/markdown": [
       "['radiology', 't1', 'head', 'mri', 'mass', 'contrast', 'spin_echo', 'head', 'radiology', 'sagittal', 'mri']"
      ],
      "text/plain": [
       "<IPython.core.display.Markdown object>"
      ]
     },
     "metadata": {},
     "output_type": "display_data"
    },
    {
     "data": {
      "text/markdown": [
       "**Image Caption:**"
      ],
      "text/plain": [
       "<IPython.core.display.Markdown object>"
      ]
     },
     "metadata": {},
     "output_type": "display_data"
    },
    {
     "data": {
      "text/markdown": [
       "Mixed cystic-solid pattern of PXA. MR images show multiple cystic lesions and solid masses located in the right cerebellar hemisphere. B; Coronal view T1-weighted with contrast."
      ],
      "text/plain": [
       "<IPython.core.display.Markdown object>"
      ]
     },
     "metadata": {},
     "output_type": "display_data"
    },
    {
     "data": {
      "text/markdown": [
       "**Citation Information:**"
      ],
      "text/plain": [
       "<IPython.core.display.Markdown object>"
      ]
     },
     "metadata": {},
     "output_type": "display_data"
    },
    {
     "data": {
      "text/plain": [
       "{'pmcid': 'PMC10018421',\n",
       " 'doi': '10.1159/000529741',\n",
       " 'pmid': '36938309',\n",
       " 'title': 'A Recurrent Pleomorphic Xanthoastrocytoma in the Cerebellum in a Young Adult: A Case Report and Review of the Literature',\n",
       " 'year': '2023',\n",
       " 'authors': ['Ruba Aljendi',\n",
       "  'Mohammed Amr Knifaty',\n",
       "  'Mohammed Amin',\n",
       "  'Souliman Diab',\n",
       "  'Muhammad Saleh Ali',\n",
       "  'Zuheir Alshehabi'],\n",
       " 'journal': 'Case Rep Neurol',\n",
       " 'journal_detail': '2023 Feb 17;15(1):54-62.',\n",
       " 'link': 'https://pubmed.ncbi.nlm.nih.gov/36938309/',\n",
       " 'license': 'CC BY-NC'}"
      ]
     },
     "metadata": {},
     "output_type": "display_data"
    }
   ],
   "source": [
    "mdc.display_example(1)"
   ]
  },
  {
   "cell_type": "code",
   "execution_count": 20,
   "metadata": {},
   "outputs": [
    {
     "data": {
      "text/html": [
       "<div>\n",
       "<style scoped>\n",
       "    .dataframe tbody tr th:only-of-type {\n",
       "        vertical-align: middle;\n",
       "    }\n",
       "\n",
       "    .dataframe tbody tr th {\n",
       "        vertical-align: top;\n",
       "    }\n",
       "\n",
       "    .dataframe thead th {\n",
       "        text-align: right;\n",
       "    }\n",
       "</style>\n",
       "<table border=\"1\" class=\"dataframe\">\n",
       "  <thead>\n",
       "    <tr style=\"text-align: right;\">\n",
       "      <th></th>\n",
       "      <th>case_id</th>\n",
       "      <th>pmcid</th>\n",
       "      <th>gender</th>\n",
       "      <th>age</th>\n",
       "      <th>case_text</th>\n",
       "    </tr>\n",
       "  </thead>\n",
       "  <tbody>\n",
       "    <tr>\n",
       "      <th>0</th>\n",
       "      <td>PMC6381877_01</td>\n",
       "      <td>PMC6381877</td>\n",
       "      <td>Male</td>\n",
       "      <td>60.0</td>\n",
       "      <td>A 60-year-old male smoker presented with persi...</td>\n",
       "    </tr>\n",
       "    <tr>\n",
       "      <th>1</th>\n",
       "      <td>PMC5287946_01</td>\n",
       "      <td>PMC5287946</td>\n",
       "      <td>Male</td>\n",
       "      <td>30.0</td>\n",
       "      <td>A 30-year-old man came to Peking Union Medical...</td>\n",
       "    </tr>\n",
       "    <tr>\n",
       "      <th>2</th>\n",
       "      <td>PMC8200619_01</td>\n",
       "      <td>PMC8200619</td>\n",
       "      <td>Male</td>\n",
       "      <td>67.0</td>\n",
       "      <td>A totally bimaxillary edentulous male patient,...</td>\n",
       "    </tr>\n",
       "    <tr>\n",
       "      <th>3</th>\n",
       "      <td>PMC5987309_01</td>\n",
       "      <td>PMC5987309</td>\n",
       "      <td>Male</td>\n",
       "      <td>72.0</td>\n",
       "      <td>A 72-year-old male with a past medical history...</td>\n",
       "    </tr>\n",
       "    <tr>\n",
       "      <th>4</th>\n",
       "      <td>PMC5337835_01</td>\n",
       "      <td>PMC5337835</td>\n",
       "      <td>Male</td>\n",
       "      <td>61.0</td>\n",
       "      <td>The patient is a 61-year-old male with end sta...</td>\n",
       "    </tr>\n",
       "    <tr>\n",
       "      <th>...</th>\n",
       "      <td>...</td>\n",
       "      <td>...</td>\n",
       "      <td>...</td>\n",
       "      <td>...</td>\n",
       "      <td>...</td>\n",
       "    </tr>\n",
       "    <tr>\n",
       "      <th>9829</th>\n",
       "      <td>PMC11792598_01</td>\n",
       "      <td>PMC11792598</td>\n",
       "      <td>Male</td>\n",
       "      <td>77.0</td>\n",
       "      <td>A 77-year-old man was referred to our hospital...</td>\n",
       "    </tr>\n",
       "    <tr>\n",
       "      <th>9830</th>\n",
       "      <td>PMC11818688_02</td>\n",
       "      <td>PMC11818688</td>\n",
       "      <td>Male</td>\n",
       "      <td>59.0</td>\n",
       "      <td>A 59-year-old male presented with a five-day h...</td>\n",
       "    </tr>\n",
       "    <tr>\n",
       "      <th>9831</th>\n",
       "      <td>PMC11818688_03</td>\n",
       "      <td>PMC11818688</td>\n",
       "      <td>Male</td>\n",
       "      <td>44.0</td>\n",
       "      <td>A 44-year-old male with a history that include...</td>\n",
       "    </tr>\n",
       "    <tr>\n",
       "      <th>9832</th>\n",
       "      <td>PMC11740585_01</td>\n",
       "      <td>PMC11740585</td>\n",
       "      <td>Male</td>\n",
       "      <td>45.0</td>\n",
       "      <td>A 45-year-old male was admitted to the First A...</td>\n",
       "    </tr>\n",
       "    <tr>\n",
       "      <th>9833</th>\n",
       "      <td>PMC11693106_01</td>\n",
       "      <td>PMC11693106</td>\n",
       "      <td>Male</td>\n",
       "      <td>69.0</td>\n",
       "      <td>A 69-year-old man received laparoscopic radica...</td>\n",
       "    </tr>\n",
       "  </tbody>\n",
       "</table>\n",
       "<p>9834 rows × 5 columns</p>\n",
       "</div>"
      ],
      "text/plain": [
       "             case_id        pmcid gender   age  \\\n",
       "0      PMC6381877_01   PMC6381877   Male  60.0   \n",
       "1      PMC5287946_01   PMC5287946   Male  30.0   \n",
       "2      PMC8200619_01   PMC8200619   Male  67.0   \n",
       "3      PMC5987309_01   PMC5987309   Male  72.0   \n",
       "4      PMC5337835_01   PMC5337835   Male  61.0   \n",
       "...              ...          ...    ...   ...   \n",
       "9829  PMC11792598_01  PMC11792598   Male  77.0   \n",
       "9830  PMC11818688_02  PMC11818688   Male  59.0   \n",
       "9831  PMC11818688_03  PMC11818688   Male  44.0   \n",
       "9832  PMC11740585_01  PMC11740585   Male  45.0   \n",
       "9833  PMC11693106_01  PMC11693106   Male  69.0   \n",
       "\n",
       "                                              case_text  \n",
       "0     A 60-year-old male smoker presented with persi...  \n",
       "1     A 30-year-old man came to Peking Union Medical...  \n",
       "2     A totally bimaxillary edentulous male patient,...  \n",
       "3     A 72-year-old male with a past medical history...  \n",
       "4     The patient is a 61-year-old male with end sta...  \n",
       "...                                                 ...  \n",
       "9829  A 77-year-old man was referred to our hospital...  \n",
       "9830  A 59-year-old male presented with a five-day h...  \n",
       "9831  A 44-year-old male with a history that include...  \n",
       "9832  A 45-year-old male was admitted to the First A...  \n",
       "9833  A 69-year-old man received laparoscopic radica...  \n",
       "\n",
       "[9834 rows x 5 columns]"
      ]
     },
     "execution_count": 20,
     "metadata": {},
     "output_type": "execute_result"
    }
   ],
   "source": [
    "mdc.case_df"
   ]
  }
 ],
 "metadata": {
  "kernelspec": {
   "display_name": "Python 3",
   "language": "python",
   "name": "python3"
  },
  "language_info": {
   "codemirror_mode": {
    "name": "ipython",
    "version": 3
   },
   "file_extension": ".py",
   "mimetype": "text/x-python",
   "name": "python",
   "nbconvert_exporter": "python",
   "pygments_lexer": "ipython3",
   "version": "3.11.12"
  }
 },
 "nbformat": 4,
 "nbformat_minor": 2
}
