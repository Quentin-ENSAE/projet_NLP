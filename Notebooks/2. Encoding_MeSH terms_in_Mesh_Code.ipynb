{
 "cells": [
  {
   "cell_type": "markdown",
   "metadata": {},
   "source": [
    "# 2. Encoding_MeSH_terms\n",
    "Maps MeSH descriptors to their corresponding high-level chapter categories (C01–C26) to facilitate multi-label classification at the MeSH-C level."
   ]
  },
  {
   "cell_type": "markdown",
   "metadata": {},
   "source": [
    "## Classification Mesh \n",
    "\n",
    "\n",
    "Le MeSH (Medical Subject Headings) est un vocabulaire contrôlé utilisé pour organiser et indexer les articles médicaux. Il est structuré de manière hiérarchique en “arbres” (MeSH trees), où chaque concept est associé à un code unique appelé numéro d’arbre.\n",
    "\n",
    "“Catégorie principale des Maladies nutritionnelles et métaboliques” est ainsi associé au code C14, où “C” représente la catégorie des maladies et “14” spécifie le groupe des maladies nutritionnelles et métaboliques. Cette organisation facilite la navigation du général au spécifique, aidant ainsi les chercheurs à trouver des informations précises.\n",
    "\n",
    "Mais il est aussi d'être plus precis en selectionnant des maladies plus loin dans l'**arborescences**.\n",
    "\n",
    "Par le Diabete de type 1 correspond au code MeSH C18.452.394.750.124 qui se décompose comme suit :\n",
    "\n",
    "*   C : Catégorie des maladies\n",
    "*   C18 : Catégorie principale des Maladies nutritionnelles et métaboliques.\n",
    "*   C18.452 : Sous-catégorie des Maladies métaboliques.\n",
    "*   C18.452.394 : Sous-sous-catégorie des Troubles du métabolisme du glucose.\n",
    "*   C18.452.394.750 : Sous-sous-sous-catégorie du Diabète sucré.\n",
    "*   C18.452.394.750.124 : Terme spécifique pour le Diabète sucré de type 1.\n",
    "\n",
    "Cette hiérarchie reflète l’organisation des termes MeSH, permettant de situer chaque condition médicale dans un contexte plus large et de naviguer efficacement dans les informations médicales."
   ]
  },
  {
   "cell_type": "code",
   "execution_count": 2,
   "metadata": {},
   "outputs": [],
   "source": [
    "import pandas as pd\n",
    "import numpy as np"
   ]
  },
  {
   "cell_type": "code",
   "execution_count": 3,
   "metadata": {},
   "outputs": [],
   "source": [
    "import sys\n",
    "import os\n",
    "\n",
    "# Ajouter le dossier courant au PATH si ce n'est pas déjà fait\n",
    "sys.path.append(os.path.abspath(\".\"))"
   ]
  },
  {
   "cell_type": "code",
   "execution_count": 6,
   "metadata": {},
   "outputs": [
    {
     "data": {
      "text/plain": [
       "'/home/onyxia/projet_NLP'"
      ]
     },
     "execution_count": 6,
     "metadata": {},
     "output_type": "execute_result"
    }
   ],
   "source": [
    "os.chdir(\"/home/onyxia/projet_NLP\")\n",
    "os.getcwd()"
   ]
  },
  {
   "cell_type": "code",
   "execution_count": 7,
   "metadata": {},
   "outputs": [
    {
     "name": "stdout",
     "output_type": "stream",
     "text": [
      "Hello from MeSH!\n"
     ]
    }
   ],
   "source": [
    "from Script import MeSH\n",
    "print(MeSH.Hello())"
   ]
  },
  {
   "cell_type": "markdown",
   "metadata": {},
   "source": [
    "Le dictionnaire est disponible au format XML à cet [URL](https://nlmpubs.nlm.nih.gov/projects/mesh/MESH_FILES/xmlmesh/?_gl=1*1vhz8wv*_ga*MTkwNTMyNjEyOC4xNzM2Njg2Mzcy*_ga_7147EPK006*MTczNzEwNTQ1MS4xMi4xLjE3MzcxMDU4OTMuMC4wLjA.*_ga_P1FPTH9PL4*MTczNzEwNTQ1MS4xNC4xLjE3MzcxMDU4OTMuMC4wLjA)"
   ]
  },
  {
   "cell_type": "code",
   "execution_count": 3,
   "metadata": {},
   "outputs": [
    {
     "name": "stdout",
     "output_type": "stream",
     "text": [
      "Le fichier data/desc2025.xml existe déjà. Pas de téléchargement nécessaire.\n",
      "Fichier XML analysé avec succès : data/desc2025.xml\n"
     ]
    }
   ],
   "source": [
    "import requests\n",
    "\n",
    "# URL et chemin local du fichier XML\n",
    "url_fichier = \"https://nlmpubs.nlm.nih.gov/projects/mesh/MESH_FILES/xmlmesh/desc2025.xml\"\n",
    "chemin_fichier = \"data/desc2025.xml\"  # Nom du fichier local\n",
    "\n",
    "# Vérifier si le fichier existe déjà\n",
    "if not os.path.exists(chemin_fichier):\n",
    "    try:\n",
    "        response = requests.get(url_fichier)\n",
    "        response.raise_for_status()  # Vérifie si la requête a réussi\n",
    "\n",
    "        with open(chemin_fichier, \"wb\") as fichier:\n",
    "            fichier.write(response.content)\n",
    "\n",
    "        print(f\"Fichier téléchargé avec succès : {chemin_fichier}\")\n",
    "    except requests.RequestException as e:\n",
    "        print(f\"Erreur lors du téléchargement du fichier XML : {e}\")\n",
    "        exit(1)  # Arrête l'exécution en cas d'échec\n",
    "else:\n",
    "    print(f\"Le fichier {chemin_fichier} existe déjà. Pas de téléchargement nécessaire.\")\n",
    "\n",
    "# Analyse du fichier téléchargé\n",
    "racine = MeSH.chargement_arbre_mesh(chemin_fichier)"
   ]
  },
  {
   "cell_type": "markdown",
   "metadata": {},
   "source": [
    "## Chargement données"
   ]
  },
  {
   "cell_type": "code",
   "execution_count": 8,
   "metadata": {},
   "outputs": [
    {
     "data": {
      "text/html": [
       "<div>\n",
       "<style scoped>\n",
       "    .dataframe tbody tr th:only-of-type {\n",
       "        vertical-align: middle;\n",
       "    }\n",
       "\n",
       "    .dataframe tbody tr th {\n",
       "        vertical-align: top;\n",
       "    }\n",
       "\n",
       "    .dataframe thead th {\n",
       "        text-align: right;\n",
       "    }\n",
       "</style>\n",
       "<table border=\"1\" class=\"dataframe\">\n",
       "  <thead>\n",
       "    <tr style=\"text-align: right;\">\n",
       "      <th></th>\n",
       "      <th>pmcid</th>\n",
       "      <th>title</th>\n",
       "      <th>gender</th>\n",
       "      <th>case_text</th>\n",
       "      <th>keywords</th>\n",
       "      <th>major_mesh_terms</th>\n",
       "      <th>mesh_terms</th>\n",
       "      <th>journal</th>\n",
       "      <th>doi</th>\n",
       "    </tr>\n",
       "  </thead>\n",
       "  <tbody>\n",
       "    <tr>\n",
       "      <th>0</th>\n",
       "      <td>PMC5287946</td>\n",
       "      <td>Malignant adenohypophysis spindle cell oncocyt...</td>\n",
       "      <td>Male</td>\n",
       "      <td>A 30-year-old man came to Peking Union Medical...</td>\n",
       "      <td>None</td>\n",
       "      <td>[Adenoma, Oxyphilic / pathology, Ki-67 Antigen...</td>\n",
       "      <td>[Adenoma, Oxyphilic / pathology, Ki-67 Antigen...</td>\n",
       "      <td>Medicine (Baltimore)</td>\n",
       "      <td>10.1097/MD.0000000000005657</td>\n",
       "    </tr>\n",
       "    <tr>\n",
       "      <th>1</th>\n",
       "      <td>PMC3678730</td>\n",
       "      <td>Misclassification of pregnancy-related deaths ...</td>\n",
       "      <td>Female</td>\n",
       "      <td>For each death, the DSS has systematically rec...</td>\n",
       "      <td>None</td>\n",
       "      <td>[Cause of Death, Data Collection / standards, ...</td>\n",
       "      <td>[Cause of Death, Data Collection / standards, ...</td>\n",
       "      <td>Trop Med Int Health</td>\n",
       "      <td>10.1111/tmi.12012</td>\n",
       "    </tr>\n",
       "    <tr>\n",
       "      <th>2</th>\n",
       "      <td>PMC7201103</td>\n",
       "      <td>Gender Differences in Patients With COVID-19: ...</td>\n",
       "      <td>Female</td>\n",
       "      <td>The demographic and clinical characteristics a...</td>\n",
       "      <td>[covid-19, sars, sars-cov-2, female, gender, m...</td>\n",
       "      <td>[COVID-19 / epidemiology, COVID-19 / mortality...</td>\n",
       "      <td>[COVID-19 / epidemiology, COVID-19 / mortality...</td>\n",
       "      <td>Front Public Health</td>\n",
       "      <td>10.3389/fpubh.2020.00152</td>\n",
       "    </tr>\n",
       "  </tbody>\n",
       "</table>\n",
       "</div>"
      ],
      "text/plain": [
       "        pmcid                                              title  gender  \\\n",
       "0  PMC5287946  Malignant adenohypophysis spindle cell oncocyt...    Male   \n",
       "1  PMC3678730  Misclassification of pregnancy-related deaths ...  Female   \n",
       "2  PMC7201103  Gender Differences in Patients With COVID-19: ...  Female   \n",
       "\n",
       "                                           case_text  \\\n",
       "0  A 30-year-old man came to Peking Union Medical...   \n",
       "1  For each death, the DSS has systematically rec...   \n",
       "2  The demographic and clinical characteristics a...   \n",
       "\n",
       "                                            keywords  \\\n",
       "0                                               None   \n",
       "1                                               None   \n",
       "2  [covid-19, sars, sars-cov-2, female, gender, m...   \n",
       "\n",
       "                                    major_mesh_terms  \\\n",
       "0  [Adenoma, Oxyphilic / pathology, Ki-67 Antigen...   \n",
       "1  [Cause of Death, Data Collection / standards, ...   \n",
       "2  [COVID-19 / epidemiology, COVID-19 / mortality...   \n",
       "\n",
       "                                          mesh_terms               journal  \\\n",
       "0  [Adenoma, Oxyphilic / pathology, Ki-67 Antigen...  Medicine (Baltimore)   \n",
       "1  [Cause of Death, Data Collection / standards, ...   Trop Med Int Health   \n",
       "2  [COVID-19 / epidemiology, COVID-19 / mortality...   Front Public Health   \n",
       "\n",
       "                           doi  \n",
       "0  10.1097/MD.0000000000005657  \n",
       "1            10.1111/tmi.12012  \n",
       "2     10.3389/fpubh.2020.00152  "
      ]
     },
     "execution_count": 8,
     "metadata": {},
     "output_type": "execute_result"
    }
   ],
   "source": [
    "df = pd.read_parquet('data/df_final.pkl')\n",
    "df.head(3)"
   ]
  },
  {
   "cell_type": "code",
   "execution_count": 9,
   "metadata": {},
   "outputs": [
    {
     "name": "stdout",
     "output_type": "stream",
     "text": [
      "<class 'numpy.ndarray'>\n",
      "<class 'dict'>\n",
      "{'therapy': {'Arteriovenous Fistula', 'Intracranial Arteriovenous Malformations'}, 'pathology': {'Cavernous Sinus', 'Carotid Artery, Internal'}, 'complications': {'Ehlers-Danlos Syndrome'}, 'methods': {'Embolization, Therapeutic', 'Endovascular Procedures'}}\n"
     ]
    }
   ],
   "source": [
    "print(type(df.major_mesh_terms[4]))\n",
    "print(type(MeSH.list_to_dict(df.major_mesh_terms[4])))\n",
    "print(MeSH.list_to_dict(df.major_mesh_terms[4]))"
   ]
  },
  {
   "cell_type": "code",
   "execution_count": 6,
   "metadata": {},
   "outputs": [
    {
     "data": {
      "text/html": [
       "<div>\n",
       "<style scoped>\n",
       "    .dataframe tbody tr th:only-of-type {\n",
       "        vertical-align: middle;\n",
       "    }\n",
       "\n",
       "    .dataframe tbody tr th {\n",
       "        vertical-align: top;\n",
       "    }\n",
       "\n",
       "    .dataframe thead th {\n",
       "        text-align: right;\n",
       "    }\n",
       "</style>\n",
       "<table border=\"1\" class=\"dataframe\">\n",
       "  <thead>\n",
       "    <tr style=\"text-align: right;\">\n",
       "      <th></th>\n",
       "      <th>pmcid</th>\n",
       "      <th>title</th>\n",
       "      <th>gender</th>\n",
       "      <th>case_text</th>\n",
       "      <th>keywords</th>\n",
       "      <th>major_mesh_terms</th>\n",
       "      <th>mesh_terms</th>\n",
       "      <th>journal</th>\n",
       "      <th>doi</th>\n",
       "      <th>dict_mesh</th>\n",
       "    </tr>\n",
       "  </thead>\n",
       "  <tbody>\n",
       "    <tr>\n",
       "      <th>0</th>\n",
       "      <td>PMC5287946</td>\n",
       "      <td>Malignant adenohypophysis spindle cell oncocyt...</td>\n",
       "      <td>Male</td>\n",
       "      <td>A 30-year-old man came to Peking Union Medical...</td>\n",
       "      <td>None</td>\n",
       "      <td>[Adenoma, Oxyphilic / pathology, Ki-67 Antigen...</td>\n",
       "      <td>[Adenoma, Oxyphilic / pathology, Ki-67 Antigen...</td>\n",
       "      <td>Medicine (Baltimore)</td>\n",
       "      <td>10.1097/MD.0000000000005657</td>\n",
       "      <td>{'pathology': {'Pituitary Gland, Anterior', 'P...</td>\n",
       "    </tr>\n",
       "    <tr>\n",
       "      <th>1</th>\n",
       "      <td>PMC3678730</td>\n",
       "      <td>Misclassification of pregnancy-related deaths ...</td>\n",
       "      <td>Female</td>\n",
       "      <td>For each death, the DSS has systematically rec...</td>\n",
       "      <td>None</td>\n",
       "      <td>[Cause of Death, Data Collection / standards, ...</td>\n",
       "      <td>[Cause of Death, Data Collection / standards, ...</td>\n",
       "      <td>Trop Med Int Health</td>\n",
       "      <td>10.1111/tmi.12012</td>\n",
       "      <td>{'No Qualifier': {'Mortality', 'Cause of Death...</td>\n",
       "    </tr>\n",
       "    <tr>\n",
       "      <th>2</th>\n",
       "      <td>PMC7201103</td>\n",
       "      <td>Gender Differences in Patients With COVID-19: ...</td>\n",
       "      <td>Female</td>\n",
       "      <td>The demographic and clinical characteristics a...</td>\n",
       "      <td>[covid-19, sars, sars-cov-2, female, gender, m...</td>\n",
       "      <td>[COVID-19 / epidemiology, COVID-19 / mortality...</td>\n",
       "      <td>[COVID-19 / epidemiology, COVID-19 / mortality...</td>\n",
       "      <td>Front Public Health</td>\n",
       "      <td>10.3389/fpubh.2020.00152</td>\n",
       "      <td>{'epidemiology': {'COVID-19', 'Severe Acute Re...</td>\n",
       "    </tr>\n",
       "    <tr>\n",
       "      <th>3</th>\n",
       "      <td>PMC4108191</td>\n",
       "      <td>Acute pulmonary embolism caused by enlarged ut...</td>\n",
       "      <td>Female</td>\n",
       "      <td>A 42-year-old, non-smoking, virgin woman prese...</td>\n",
       "      <td>[echocardiography, leiomyoma, pulmonary emboli...</td>\n",
       "      <td>[Pulmonary Embolism / etiology, Uterine Neopla...</td>\n",
       "      <td>[Pulmonary Embolism / etiology, Uterine Neopla...</td>\n",
       "      <td>Am J Case Rep</td>\n",
       "      <td>10.12659/AJCR.890607</td>\n",
       "      <td>{'etiology': {'Pulmonary Embolism'}, 'complica...</td>\n",
       "    </tr>\n",
       "    <tr>\n",
       "      <th>4</th>\n",
       "      <td>PMC4508704</td>\n",
       "      <td>Transvenous embolization for carotid-cavernous...</td>\n",
       "      <td>Female</td>\n",
       "      <td>The patient was a 37-year-old woman with a his...</td>\n",
       "      <td>None</td>\n",
       "      <td>[Arteriovenous Fistula / therapy, Carotid Arte...</td>\n",
       "      <td>[Arteriovenous Fistula / therapy, Carotid Arte...</td>\n",
       "      <td>Neurol Med Chir (Tokyo)</td>\n",
       "      <td>10.2176/nmc.cr.2013-0007</td>\n",
       "      <td>{'therapy': {'Arteriovenous Fistula', 'Intracr...</td>\n",
       "    </tr>\n",
       "  </tbody>\n",
       "</table>\n",
       "</div>"
      ],
      "text/plain": [
       "        pmcid                                              title  gender  \\\n",
       "0  PMC5287946  Malignant adenohypophysis spindle cell oncocyt...    Male   \n",
       "1  PMC3678730  Misclassification of pregnancy-related deaths ...  Female   \n",
       "2  PMC7201103  Gender Differences in Patients With COVID-19: ...  Female   \n",
       "3  PMC4108191  Acute pulmonary embolism caused by enlarged ut...  Female   \n",
       "4  PMC4508704  Transvenous embolization for carotid-cavernous...  Female   \n",
       "\n",
       "                                           case_text  \\\n",
       "0  A 30-year-old man came to Peking Union Medical...   \n",
       "1  For each death, the DSS has systematically rec...   \n",
       "2  The demographic and clinical characteristics a...   \n",
       "3  A 42-year-old, non-smoking, virgin woman prese...   \n",
       "4  The patient was a 37-year-old woman with a his...   \n",
       "\n",
       "                                            keywords  \\\n",
       "0                                               None   \n",
       "1                                               None   \n",
       "2  [covid-19, sars, sars-cov-2, female, gender, m...   \n",
       "3  [echocardiography, leiomyoma, pulmonary emboli...   \n",
       "4                                               None   \n",
       "\n",
       "                                    major_mesh_terms  \\\n",
       "0  [Adenoma, Oxyphilic / pathology, Ki-67 Antigen...   \n",
       "1  [Cause of Death, Data Collection / standards, ...   \n",
       "2  [COVID-19 / epidemiology, COVID-19 / mortality...   \n",
       "3  [Pulmonary Embolism / etiology, Uterine Neopla...   \n",
       "4  [Arteriovenous Fistula / therapy, Carotid Arte...   \n",
       "\n",
       "                                          mesh_terms                  journal  \\\n",
       "0  [Adenoma, Oxyphilic / pathology, Ki-67 Antigen...     Medicine (Baltimore)   \n",
       "1  [Cause of Death, Data Collection / standards, ...      Trop Med Int Health   \n",
       "2  [COVID-19 / epidemiology, COVID-19 / mortality...      Front Public Health   \n",
       "3  [Pulmonary Embolism / etiology, Uterine Neopla...            Am J Case Rep   \n",
       "4  [Arteriovenous Fistula / therapy, Carotid Arte...  Neurol Med Chir (Tokyo)   \n",
       "\n",
       "                           doi  \\\n",
       "0  10.1097/MD.0000000000005657   \n",
       "1            10.1111/tmi.12012   \n",
       "2     10.3389/fpubh.2020.00152   \n",
       "3         10.12659/AJCR.890607   \n",
       "4     10.2176/nmc.cr.2013-0007   \n",
       "\n",
       "                                           dict_mesh  \n",
       "0  {'pathology': {'Pituitary Gland, Anterior', 'P...  \n",
       "1  {'No Qualifier': {'Mortality', 'Cause of Death...  \n",
       "2  {'epidemiology': {'COVID-19', 'Severe Acute Re...  \n",
       "3  {'etiology': {'Pulmonary Embolism'}, 'complica...  \n",
       "4  {'therapy': {'Arteriovenous Fistula', 'Intracr...  "
      ]
     },
     "execution_count": 6,
     "metadata": {},
     "output_type": "execute_result"
    }
   ],
   "source": [
    "df['dict_mesh'] = df.major_mesh_terms.apply(MeSH.list_to_dict)\n",
    "df.head()"
   ]
  },
  {
   "cell_type": "markdown",
   "metadata": {},
   "source": [
    "## Extraction Code MeSH"
   ]
  },
  {
   "cell_type": "code",
   "execution_count": 7,
   "metadata": {},
   "outputs": [],
   "source": [
    "import multilabel_preprocessing as mp\n",
    "from tqdm import tqdm\n",
    "tqdm.pandas()  # Pour que apply() affiche une barre de progression"
   ]
  },
  {
   "cell_type": "code",
   "execution_count": 8,
   "metadata": {},
   "outputs": [],
   "source": [
    "# J AI COPIE CE CODE SOUS \"\"\"VERSION CACHED\"\"\" DANS LE FICHIER MESH --> POSSIBILITE D'UTILISER DIRECTEMENT CES FONCTIONS\n",
    "\n",
    "from functools import lru_cache\n",
    "\n",
    "@lru_cache(maxsize=None)\n",
    "def rechercher_descripteur_cached(terme, racine):\n",
    "    return MeSH.recherche_descripteur(racine, terme, format_reponse='numero_mesh')\n",
    "\n",
    "\n",
    "def extraire_codes_disease_C_cached(dict_mesh_ligne, racine):\n",
    "    \"\"\"\n",
    "    Version optimisée avec cache + rapide + propre.\n",
    "    \"\"\"\n",
    "    codes = set()\n",
    "\n",
    "    if not isinstance(dict_mesh_ligne, dict):\n",
    "        return []\n",
    "\n",
    "    for termes in dict_mesh_ligne.values():\n",
    "        for terme in termes:\n",
    "            list_mesh = rechercher_descripteur_cached(terme, racine)\n",
    "            if list_mesh:\n",
    "                for item in list_mesh:\n",
    "                    if item.startswith(\"C\") and len(item) > 2:\n",
    "                        code = item[1:3]\n",
    "                        if code.isdigit():\n",
    "                            codes.add(code)\n",
    "\n",
    "    return sorted(codes)"
   ]
  },
  {
   "cell_type": "code",
   "execution_count": 9,
   "metadata": {},
   "outputs": [
    {
     "data": {
      "text/html": [
       "<div>\n",
       "<style scoped>\n",
       "    .dataframe tbody tr th:only-of-type {\n",
       "        vertical-align: middle;\n",
       "    }\n",
       "\n",
       "    .dataframe tbody tr th {\n",
       "        vertical-align: top;\n",
       "    }\n",
       "\n",
       "    .dataframe thead th {\n",
       "        text-align: right;\n",
       "    }\n",
       "</style>\n",
       "<table border=\"1\" class=\"dataframe\">\n",
       "  <thead>\n",
       "    <tr style=\"text-align: right;\">\n",
       "      <th></th>\n",
       "      <th>pmcid</th>\n",
       "      <th>title</th>\n",
       "      <th>gender</th>\n",
       "      <th>case_text</th>\n",
       "      <th>keywords</th>\n",
       "      <th>major_mesh_terms</th>\n",
       "      <th>mesh_terms</th>\n",
       "      <th>journal</th>\n",
       "      <th>doi</th>\n",
       "      <th>dict_mesh</th>\n",
       "    </tr>\n",
       "  </thead>\n",
       "  <tbody>\n",
       "    <tr>\n",
       "      <th>0</th>\n",
       "      <td>PMC5287946</td>\n",
       "      <td>Malignant adenohypophysis spindle cell oncocyt...</td>\n",
       "      <td>Male</td>\n",
       "      <td>A 30-year-old man came to Peking Union Medical...</td>\n",
       "      <td>None</td>\n",
       "      <td>[Adenoma, Oxyphilic / pathology, Ki-67 Antigen...</td>\n",
       "      <td>[Adenoma, Oxyphilic / pathology, Ki-67 Antigen...</td>\n",
       "      <td>Medicine (Baltimore)</td>\n",
       "      <td>10.1097/MD.0000000000005657</td>\n",
       "      <td>{'pathology': {'Pituitary Gland, Anterior', 'P...</td>\n",
       "    </tr>\n",
       "  </tbody>\n",
       "</table>\n",
       "</div>"
      ],
      "text/plain": [
       "        pmcid                                              title gender  \\\n",
       "0  PMC5287946  Malignant adenohypophysis spindle cell oncocyt...   Male   \n",
       "\n",
       "                                           case_text keywords  \\\n",
       "0  A 30-year-old man came to Peking Union Medical...     None   \n",
       "\n",
       "                                    major_mesh_terms  \\\n",
       "0  [Adenoma, Oxyphilic / pathology, Ki-67 Antigen...   \n",
       "\n",
       "                                          mesh_terms               journal  \\\n",
       "0  [Adenoma, Oxyphilic / pathology, Ki-67 Antigen...  Medicine (Baltimore)   \n",
       "\n",
       "                           doi  \\\n",
       "0  10.1097/MD.0000000000005657   \n",
       "\n",
       "                                           dict_mesh  \n",
       "0  {'pathology': {'Pituitary Gland, Anterior', 'P...  "
      ]
     },
     "execution_count": 9,
     "metadata": {},
     "output_type": "execute_result"
    }
   ],
   "source": [
    "df2 = df.copy(deep=True)\n",
    "df2.head(1)"
   ]
  },
  {
   "cell_type": "code",
   "execution_count": 10,
   "metadata": {},
   "outputs": [
    {
     "name": "stderr",
     "output_type": "stream",
     "text": [
      "100%|██████████| 10718/10718 [11:26<00:00, 15.61it/s]\n"
     ]
    }
   ],
   "source": [
    "#raise RuntimeError(\"⛔ Cette cellule ne doit pas être exécutée.\")\n",
    "\n",
    "# Application ligne par ligne avec racine et objet MeSH passés comme arguments\n",
    "df2[\"codes_mesh_extraits\"] = df2[\"dict_mesh\"].progress_apply(lambda x: extraire_codes_disease_C_cached(x, racine))"
   ]
  },
  {
   "cell_type": "code",
   "execution_count": 11,
   "metadata": {},
   "outputs": [],
   "source": [
    "df2[\"target\"] = df2[\"codes_mesh_extraits\"].apply(lambda x: mp.vectorizer(x))"
   ]
  },
  {
   "cell_type": "code",
   "execution_count": null,
   "metadata": {},
   "outputs": [],
   "source": [
    "#raise RuntimeError(\"⛔ Cette cellule ne doit pas être exécutée.\")\n",
    "df2.to_pickle(\"data/df_target_V2.pkl\")"
   ]
  },
  {
   "cell_type": "code",
   "execution_count": 15,
   "metadata": {},
   "outputs": [
    {
     "name": "stdout",
     "output_type": "stream",
     "text": [
      "train size (9646, 12)\n",
      "test size (1072, 12)\n"
     ]
    }
   ],
   "source": [
    "from sklearn.model_selection import train_test_split\n",
    "\n",
    "df = pd.read_pickle(\"data/df_target_V2.pkl\")\n",
    "\n",
    "# Split the dataset, create X (features) and y (target), print the size\n",
    "data_train, data_test = train_test_split(df ,test_size=0.10, random_state=42)\n",
    "\n",
    "print ('train size',data_train.shape)\n",
    "print ('test size', data_test.shape)\n",
    "\n"
   ]
  },
  {
   "cell_type": "code",
   "execution_count": 16,
   "metadata": {},
   "outputs": [],
   "source": [
    "data_train.to_pickle(\"data/df_train.pkl\")\n",
    "data_test.to_pickle(\"data/df_test.pkl\")"
   ]
  }
 ],
 "metadata": {
  "kernelspec": {
   "display_name": "Python 3",
   "language": "python",
   "name": "python3"
  },
  "language_info": {
   "codemirror_mode": {
    "name": "ipython",
    "version": 3
   },
   "file_extension": ".py",
   "mimetype": "text/x-python",
   "name": "python",
   "nbconvert_exporter": "python",
   "pygments_lexer": "ipython3",
   "version": "3.11.12"
  }
 },
 "nbformat": 4,
 "nbformat_minor": 2
}
