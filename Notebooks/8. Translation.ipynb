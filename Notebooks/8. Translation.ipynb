{
 "cells": [
  {
   "cell_type": "markdown",
   "id": "29eb0f57",
   "metadata": {},
   "source": [
    "# 8. Translation into French of English clinical cases\n",
    "\n",
    "Extraction of clinical cases from data_train & data_test to be translated in French\n",
    "* This notebook were just used to select a small portion of clinical cases from the english train & test sets\n",
    "* The translation was then made using Google translate (included in Google Sheet)"
   ]
  },
  {
   "cell_type": "code",
   "execution_count": 19,
   "id": "1e7ae26b",
   "metadata": {},
   "outputs": [],
   "source": [
    "import os\n",
    "import pandas as pd\n",
    "import numpy as np"
   ]
  },
  {
   "cell_type": "code",
   "execution_count": 20,
   "id": "c66b8354",
   "metadata": {},
   "outputs": [
    {
     "data": {
      "text/plain": [
       "'/home/onyxia/work/projet_NLP'"
      ]
     },
     "execution_count": 20,
     "metadata": {},
     "output_type": "execute_result"
    }
   ],
   "source": [
    "os.chdir(\"/home/onyxia/work/projet_NLP\")\n",
    "os.getcwd()"
   ]
  },
  {
   "cell_type": "code",
   "execution_count": 23,
   "id": "896281ce",
   "metadata": {},
   "outputs": [
    {
     "name": "stdout",
     "output_type": "stream",
     "text": [
      "(9646, 12)\n",
      "(1072, 12)\n"
     ]
    }
   ],
   "source": [
    "data_train = pd.read_pickle(\"data/df_train.pkl\")\n",
    "data_test = pd.read_pickle(\"data/df_test.pkl\")\n",
    "\n",
    "print(data_train.shape)\n",
    "print(data_test.shape)"
   ]
  },
  {
   "cell_type": "code",
   "execution_count": 24,
   "id": "c5568058",
   "metadata": {},
   "outputs": [],
   "source": [
    "sample_train = data_train.sample(167, random_state=42)\n",
    "sample_test = data_test.sample(300, random_state=42)"
   ]
  },
  {
   "cell_type": "code",
   "execution_count": 25,
   "id": "3e393ae2",
   "metadata": {},
   "outputs": [
    {
     "name": "stdout",
     "output_type": "stream",
     "text": [
      "ficher sample_test créé avec succès\n",
      "(167, 12)\n",
      "(300, 12)\n"
     ]
    }
   ],
   "source": [
    "if not os.path.exists(\"data/Translated/train_trans_fr.csv\"):\n",
    "    sample_train.to_csv(\"data/Translated/train_trans_fr.csv\")\n",
    "    print(\"ficher sample_train créé avec succès\")\n",
    "if not os.path.exists(\"data/Translated/test_trans_fr.csv\"):\n",
    "    sample_test.to_csv(\"data/Translated/test_trans_fr.csv\")\n",
    "    print(\"ficher sample_test créé avec succès\")\n",
    "\n",
    "print(sample_train.shape)\n",
    "print(sample_test.shape)"
   ]
  }
 ],
 "metadata": {
  "kernelspec": {
   "display_name": "Python 3",
   "language": "python",
   "name": "python3"
  },
  "language_info": {
   "codemirror_mode": {
    "name": "ipython",
    "version": 3
   },
   "file_extension": ".py",
   "mimetype": "text/x-python",
   "name": "python",
   "nbconvert_exporter": "python",
   "pygments_lexer": "ipython3",
   "version": "3.12.9"
  }
 },
 "nbformat": 4,
 "nbformat_minor": 5
}
