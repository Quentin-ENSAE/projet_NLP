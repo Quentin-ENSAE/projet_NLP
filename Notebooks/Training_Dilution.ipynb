{
 "cells": [
  {
   "cell_type": "code",
   "execution_count": 1,
   "metadata": {},
   "outputs": [],
   "source": [
    "import sys\n",
    "import os\n",
    "\n",
    "# Ajoute le dossier projet_NLP/ dans le path\n",
    "sys.path.append(os.path.abspath(os.path.join(os.getcwd(), '..')))\n",
    "\n",
    "# Maintenant tu peux importer proprement\n",
    "from Script import multilabel_preprocessing as mp\n",
    "\n",
    "import pandas as pd\n",
    "import numpy as np\n",
    "import matplotlib.pyplot as plt\n",
    "from tqdm import tqdm  # Barre de progression pour Jupyter\n",
    "pd.set_option('display.max_colwidth', None)"
   ]
  },
  {
   "cell_type": "code",
   "execution_count": 2,
   "metadata": {},
   "outputs": [
    {
     "data": {
      "text/plain": [
       "'/home/onyxia/work/projet_NLP/Notebooks'"
      ]
     },
     "execution_count": 2,
     "metadata": {},
     "output_type": "execute_result"
    }
   ],
   "source": [
    "os.getcwd()"
   ]
  },
  {
   "cell_type": "code",
   "execution_count": 3,
   "metadata": {},
   "outputs": [
    {
     "name": "stdout",
     "output_type": "stream",
     "text": [
      "fichier df chargé\n"
     ]
    }
   ],
   "source": [
    "if os.path.exists(\"../data/df_target_VF.pkl\"):\n",
    "    df = pd.read_pickle('../data/df_target_VF.pkl')\n",
    "    print(\"fichier df chargé\")\n",
    "\n",
    "if os.path.exists(\"../data/df_metadata\"):\n",
    "    df_metadata = pd.read_parquet('../data/df_metadata')\n",
    "    print(\"fichier df_metadata chargé\")"
   ]
  },
  {
   "cell_type": "code",
   "execution_count": 4,
   "metadata": {},
   "outputs": [
    {
     "name": "stdout",
     "output_type": "stream",
     "text": [
      "nombre cas sans code MeSH catégorie 'disease' : (0, 12)\n"
     ]
    }
   ],
   "source": [
    "MeSH_vides = df[df['target'].apply(lambda x: not any(x))]\n",
    "print(\"nombre cas sans code MeSH catégorie 'disease' :\", MeSH_vides.shape)\n",
    "\n",
    "df = df.drop(MeSH_vides.index)"
   ]
  },
  {
   "cell_type": "code",
   "execution_count": 5,
   "metadata": {},
   "outputs": [
    {
     "data": {
      "text/plain": [
       "count    10051.000000\n",
       "mean      3502.605114\n",
       "std       2399.441600\n",
       "min        145.000000\n",
       "25%       2004.500000\n",
       "50%       3012.000000\n",
       "75%       4343.000000\n",
       "max      60512.000000\n",
       "Name: case_text, dtype: float64"
      ]
     },
     "execution_count": 5,
     "metadata": {},
     "output_type": "execute_result"
    }
   ],
   "source": [
    "df['case_text'].str.len().describe()"
   ]
  },
  {
   "cell_type": "code",
   "execution_count": 6,
   "metadata": {},
   "outputs": [],
   "source": [
    "#df_sample = df[df['case_text'].str.len() < 5000]\n",
    "#df_sample.shape"
   ]
  },
  {
   "cell_type": "code",
   "execution_count": 7,
   "metadata": {},
   "outputs": [
    {
     "data": {
      "text/plain": [
       "(0, 12)"
      ]
     },
     "execution_count": 7,
     "metadata": {},
     "output_type": "execute_result"
    }
   ],
   "source": [
    "df[df['target'].apply(lambda x: any(x)) == False].shape"
   ]
  },
  {
   "cell_type": "code",
   "execution_count": 8,
   "metadata": {},
   "outputs": [
    {
     "name": "stdout",
     "output_type": "stream",
     "text": [
      "The case reports of patients with brain metastases secondary to NSCLC treated with gefitinib as part of the compassionate-use programme have recently been reported as published case studies, at the World Conference on Lung Cancer 2003, at the American Society of Clinical Oncology 2003 conference and at the 'Iressa' Clinical Experience (ICE) meeting (Awada, ICE abs; Cappuzzo [a & b], ICE abs; Dieriks, ICE abs; Stein, ICE abs; de la Cruz [a & b], ICE abs; Maione, ICE abs; Martinez, ICE abs; Diaz-Canton, ICE abs; van der Kamp, ICE abs; van Zandwijk [b], ICE abs; Petruzelka [a], ICE abs; Azemar, ICE abs; Roggero, ICE abs; Kowalski, ICE abs; Martin-Algarra, ICE abs; Pavlakis, ICE abs). (See appendix for ICE abstracts). Together, these case reports suggest that gefitinib has activity in NSCLC brain metastases. The results of published case series are shown in Table 1 .\n",
      "Most notable are the cases with a complete remission of brain metastases. In the largest case series that included 27 patients who had asymptomatic or symptomatic brain metastases, two of 20 evaluable patients had a response in the brain, with complete remission in one patient. In another case series described in two separate publications by Cappuzzo et al, eight patients with NSCLC and brain metastases were treated with gefitinib (; [a & b] ICE abs). One patient had a complete response and seven had partial responses in the brain, all within 3 months of treatment. The complete response in the brain was observed 6 weeks after treatment with gefitinib started in a patient who had completed whole-brain radiotherapy 3 months prior to the beginning of gefitinib (Figure 1). All eight patients experienced improvements in neurological and systemic symptoms.\n",
      " described the case report of a patient who had achieved a complete response in the brain following treatment with gefitinib. This particular patient was diagnosed in July 1999 with stage IV adenocarcinoma of the left lung. In March 2001, after treatment with three different chemotherapy regimens, asymptomatic brain metastases were detected and subsequently treated with whole-brain radiotherapy. However, by October 2001 the patient's condition had deteriorated, with progressive brain metastases, and the patient was readmitted to hospital. Treatment with gefitinib started in November 2001 after which computed tomography scans showed that brain metastases had disappeared and that there was a marked regression of the lung tumour. The patient was then discharged in December 2001 and was able to resume full-time work for nearly 8 months. Two other published case reports also describe patients whose brain metastases responded to treatment. In all three of these cases, patients had worsening neurological symptoms and deteriorating performance status before treatment with gefitinib. Following treatment, a significant clinical improvement was seen in all three patients: brain metastases disappeared in the patient already described and the sizes of the other two patients' lesions decreased. Quality of life was improved in all three patients.\n",
      "One patient described at the ICE meeting showed good tolerance of concurrent gefitinib and radiotherapy (van Zandwijk [b], ICE abs, personal communication). In this case study, a 55-year-old male exsmoker with stage IV NSCLC and multiple pulmonary (lymphangitic) metastases developed multiple brain metastases (approximately 20 small lesions) after receiving treatment with gefitinib for >1 year (Figure 2). Radiotherapy to the brain (10 x 3 Gy) and continued treatment with gefitinib resulted in disease stabilisation and symptom improvement and the patient was able to return to work. Delayed imaging 9 months later showed almost complete resolution of the brain metastases (Figure 3). Thus, although gefitinib did not prevent the development of brain metastases, concurrent treatment with radiotherapy and gefitinib resulted in a durable clinical response.\n",
      "In total, 25 case reports of gefitinib use in patients with brain metastases and NSCLC were described at the ICE meeting (including the eight patients described by Cappuzzo et al) (Awada, ICE abs; Cappuzzo [a & b], ICE abs; Dieriks, ICE abs; Stein, ICE abs; de la Cruz [a & b], ICE abs; Maione, ICE abs; Martinez, ICE abs; Diaz-Canton, ICE abs; van der Kamp, ICE abs; van Zandwijk [b], ICE abs; Petruzelka [a], ICE abs; Azemar, ICE abs; Roggero, ICE abs; Kowalski, ICE abs; Martin-Algarra, ICE abs; Pavlakis, ICE abs). Of these, three patients had a complete response, 10 a partial response, eight had stable disease and four patients had progression of their brain metastases. In all of these case reports, treatment with gefitinib appears to have been well tolerated. Any reported adverse events are consistent with the adverse-event profile of gefitinib established in Phase II trials in patients with advanced NSCLC. There was also no unexpected or cumulative toxicity described for the patient who received concurrent gefitinib and radiotherapy (van Zandwijk [b], ICE abs).\n",
      "['C04 – neoplasms', 'C08 – respiratory tract diseases', 'C10 – nervous system diseases', 'C23 – pathological conditions, signs and symptoms']\n"
     ]
    }
   ],
   "source": [
    "i=5\n",
    "print(df['case_text'][i])\n",
    "print(mp.mesh_labels_from_vector(df['target'][i]))"
   ]
  },
  {
   "cell_type": "code",
   "execution_count": 9,
   "metadata": {},
   "outputs": [
    {
     "name": "stdout",
     "output_type": "stream",
     "text": [
      "['C08 – respiratory tract diseases', 'C12 – urologic and male genital diseases', 'C23 – pathological conditions, signs and symptoms']\n"
     ]
    }
   ],
   "source": [
    "range_max = df.shape[0]\n",
    "rand_index = np.random.randint(0, range_max)  # tire un entier aléatoire entre 0 et range_max - 1\n",
    "Code_MeSH = df.loc[rand_index, \"target\"]\n",
    "print(mp.mesh_labels_from_vector(Code_MeSH))"
   ]
  },
  {
   "cell_type": "markdown",
   "metadata": {},
   "source": [
    "# Gemini"
   ]
  },
  {
   "cell_type": "markdown",
   "metadata": {},
   "source": [
    "## Model"
   ]
  },
  {
   "cell_type": "code",
   "execution_count": 11,
   "metadata": {},
   "outputs": [
    {
     "name": "stderr",
     "output_type": "stream",
     "text": [
      "/opt/conda/lib/python3.12/site-packages/tqdm/auto.py:21: TqdmWarning: IProgress not found. Please update jupyter and ipywidgets. See https://ipywidgets.readthedocs.io/en/stable/user_install.html\n",
      "  from .autonotebook import tqdm as notebook_tqdm\n"
     ]
    }
   ],
   "source": [
    "from dotenv import load_dotenv\n",
    "import base64\n",
    "import os\n",
    "import requests\n",
    "import json\n",
    "\n",
    "import google.generativeai as genai\n",
    "from google.genai import types"
   ]
  },
  {
   "cell_type": "code",
   "execution_count": 12,
   "metadata": {},
   "outputs": [
    {
     "data": {
      "text/plain": [
       "\"Je vais te founir des codes MeSH en entré. Tous les codes MeSH appartiennent à la catégorie C «disease» et je ne te fournis que des codes des catégories de «\\xa0niveau 1\\xa0» donc que des codes entre C01 et C26.\\n\\nA partir des codes MeSH que je te fournis ci - dessous, écrit en français un exemple de cas clinique que l’on pourrait retouvé dans la littérature scientique.\\nJe veux que ton texte fasse entre 300 et 600 mots. \\n\\nAttention un cas clinique peut être associé à plusieurs\\n\\nAvant de commencer je vais te donner des exemple écrit en anglais bien que tu devras écrire tes cas cliniques en francais.\\n__________________________________________________________________________________\\n\\nExemple 1\\n\\nMesh term : ['C04 – neoplasms',\\n 'C08 – respiratory tract diseases',\\n 'C12 – urologic and male genital diseases',\\n 'C14 – cardiovascular diseases']\\n\\nCas clinique associé (exepected output) : \\nA 42-year-old, non-smoking, virgin woman presented to our institution with complaints of dyspnea and pleuritic chest pain since 2 days ago along with 2-month transient spotting. She had a history of leiomyoma since 5 months ago, and was hospitalized due to vaginal bleeding, and had been undergone therapy by a gonadotropin-releasing hormone (GnRH) agonist and medroxyprogesterone acetate, intramuscularly. To control her anemia, she was given oral ferrous sulfate. There was no relevant familial history of the same condition. On physical examination, she was anxious and tachypneic on admission, with body mass index of 24.7 kg/m2, body temperature 37 C, blood pressure 100/70 mmHg, heart rate 120 beats per min, respiratory rate of 24 breaths per min, and 96% oxygen saturation while breathing room air. Other findings included regular heart beat with a 2/6 systolic murmur in the left sternal border, clear lung sound, and a non-tender abdomen with a 20-week size uterus. There was no swelling in her lower limbs.\\nAn electrocardiogram revealed a sinus tachycardia and inverted T waves in v1 to v3 and inferior leads. Hematologic testing revealed hemoglobin of 11.3 g/dL and other results were within normal limits. Coagulation factors were also unremarkable. A chest radiograph showed Westermark sign without pleural effusion. An ultrasound investigation revealed an acute DVT in the popliteal and superficial femoral veins of her left leg and an enlarged leiomyoma of the uterus. Thereafter, transesophageal echocardiography (TEE) demonstrated normal left ventricle systolic function, severe right ventricle enlargement, McConnell sign, moderate tricuspid regurgitation, severe pulmonary hypertension of 110 mmHg, and dilatation of the main pulmonary artery. In addition, a 2.6 1.6 cm echogenic mass was detected in the left pulmonary artery, consistent with thrombosis. Given her leiomyoma history, she underwent magnetic resonance imaging (MRI), which revealed a huge uterine-derived mass compressing both common iliac veins.\\nDue to massive PE, the patient was administered loading dose of 250 000 units of streptokinase and the infusion of 100 000 units per hour during 24 h. After undergoing thrombolysis, her general condition significantly improved, and then she underwent anticoagulation therapy. One unit of packed red blood cells was also transfused. Examination by TEE on the fourth day revealed the disappearance of the pulmonary artery thrombosis. After achieving a therapeutic range of international normalized ratio (range 2.0-3.0), she was discharged on warfarin 5 mg daily.\\nThe patient was followed for 3 months and then evaluated again and examined using TEE and ultrasonography, which demonstrated normal findings. After withholding warfarin preoperatively, she underwent myomectomy instead of hysterectomy due to her uterus preservation. Warfarin therapy commenced again following surgery, and she was discharged in stable condition on warfarin therapy. Nine months after myomectomy, she was well, without evidence of thromboembolism.\\n\\n__________\\n\\nExemple 2\\n\\nMesh term : ['C10 – nervous system diseases', 'C14 – cardiovascular diseases', 'C15 – hemic and lymphatic diseases', 'C16 – congenital, hereditary, and neonatal diseases and abnormalities', 'C17 – skin and connective tissue diseases', 'C23 – pathological conditions, signs and symptoms']\\n\\nCas clinique associé (exepected output) : \\nThe patient was a 37-year-old woman with a history of intestinal perforation, but no history of cranial or orbital trauma recently.\\nWhile undergoing genetic diagnosis of vEDS in the outpatient clinic of another hospital, the patient experienced a sudden onset of a vascular murmur in the vicinity of the left ear, tinnitus, and a headache. The tinnitus disappeared when the left carotid artery was compressed, and a bruit was heard over the left eyeball. No clear abnormal findings were detected by computed tomography (CT) of the head, but magnetic resonance imaging (MRI) and magnetic resonance angiography (MRA) of the head revealed a CCF, and the patient was referred to our hospital and examined.\\nThe patient's consciousness level was clear on arrival at our hospital. Ophthalmological examination indicated corrected visual acuity of 1.0/1.0. Bilateral Amsler grid testing indicated no abnormalities at any point in either visual field. The left eye was markedly red with dilated irregular conjunctival and subconjunctival vessels. Hess chart testing indicated abducens nerve paralysis. Based on the patient's family history, past medical history, and the imaging findings, there was a strong possibility of a CCF complicating EDS, and because of the possibility that angiography would cause vascular injury, the preoperative evaluation was performed by 3D CTA.\\nElder brother: Dissection of the thoracic aorta\\nFather's family: Rupture of the abdominal aorta, sudden death\\nAlthough the symptoms temporarily improved in response to intermittent manual compression of the carotid artery, they became more severe again. Because of the development of higher function disorders, including aphasia and agnosia, associated with marked cortical reflux within the cranium, endovascular treatment (TVE) was performed under general anesthesia. A direct CCF from the vicinity of the left internal carotid artery (ICA) at the C3-4 level was confirmed by digital subtraction angiography (DSA). Marked retrograde flow into the intracranial veins was observed, and treatment was performed as described below.\\n\\n—————\\n\\nExemple 3\\n\\nMesh term : ['C10 – nervous system diseases', 'C14 – cardiovascular diseases', 'C15 – hemic and lymphatic diseases', 'C16 – congenital, hereditary, and neonatal diseases and abnormalities', 'C17 – skin and connective tissue diseases', 'C23 – pathological conditions, signs and symptoms']\\n\\nCas clinique associé (exepected output) : \\nThe case reports of patients with brain metastases secondary to NSCLC treated with gefitinib as part of the compassionate-use programme have recently been reported as published case studies, at the World Conference on Lung Cancer 2003, at the American Society of Clinical Oncology 2003 conference and at the 'Iressa' Clinical Experience (ICE) meeting (Awada, ICE abs; Cappuzzo [a & b], ICE abs; Dieriks, ICE abs; Stein, ICE abs; de la Cruz [a & b], ICE abs; Maione, ICE abs; Martinez, ICE abs; Diaz-Canton, ICE abs; van der Kamp, ICE abs; van Zandwijk [b], ICE abs; Petruzelka [a], ICE abs; Azemar, ICE abs; Roggero, ICE abs; Kowalski, ICE abs; Martin-Algarra, ICE abs; Pavlakis, ICE abs). (See appendix for ICE abstracts). Together, these case reports suggest that gefitinib has activity in NSCLC brain metastases. The results of published case series are shown in Table 1 .\\nMost notable are the cases with a complete remission of brain metastases. In the largest case series that included 27 patients who had asymptomatic or symptomatic brain metastases, two of 20 evaluable patients had a response in the brain, with complete remission in one patient. In another case series described in two separate publications by Cappuzzo et al, eight patients with NSCLC and brain metastases were treated with gefitinib (; [a & b] ICE abs). One patient had a complete response and seven had partial responses in the brain, all within 3 months of treatment. The complete response in the brain was observed 6 weeks after treatment with gefitinib started in a patient who had completed whole-brain radiotherapy 3 months prior to the beginning of gefitinib. All eight patients experienced improvements in neurological and systemic symptoms.\\n described the case report of a patient who had achieved a complete response in the brain following treatment with gefitinib. This particular patient was diagnosed in July 1999 with stage IV adenocarcinoma of the left lung. In March 2001, after treatment with three different chemotherapy regimens, asymptomatic brain metastases were detected and subsequently treated with whole-brain radiotherapy. However, by October 2001 the patient's condition had deteriorated, with progressive brain metastases, and the patient was readmitted to hospital. Treatment with gefitinib started in November 2001 after which computed tomography scans showed that brain metastases had disappeared and that there was a marked regression of the lung tumour. The patient was then discharged in December 2001 and was able to resume full-time work for nearly 8 months. Two other published case reports also describe patients whose brain metastases responded to treatment. In all three of these cases, patients had worsening neurological symptoms and deteriorating performance status before treatment with gefitinib. Following treatment, a significant clinical improvement was seen in all three patients: brain metastases disappeared in the patient already described and the sizes of the other two patients' lesions decreased. Quality of life was improved in all three patients.\\nOne patient described at the ICE meeting showed good tolerance of concurrent gefitinib and radiotherapy (van Zandwijk [b], ICE abs, personal communication). In this case study, a 55-year-old male exsmoker with stage IV NSCLC and multiple pulmonary (lymphangitic) metastases developed multiple brain metastases (approximately 20 small lesions) after receiving treatment with gefitinib for >1 year. Radiotherapy to the brain (10 x 3 Gy) and continued treatment with gefitinib resulted in disease stabilisation and symptom improvement and the patient was able to return to work. Delayed imaging 9 months later showed almost complete resolution of the brain metastases. Thus, although gefitinib did not prevent the development of brain metastases, concurrent treatment with radiotherapy and gefitinib resulted in a durable clinical response.\\nIn total, 25 case reports of gefitinib use in patients with brain metastases and NSCLC were described at the ICE meeting (including the eight patients described by Cappuzzo et al) (Awada, ICE abs; Cappuzzo [a & b], ICE abs; Dieriks, ICE abs; Stein, ICE abs; de la Cruz [a & b], ICE abs; Maione, ICE abs; Martinez, ICE abs; Diaz-Canton, ICE abs; van der Kamp, ICE abs; van Zandwijk [b], ICE abs; Petruzelka [a], ICE abs; Azemar, ICE abs; Roggero, ICE abs; Kowalski, ICE abs; Martin-Algarra, ICE abs; Pavlakis, ICE abs). Of these, three patients had a complete response, 10 a partial response, eight had stable disease and four patients had progression of their brain metastases. In all of these case reports, treatment with gefitinib appears to have been well tolerated. Any reported adverse events are consistent with the adverse-event profile of gefitinib established in Phase II trials in patients with advanced NSCLC. There was also no unexpected or cumulative toxicity described for the patient who received concurrent gefitinib and radiotherapy (van Zandwijk [b], ICE abs).\\n\\n__________________________________________________________________________________\\n\\nMaintenant écrit des cas cliniques similaires en FRANCAIS à partir de la liste de code MeSH que je vais te donner. Les cas doivent avoir une longueur compris entre 300 et 600 mots. Renvoie UNIQUEMENT le texte du cas cliniques, sans titre et autres commentaires.\""
      ]
     },
     "execution_count": 12,
     "metadata": {},
     "output_type": "execute_result"
    }
   ],
   "source": [
    "with open(\"../GEMINI/Prompt.txt\", \"r\") as file:\n",
    "    prompt = file.read()\n",
    "\n",
    "prompt"
   ]
  },
  {
   "cell_type": "code",
   "execution_count": 13,
   "metadata": {},
   "outputs": [],
   "source": [
    "# Load environment variables from the .env file\n",
    "load_dotenv()\n",
    "\n",
    "# Set the API key and model information\n",
    "API_KEY = os.getenv(\"GEMINI_API_KEY\")\n",
    "# API_URL = 'https://generativelanguage.googleapis.com/v1beta/openai'\n",
    "# MODEL = \"gemini-2.0-flash\"\n",
    "\n",
    "# Check if API key is available\n",
    "if not API_KEY:\n",
    "    print(\"⚠️ Warning: API_KEY not found in .env file. Please add your API key to continue.\")"
   ]
  },
  {
   "cell_type": "code",
   "execution_count": 14,
   "metadata": {},
   "outputs": [],
   "source": [
    "import base64\n",
    "import os\n",
    "from google import genai\n",
    "from google.genai import types\n",
    "\n",
    "\n",
    "def generate(input_text):\n",
    "    client = genai.Client(\n",
    "        api_key=os.environ.get(\"GEMINI_API_KEY\"),\n",
    "    )\n",
    "\n",
    "    model = \"gemini-2.0-flash\"\n",
    "    contents = [\n",
    "        types.Content(\n",
    "            role=\"user\",\n",
    "            parts=[\n",
    "                types.Part.from_text(text=prompt),\n",
    "            ],\n",
    "        ),\n",
    "        types.Content(\n",
    "            role=\"model\",\n",
    "            parts=[\n",
    "                types.Part.from_text(text=\"\"\"{\n",
    "  \\\"Cas_clinique\\\": \\\"Mme Dubois, une femme de 68 ans avec des antécédents d'hypertension artérielle et de diabète de type 2, s'est présentée aux urgences en se plaignant d'une douleur thoracique intense et soudaine, irradiant vers son bras gauche, associée à un essoufflement. Elle a décrit la douleur comme une sensation d'oppression, comme si un poids lourd était posé sur sa poitrine. Elle a également rapporté des nausées et des sueurs froides. \\\\n\\\\nÀ son arrivée, elle était pâle, anxieuse et tachypnéique. Sa tension artérielle était de 90/60 mmHg, sa fréquence cardiaque de 110 battements par minute et sa saturation en oxygène de 92 % sous air ambiant. L'auscultation pulmonaire révélait des râles crépitants bilatéraux. L'électrocardiogramme (ECG) montrait un sus-décalage du segment ST dans les dérivations antérieures (V1 à V4), suggérant un infarctus du myocarde avec élévation du segment ST (STEMI) antérieur étendu. \\\\n\\\\nCompte tenu de la présentation clinique et des résultats de l'ECG, une suspicion forte d'occlusion aiguë de l'artère coronaire antérieure descendante (IVA) a été soulevée. L'équipe médicale a immédiatement initié un traitement comprenant de l'oxygène, de l'aspirine, du clopidogrel et de la morphine pour soulager la douleur. Une thrombolyse intraveineuse a été envisagée, mais étant donné le délai de plus de 2 heures depuis le début des symptômes et la disponibilité d'un centre de cardiologie interventionnelle à proximité, une angioplastie coronaire primaire (ICP) a été décidée. \\\\n\\\\nMme Dubois a été rapidement transférée en salle de cathétérisme cardiaque. L'angiographie coronaire a confirmé une occlusion totale de l'IVA proximale. Un ballonnet a été gonflé pour rétablir le flux sanguin, suivi de l'implantation d'un stent médicamenteux. Le flux TIMI 3 (flux normal) a été obtenu après l'angioplastie. \\\\n\\\\nAprès l'intervention, Mme Dubois a été admise en unité de soins intensifs cardiologiques. Son état s'est progressivement amélioré. La douleur thoracique a disparu et sa tension artérielle s'est stabilisée. Une échocardiographie a révélé une hypokinésie de la paroi antérieure du ventricule gauche, témoignant d'une zone infarcie. Elle a été mise sous traitement médical optimal comprenant des bêta-bloquants, un inhibiteur de l'enzyme de conversion (IEC), une statine et une double antiagrégation plaquettaire (aspirine et clopidogrel). \\\\n\\\\nPendant son séjour à l'hôpital, elle a bénéficié d'un programme de réadaptation cardiaque visant à améliorer sa condition physique et à réduire les facteurs de risque cardiovasculaires. Elle a également reçu des conseils diététiques et des informations sur la gestion de son diabète. Elle est sortie de l'hôpital une semaine plus tard, avec des recommandations de suivi régulier par son cardiologue et son médecin traitant.\\\",\n",
    "  \\\"MeSH_Code\\\": [\n",
    "    \\\"C14 – cardiovascular diseases\\\",\n",
    "    \\\"C18 – nutritional and metabolic diseases\\\",\n",
    "    \\\"C23 – pathological conditions, signs and symptoms\\\"\n",
    "  ]\n",
    "}\"\"\"),\n",
    "            ],\n",
    "        ),\n",
    "        types.Content(\n",
    "            role=\"user\",\n",
    "            parts=[\n",
    "                types.Part.from_text(text=\"\"\"['C04 – neoplasms', 'C08 – respiratory tract diseases', 'C14 – cardiovascular diseases']\"\"\"),\n",
    "            ],\n",
    "        ),\n",
    "        types.Content(\n",
    "            role=\"model\",\n",
    "            parts=[\n",
    "                types.Part.from_text(text=\"\"\"{\n",
    "  \\\"Cas_clinique\\\": \\\"M. Lemaire, un homme de 62 ans, ancien fumeur (30 paquets-années), s'est présenté à la consultation de pneumologie en raison d'une toux persistante depuis plusieurs mois, accompagnée d'expectorations muco-purulentes et d'une dyspnée d'effort progressive. Il a également noté une perte de poids involontaire de 5 kg au cours des trois derniers mois et des épisodes occasionnels d'hémoptysie. \\\\n\\\\nL'examen clinique a révélé une diminution du murmure vésiculaire à la base du poumon droit et la présence de râles bronchiques diffus. Une radiographie thoracique a mis en évidence une opacité hilaire droite avec un élargissement médiastinal. Une tomodensitométrie (TDM) thoracique a confirmé la présence d'une masse tumorale de 5 cm de diamètre dans le hile droit, envahissant la bronche souche droite et les ganglions médiastinaux. \\\\n\\\\nUne bronchoscopie avec biopsies a été réalisée. L'examen histopathologique a révélé un carcinome épidermoïde peu différencié. Un bilan d'extension comprenant une TDM abdominale et une scintigraphie osseuse n'a pas révélé de métastases à distance. Le patient a été classé stade IIIA (T2N2M0) selon la classification TNM du cancer du poumon. \\\\n\\\\nCompte tenu du stade localement avancé de la maladie, une approche thérapeutique multimodale a été proposée, comprenant une chimiothérapie néoadjuvante à base de platine (cisplatine et gemcitabine) suivie d'une radiothérapie conformationnelle avec modulation d'intensité (RCMI). Après trois cycles de chimiothérapie, une TDM de réévaluation a montré une réduction significative de la taille de la tumeur et des ganglions médiastinaux. Le patient a ensuite reçu une radiothérapie à la dose de 60 Gy sur le hile droit et le médiastin. \\\\n\\\\nAu cours du traitement, M. Lemaire a développé une mucite de grade 2 et une œsophagite radique nécessitant une prise en charge symptomatique avec des antalgiques et des protecteurs gastriques. Il a également présenté une pneumonie radique, traitée par corticothérapie. \\\\n\\\\nUn suivi régulier a été mis en place après la fin du traitement. Un an après, une TDM de contrôle n'a révélé aucune récidive tumorale. Cependant, M. Lemaire a développé une cardiopathie ischémique, se manifestant par des épisodes d'angor d'effort. Une coronarographie a révélé des sténoses significatives de l'artère coronaire droite et de l'artère interventriculaire antérieure. Une angioplastie coronaire avec pose de stents a été réalisée. Le patient a été mis sous traitement antiagrégant plaquettaire et bêta-bloquant. Il participe actuellement à un programme de réadaptation cardiaque et a arrêté de fumer.\\\",\n",
    "  \\\"MeSH_Code\\\": [\n",
    "    \\\"C04 – neoplasms\\\",\n",
    "    \\\"C08 – respiratory tract diseases\\\",\n",
    "    \\\"C14 – cardiovascular diseases\\\"\n",
    "  ]\n",
    "}\"\"\"),\n",
    "            ],\n",
    "        ),\n",
    "        types.Content(\n",
    "            role=\"user\",\n",
    "            parts=[\n",
    "                types.Part.from_text(text=input_text),\n",
    "            ],\n",
    "        ),\n",
    "    ]\n",
    "    generate_content_config = types.GenerateContentConfig(\n",
    "        safety_settings=[\n",
    "            types.SafetySetting(\n",
    "                category=\"HARM_CATEGORY_CIVIC_INTEGRITY\",\n",
    "                threshold=\"BLOCK_ONLY_HIGH\",  # Block few\n",
    "            ),\n",
    "        ],\n",
    "        response_mime_type=\"application/json\",\n",
    "        response_schema=genai.types.Schema(\n",
    "                        type = genai.types.Type.OBJECT,\n",
    "                        required = [\"MeSH_Code\", \"Cas_clinique\"],\n",
    "                        properties = {\n",
    "                            \"MeSH_Code\": genai.types.Schema(\n",
    "                                type = genai.types.Type.ARRAY,\n",
    "                                items = genai.types.Schema(\n",
    "                                    type = genai.types.Type.STRING,\n",
    "                                ),\n",
    "                            ),\n",
    "                            \"Cas_clinique\": genai.types.Schema(\n",
    "                                type = genai.types.Type.STRING,\n",
    "                            ),\n",
    "                        },\n",
    "                    ),\n",
    "    )\n",
    "\n",
    "    full_response = \"\"\n",
    "    for chunk in client.models.generate_content_stream(\n",
    "        model=model,\n",
    "        contents=contents,\n",
    "        config=generate_content_config,\n",
    "    ):\n",
    "        full_response += chunk.text\n",
    "\n",
    "    return full_response\n"
   ]
  },
  {
   "cell_type": "markdown",
   "metadata": {},
   "source": [
    "## Requests"
   ]
  },
  {
   "cell_type": "code",
   "execution_count": 39,
   "metadata": {},
   "outputs": [
    {
     "data": {
      "text/plain": [
       "['C04 – neoplasms']"
      ]
     },
     "execution_count": 39,
     "metadata": {},
     "output_type": "execute_result"
    }
   ],
   "source": [
    "rand_index = np.random.randint(0, df.shape[0])  # tire un entier aléatoire entre 0 et range_max - 1\n",
    "Code_MeSH = df.loc[rand_index, \"target\"]\n",
    "\n",
    "MeSH_input = mp.mesh_labels_from_vector(Code_MeSH)\n",
    "MeSH_input"
   ]
  },
  {
   "cell_type": "code",
   "execution_count": 16,
   "metadata": {},
   "outputs": [],
   "source": [
    "input_text = MeSH_input\n",
    "chat = generate(input_text)\n",
    "reponse = chat  # Puisque `generate` retourne déjà la chaîne complète"
   ]
  },
  {
   "cell_type": "code",
   "execution_count": 24,
   "metadata": {},
   "outputs": [
    {
     "data": {
      "text/plain": [
       "['C04 – neoplasms',\n",
       " 'C08 – respiratory tract diseases',\n",
       " 'C14 – cardiovascular diseases']"
      ]
     },
     "execution_count": 24,
     "metadata": {},
     "output_type": "execute_result"
    }
   ],
   "source": [
    "data = json.loads(reponse)\n",
    "data['Cas_clinique']\n",
    "data['MeSH_Code']"
   ]
  }
 ],
 "metadata": {
  "kernelspec": {
   "display_name": "base",
   "language": "python",
   "name": "python3"
  },
  "language_info": {
   "codemirror_mode": {
    "name": "ipython",
    "version": 3
   },
   "file_extension": ".py",
   "mimetype": "text/x-python",
   "name": "python",
   "nbconvert_exporter": "python",
   "pygments_lexer": "ipython3",
   "version": "3.12.9"
  }
 },
 "nbformat": 4,
 "nbformat_minor": 2
}
