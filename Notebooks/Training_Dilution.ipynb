{
 "cells": [
  {
   "cell_type": "code",
   "execution_count": 27,
   "metadata": {},
   "outputs": [],
   "source": [
    "import sys\n",
    "import os\n",
    "\n",
    "# Ajoute le dossier projet_NLP/ dans le path\n",
    "sys.path.append(os.path.abspath(os.path.join(os.getcwd(), '..')))\n",
    "\n",
    "# Maintenant tu peux importer proprement\n",
    "from Script import multilabel_preprocessing as mp\n",
    "\n",
    "import pandas as pd\n",
    "import numpy as np\n",
    "import matplotlib.pyplot as plt\n",
    "from tqdm import tqdm  # Barre de progression pour Jupyter\n",
    "pd.set_option('display.max_colwidth', None)"
   ]
  },
  {
   "cell_type": "code",
   "execution_count": 28,
   "metadata": {},
   "outputs": [
    {
     "data": {
      "text/plain": [
       "'/home/onyxia/work/projet_NLP/Notebooks'"
      ]
     },
     "execution_count": 28,
     "metadata": {},
     "output_type": "execute_result"
    }
   ],
   "source": [
    "os.getcwd()"
   ]
  },
  {
   "cell_type": "code",
   "execution_count": 29,
   "metadata": {},
   "outputs": [
    {
     "name": "stdout",
     "output_type": "stream",
     "text": [
      "fichier df chargé\n"
     ]
    }
   ],
   "source": [
    "if os.path.exists(\"../data/df_target_VF.pkl\"):\n",
    "    df = pd.read_pickle('../data/df_target_VF.pkl')\n",
    "    print(\"fichier df chargé\")\n",
    "\n",
    "if os.path.exists(\"../data/df_metadata\"):\n",
    "    df_metadata = pd.read_parquet('../data/df_metadata')\n",
    "    print(\"fichier df_metadata chargé\")"
   ]
  },
  {
   "cell_type": "code",
   "execution_count": 30,
   "metadata": {},
   "outputs": [
    {
     "name": "stdout",
     "output_type": "stream",
     "text": [
      "nombre cas sans code MeSH catégorie 'disease' : (0, 12)\n"
     ]
    }
   ],
   "source": [
    "MeSH_vides = df[df['target'].apply(lambda x: not any(x))]\n",
    "print(\"nombre cas sans code MeSH catégorie 'disease' :\", MeSH_vides.shape)\n",
    "\n",
    "df = df.drop(MeSH_vides.index)"
   ]
  },
  {
   "cell_type": "code",
   "execution_count": 31,
   "metadata": {},
   "outputs": [
    {
     "data": {
      "text/plain": [
       "count    10051.000000\n",
       "mean      3502.605114\n",
       "std       2399.441600\n",
       "min        145.000000\n",
       "25%       2004.500000\n",
       "50%       3012.000000\n",
       "75%       4343.000000\n",
       "max      60512.000000\n",
       "Name: case_text, dtype: float64"
      ]
     },
     "execution_count": 31,
     "metadata": {},
     "output_type": "execute_result"
    }
   ],
   "source": [
    "df['case_text'].str.len().describe()"
   ]
  },
  {
   "cell_type": "code",
   "execution_count": 32,
   "metadata": {},
   "outputs": [],
   "source": [
    "#df_sample = df[df['case_text'].str.len() < 5000]\n",
    "#df_sample.shape"
   ]
  },
  {
   "cell_type": "code",
   "execution_count": 33,
   "metadata": {},
   "outputs": [
    {
     "data": {
      "text/plain": [
       "(0, 12)"
      ]
     },
     "execution_count": 33,
     "metadata": {},
     "output_type": "execute_result"
    }
   ],
   "source": [
    "df[df['target'].apply(lambda x: any(x)) == False].shape"
   ]
  },
  {
   "cell_type": "code",
   "execution_count": 39,
   "metadata": {},
   "outputs": [
    {
     "name": "stdout",
     "output_type": "stream",
     "text": [
      "The case reports of patients with brain metastases secondary to NSCLC treated with gefitinib as part of the compassionate-use programme have recently been reported as published case studies, at the World Conference on Lung Cancer 2003, at the American Society of Clinical Oncology 2003 conference and at the 'Iressa' Clinical Experience (ICE) meeting (Awada, ICE abs; Cappuzzo [a & b], ICE abs; Dieriks, ICE abs; Stein, ICE abs; de la Cruz [a & b], ICE abs; Maione, ICE abs; Martinez, ICE abs; Diaz-Canton, ICE abs; van der Kamp, ICE abs; van Zandwijk [b], ICE abs; Petruzelka [a], ICE abs; Azemar, ICE abs; Roggero, ICE abs; Kowalski, ICE abs; Martin-Algarra, ICE abs; Pavlakis, ICE abs). (See appendix for ICE abstracts). Together, these case reports suggest that gefitinib has activity in NSCLC brain metastases. The results of published case series are shown in Table 1 .\n",
      "Most notable are the cases with a complete remission of brain metastases. In the largest case series that included 27 patients who had asymptomatic or symptomatic brain metastases, two of 20 evaluable patients had a response in the brain, with complete remission in one patient. In another case series described in two separate publications by Cappuzzo et al, eight patients with NSCLC and brain metastases were treated with gefitinib (; [a & b] ICE abs). One patient had a complete response and seven had partial responses in the brain, all within 3 months of treatment. The complete response in the brain was observed 6 weeks after treatment with gefitinib started in a patient who had completed whole-brain radiotherapy 3 months prior to the beginning of gefitinib (Figure 1). All eight patients experienced improvements in neurological and systemic symptoms.\n",
      " described the case report of a patient who had achieved a complete response in the brain following treatment with gefitinib. This particular patient was diagnosed in July 1999 with stage IV adenocarcinoma of the left lung. In March 2001, after treatment with three different chemotherapy regimens, asymptomatic brain metastases were detected and subsequently treated with whole-brain radiotherapy. However, by October 2001 the patient's condition had deteriorated, with progressive brain metastases, and the patient was readmitted to hospital. Treatment with gefitinib started in November 2001 after which computed tomography scans showed that brain metastases had disappeared and that there was a marked regression of the lung tumour. The patient was then discharged in December 2001 and was able to resume full-time work for nearly 8 months. Two other published case reports also describe patients whose brain metastases responded to treatment. In all three of these cases, patients had worsening neurological symptoms and deteriorating performance status before treatment with gefitinib. Following treatment, a significant clinical improvement was seen in all three patients: brain metastases disappeared in the patient already described and the sizes of the other two patients' lesions decreased. Quality of life was improved in all three patients.\n",
      "One patient described at the ICE meeting showed good tolerance of concurrent gefitinib and radiotherapy (van Zandwijk [b], ICE abs, personal communication). In this case study, a 55-year-old male exsmoker with stage IV NSCLC and multiple pulmonary (lymphangitic) metastases developed multiple brain metastases (approximately 20 small lesions) after receiving treatment with gefitinib for >1 year (Figure 2). Radiotherapy to the brain (10 x 3 Gy) and continued treatment with gefitinib resulted in disease stabilisation and symptom improvement and the patient was able to return to work. Delayed imaging 9 months later showed almost complete resolution of the brain metastases (Figure 3). Thus, although gefitinib did not prevent the development of brain metastases, concurrent treatment with radiotherapy and gefitinib resulted in a durable clinical response.\n",
      "In total, 25 case reports of gefitinib use in patients with brain metastases and NSCLC were described at the ICE meeting (including the eight patients described by Cappuzzo et al) (Awada, ICE abs; Cappuzzo [a & b], ICE abs; Dieriks, ICE abs; Stein, ICE abs; de la Cruz [a & b], ICE abs; Maione, ICE abs; Martinez, ICE abs; Diaz-Canton, ICE abs; van der Kamp, ICE abs; van Zandwijk [b], ICE abs; Petruzelka [a], ICE abs; Azemar, ICE abs; Roggero, ICE abs; Kowalski, ICE abs; Martin-Algarra, ICE abs; Pavlakis, ICE abs). Of these, three patients had a complete response, 10 a partial response, eight had stable disease and four patients had progression of their brain metastases. In all of these case reports, treatment with gefitinib appears to have been well tolerated. Any reported adverse events are consistent with the adverse-event profile of gefitinib established in Phase II trials in patients with advanced NSCLC. There was also no unexpected or cumulative toxicity described for the patient who received concurrent gefitinib and radiotherapy (van Zandwijk [b], ICE abs).\n",
      "['C04 – neoplasms', 'C08 – respiratory tract diseases', 'C10 – nervous system diseases', 'C23 – pathological conditions, signs and symptoms']\n"
     ]
    }
   ],
   "source": [
    "i=5\n",
    "print(df['case_text'][i])\n",
    "print(mp.mesh_labels_from_vector(df['target'][i]))"
   ]
  },
  {
   "cell_type": "code",
   "execution_count": 47,
   "metadata": {},
   "outputs": [
    {
     "name": "stdout",
     "output_type": "stream",
     "text": [
      "['C04 – neoplasms', 'C08 – respiratory tract diseases', 'C14 – cardiovascular diseases']\n"
     ]
    }
   ],
   "source": [
    "range_max = df.shape[0]\n",
    "rand_index = np.random.randint(0, range_max)  # tire un entier aléatoire entre 0 et range_max - 1\n",
    "Code_MeSH = df.loc[rand_index, \"target\"]\n",
    "print(mp.mesh_labels_from_vector(Code_MeSH))"
   ]
  },
  {
   "cell_type": "markdown",
   "metadata": {},
   "source": [
    "# Gemini"
   ]
  },
  {
   "cell_type": "code",
   "execution_count": 32,
   "metadata": {},
   "outputs": [
    {
     "name": "stdout",
     "output_type": "stream",
     "text": [
      "Collecting google-generativeai\n",
      "  Downloading google_generativeai-0.8.4-py3-none-any.whl.metadata (4.2 kB)\n",
      "Collecting google-ai-generativelanguage==0.6.15 (from google-generativeai)\n",
      "  Downloading google_ai_generativelanguage-0.6.15-py3-none-any.whl.metadata (5.7 kB)\n",
      "Collecting google-api-core (from google-generativeai)\n",
      "  Downloading google_api_core-2.24.2-py3-none-any.whl.metadata (3.0 kB)\n",
      "Collecting google-api-python-client (from google-generativeai)\n",
      "  Downloading google_api_python_client-2.166.0-py2.py3-none-any.whl.metadata (6.6 kB)\n",
      "Requirement already satisfied: google-auth>=2.15.0 in /opt/conda/lib/python3.12/site-packages (from google-generativeai) (2.38.0)\n",
      "Collecting protobuf (from google-generativeai)\n",
      "  Downloading protobuf-6.30.2-cp39-abi3-manylinux2014_x86_64.whl.metadata (593 bytes)\n",
      "Requirement already satisfied: pydantic in /opt/conda/lib/python3.12/site-packages (from google-generativeai) (2.11.3)\n",
      "Requirement already satisfied: tqdm in /opt/conda/lib/python3.12/site-packages (from google-generativeai) (4.67.1)\n",
      "Requirement already satisfied: typing-extensions in /opt/conda/lib/python3.12/site-packages (from google-generativeai) (4.13.1)\n",
      "Collecting proto-plus<2.0.0dev,>=1.22.3 (from google-ai-generativelanguage==0.6.15->google-generativeai)\n",
      "  Downloading proto_plus-1.26.1-py3-none-any.whl.metadata (2.2 kB)\n",
      "Collecting protobuf (from google-generativeai)\n",
      "  Downloading protobuf-5.29.4-cp38-abi3-manylinux2014_x86_64.whl.metadata (592 bytes)\n",
      "Collecting googleapis-common-protos<2.0.0,>=1.56.2 (from google-api-core->google-generativeai)\n",
      "  Downloading googleapis_common_protos-1.69.2-py3-none-any.whl.metadata (9.3 kB)\n",
      "Requirement already satisfied: requests<3.0.0,>=2.18.0 in /opt/conda/lib/python3.12/site-packages (from google-api-core->google-generativeai) (2.32.3)\n",
      "Requirement already satisfied: cachetools<6.0,>=2.0.0 in /opt/conda/lib/python3.12/site-packages (from google-auth>=2.15.0->google-generativeai) (5.5.2)\n",
      "Requirement already satisfied: pyasn1-modules>=0.2.1 in /opt/conda/lib/python3.12/site-packages (from google-auth>=2.15.0->google-generativeai) (0.4.2)\n",
      "Requirement already satisfied: rsa<5,>=3.1.4 in /opt/conda/lib/python3.12/site-packages (from google-auth>=2.15.0->google-generativeai) (4.9)\n",
      "Collecting httplib2<1.0.0,>=0.19.0 (from google-api-python-client->google-generativeai)\n",
      "  Downloading httplib2-0.22.0-py3-none-any.whl.metadata (2.6 kB)\n",
      "Collecting google-auth-httplib2<1.0.0,>=0.2.0 (from google-api-python-client->google-generativeai)\n",
      "  Downloading google_auth_httplib2-0.2.0-py2.py3-none-any.whl.metadata (2.2 kB)\n",
      "Collecting uritemplate<5,>=3.0.1 (from google-api-python-client->google-generativeai)\n",
      "  Downloading uritemplate-4.1.1-py2.py3-none-any.whl.metadata (2.9 kB)\n",
      "Requirement already satisfied: annotated-types>=0.6.0 in /opt/conda/lib/python3.12/site-packages (from pydantic->google-generativeai) (0.7.0)\n",
      "Requirement already satisfied: pydantic-core==2.33.1 in /opt/conda/lib/python3.12/site-packages (from pydantic->google-generativeai) (2.33.1)\n",
      "Requirement already satisfied: typing-inspection>=0.4.0 in /opt/conda/lib/python3.12/site-packages (from pydantic->google-generativeai) (0.4.0)\n",
      "Collecting grpcio<2.0dev,>=1.33.2 (from google-api-core[grpc]!=2.0.*,!=2.1.*,!=2.10.*,!=2.2.*,!=2.3.*,!=2.4.*,!=2.5.*,!=2.6.*,!=2.7.*,!=2.8.*,!=2.9.*,<3.0.0dev,>=1.34.1->google-ai-generativelanguage==0.6.15->google-generativeai)\n",
      "  Downloading grpcio-1.72.0rc1-cp312-cp312-manylinux_2_17_x86_64.manylinux2014_x86_64.whl.metadata (3.8 kB)\n",
      "Collecting grpcio-status<2.0.dev0,>=1.33.2 (from google-api-core[grpc]!=2.0.*,!=2.1.*,!=2.10.*,!=2.2.*,!=2.3.*,!=2.4.*,!=2.5.*,!=2.6.*,!=2.7.*,!=2.8.*,!=2.9.*,<3.0.0dev,>=1.34.1->google-ai-generativelanguage==0.6.15->google-generativeai)\n",
      "  Downloading grpcio_status-1.72.0rc1-py3-none-any.whl.metadata (1.1 kB)\n",
      "Requirement already satisfied: pyparsing!=3.0.0,!=3.0.1,!=3.0.2,!=3.0.3,<4,>=2.4.2 in /opt/conda/lib/python3.12/site-packages (from httplib2<1.0.0,>=0.19.0->google-api-python-client->google-generativeai) (3.2.3)\n",
      "Requirement already satisfied: pyasn1<0.7.0,>=0.6.1 in /opt/conda/lib/python3.12/site-packages (from pyasn1-modules>=0.2.1->google-auth>=2.15.0->google-generativeai) (0.6.1)\n",
      "Requirement already satisfied: charset_normalizer<4,>=2 in /opt/conda/lib/python3.12/site-packages (from requests<3.0.0,>=2.18.0->google-api-core->google-generativeai) (3.4.1)\n",
      "Requirement already satisfied: idna<4,>=2.5 in /opt/conda/lib/python3.12/site-packages (from requests<3.0.0,>=2.18.0->google-api-core->google-generativeai) (3.10)\n",
      "Requirement already satisfied: urllib3<3,>=1.21.1 in /opt/conda/lib/python3.12/site-packages (from requests<3.0.0,>=2.18.0->google-api-core->google-generativeai) (2.3.0)\n",
      "Requirement already satisfied: certifi>=2017.4.17 in /opt/conda/lib/python3.12/site-packages (from requests<3.0.0,>=2.18.0->google-api-core->google-generativeai) (2025.1.31)\n",
      "INFO: pip is looking at multiple versions of grpcio-status to determine which version is compatible with other requirements. This could take a while.\n",
      "  Downloading grpcio_status-1.71.0-py3-none-any.whl.metadata (1.1 kB)\n",
      "Downloading google_generativeai-0.8.4-py3-none-any.whl (175 kB)\n",
      "Downloading google_ai_generativelanguage-0.6.15-py3-none-any.whl (1.3 MB)\n",
      "\u001b[2K   \u001b[90m━━━━━━━━━━━━━━━━━━━━━━━━━━━━━━━━━━━━━━━━\u001b[0m \u001b[32m1.3/1.3 MB\u001b[0m \u001b[31m9.1 MB/s\u001b[0m eta \u001b[36m0:00:00\u001b[0m\n",
      "\u001b[?25hDownloading google_api_core-2.24.2-py3-none-any.whl (160 kB)\n",
      "Downloading protobuf-5.29.4-cp38-abi3-manylinux2014_x86_64.whl (319 kB)\n",
      "Downloading google_api_python_client-2.166.0-py2.py3-none-any.whl (13.2 MB)\n",
      "\u001b[2K   \u001b[90m━━━━━━━━━━━━━━━━━━━━━━━━━━━━━━━━━━━━━━━━\u001b[0m \u001b[32m13.2/13.2 MB\u001b[0m \u001b[31m34.8 MB/s\u001b[0m eta \u001b[36m0:00:00\u001b[0ma \u001b[36m0:00:01\u001b[0m\n",
      "\u001b[?25hDownloading google_auth_httplib2-0.2.0-py2.py3-none-any.whl (9.3 kB)\n",
      "Downloading googleapis_common_protos-1.69.2-py3-none-any.whl (293 kB)\n",
      "Downloading httplib2-0.22.0-py3-none-any.whl (96 kB)\n",
      "Downloading proto_plus-1.26.1-py3-none-any.whl (50 kB)\n",
      "Downloading uritemplate-4.1.1-py2.py3-none-any.whl (10 kB)\n",
      "Downloading grpcio-1.72.0rc1-cp312-cp312-manylinux_2_17_x86_64.manylinux2014_x86_64.whl (5.9 MB)\n",
      "\u001b[2K   \u001b[90m━━━━━━━━━━━━━━━━━━━━━━━━━━━━━━━━━━━━━━━━\u001b[0m \u001b[32m5.9/5.9 MB\u001b[0m \u001b[31m21.7 MB/s\u001b[0m eta \u001b[36m0:00:00\u001b[0m00:01\u001b[0m\n",
      "\u001b[?25hDownloading grpcio_status-1.71.0-py3-none-any.whl (14 kB)\n",
      "Installing collected packages: uritemplate, protobuf, httplib2, grpcio, proto-plus, googleapis-common-protos, grpcio-status, google-auth-httplib2, google-api-core, google-api-python-client, google-ai-generativelanguage, google-generativeai\n",
      "Successfully installed google-ai-generativelanguage-0.6.15 google-api-core-2.24.2 google-api-python-client-2.166.0 google-auth-httplib2-0.2.0 google-generativeai-0.8.4 googleapis-common-protos-1.69.2 grpcio-1.72.0rc1 grpcio-status-1.71.0 httplib2-0.22.0 proto-plus-1.26.1 protobuf-5.29.4 uritemplate-4.1.1\n",
      "Note: you may need to restart the kernel to use updated packages.\n"
     ]
    }
   ],
   "source": [
    "pip install google-generativeai"
   ]
  },
  {
   "cell_type": "markdown",
   "metadata": {},
   "source": [
    "## Model"
   ]
  },
  {
   "cell_type": "code",
   "execution_count": 33,
   "metadata": {},
   "outputs": [
    {
     "name": "stderr",
     "output_type": "stream",
     "text": [
      "/opt/conda/lib/python3.12/site-packages/tqdm/auto.py:21: TqdmWarning: IProgress not found. Please update jupyter and ipywidgets. See https://ipywidgets.readthedocs.io/en/stable/user_install.html\n",
      "  from .autonotebook import tqdm as notebook_tqdm\n"
     ]
    }
   ],
   "source": [
    "from dotenv import load_dotenv\n",
    "import base64\n",
    "import os\n",
    "import requests\n",
    "import json\n",
    "\n",
    "import google.generativeai as genai\n",
    "from google.genai import types"
   ]
  },
  {
   "cell_type": "code",
   "execution_count": null,
   "metadata": {},
   "outputs": [],
   "source": [
    "with open(\"../GEMINI/Prompt.txt\", \"r\") as file:\n",
    "    prompt = file.read()\n",
    "\n",
    "prompt"
   ]
  },
  {
   "cell_type": "code",
   "execution_count": null,
   "metadata": {},
   "outputs": [],
   "source": [
    "# Load environment variables from the .env file\n",
    "load_dotenv()\n",
    "\n",
    "# Set the API key and model information\n",
    "API_KEY = os.getenv(\"GEMINI_API_KEY\")\n",
    "# API_URL = 'https://generativelanguage.googleapis.com/v1beta/openai'\n",
    "# MODEL = \"gemini-2.0-flash\"\n",
    "\n",
    "# Check if API key is available\n",
    "if not API_KEY:\n",
    "    print(\"⚠️ Warning: API_KEY not found in .env file. Please add your API key to continue.\")"
   ]
  },
  {
   "cell_type": "code",
   "execution_count": null,
   "metadata": {},
   "outputs": [],
   "source": [
    "def generate(MeSH_input):\n",
    "\n",
    "    # Configure globalement ton API Key\n",
    "    genai.configure(api_key=API_KEY)\n",
    "\n",
    "    model = genai.GenerativeModel(\n",
    "        model_name=\"gemini-2.0-flash\",\n",
    "        api_key=API_KEY,\n",
    "    )\n",
    "\n",
    "    contents = [\n",
    "        types.Content(\n",
    "            role=\"user\",\n",
    "            parts=[\n",
    "                types.Part.from_text(text=prompt),\n",
    "            ],\n",
    "        ),\n",
    "        types.Content(\n",
    "            role=\"model\",\n",
    "            parts=[\n",
    "                types.Part.from_text(text=\"\"\"{\n",
    "  \\\"Cas_clinique\\\": \\\"Mme Dubois, une femme de 68 ans avec des antécédents d'hypertension artérielle et de diabète de type 2, s'est présentée aux urgences en se plaignant d'une douleur thoracique intense et soudaine, irradiant vers son bras gauche, associée à un essoufflement. Elle a décrit la douleur comme une sensation d'oppression, comme si un poids lourd était posé sur sa poitrine. Elle a également rapporté des nausées et des sueurs froides. \\\\n\\\\nÀ son arrivée, elle était pâle, anxieuse et tachypnéique. Sa tension artérielle était de 90/60 mmHg, sa fréquence cardiaque de 110 battements par minute et sa saturation en oxygène de 92 % sous air ambiant. L'auscultation pulmonaire révélait des râles crépitants bilatéraux. L'électrocardiogramme (ECG) montrait un sus-décalage du segment ST dans les dérivations antérieures (V1 à V4), suggérant un infarctus du myocarde avec élévation du segment ST (STEMI) antérieur étendu. \\\\n\\\\nCompte tenu de la présentation clinique et des résultats de l'ECG, une suspicion forte d'occlusion aiguë de l'artère coronaire antérieure descendante (IVA) a été soulevée. L'équipe médicale a immédiatement initié un traitement comprenant de l'oxygène, de l'aspirine, du clopidogrel et de la morphine pour soulager la douleur. Une thrombolyse intraveineuse a été envisagée, mais étant donné le délai de plus de 2 heures depuis le début des symptômes et la disponibilité d'un centre de cardiologie interventionnelle à proximité, une angioplastie coronaire primaire (ICP) a été décidée. \\\\n\\\\nMme Dubois a été rapidement transférée en salle de cathétérisme cardiaque. L'angiographie coronaire a confirmé une occlusion totale de l'IVA proximale. Un ballonnet a été gonflé pour rétablir le flux sanguin, suivi de l'implantation d'un stent médicamenteux. Le flux TIMI 3 (flux normal) a été obtenu après l'angioplastie. \\\\n\\\\nAprès l'intervention, Mme Dubois a été admise en unité de soins intensifs cardiologiques. Son état s'est progressivement amélioré. La douleur thoracique a disparu et sa tension artérielle s'est stabilisée. Une échocardiographie a révélé une hypokinésie de la paroi antérieure du ventricule gauche, témoignant d'une zone infarcie. Elle a été mise sous traitement médical optimal comprenant des bêta-bloquants, un inhibiteur de l'enzyme de conversion (IEC), une statine et une double antiagrégation plaquettaire (aspirine et clopidogrel). \\\\n\\\\nPendant son séjour à l'hôpital, elle a bénéficié d'un programme de réadaptation cardiaque visant à améliorer sa condition physique et à réduire les facteurs de risque cardiovasculaires. Elle a également reçu des conseils diététiques et des informations sur la gestion de son diabète. Elle est sortie de l'hôpital une semaine plus tard, avec des recommandations de suivi régulier par son cardiologue et son médecin traitant.\\\",\n",
    "  \\\"MeSH_Code\\\": [\n",
    "    \\\"C14 – cardiovascular diseases\\\",\n",
    "    \\\"C18 – nutritional and metabolic diseases\\\",\n",
    "    \\\"C23 – pathological conditions, signs and symptoms\\\"\n",
    "  ]\n",
    "}\"\"\"),\n",
    "            ],\n",
    "        ),\n",
    "        types.Content(\n",
    "            role=\"user\",\n",
    "            parts=[\n",
    "                types.Part.from_text(text=\"\"\"['C04 – neoplasms', 'C08 – respiratory tract diseases', 'C14 – cardiovascular diseases']\"\"\"),\n",
    "            ],\n",
    "        ),\n",
    "        types.Content(\n",
    "            role=\"model\",\n",
    "            parts=[\n",
    "                types.Part.from_text(text=\"\"\"{\n",
    "  \\\"Cas_clinique\\\": \\\"M. Lemaire, un homme de 62 ans, ancien fumeur (30 paquets-années), s'est présenté à la consultation de pneumologie en raison d'une toux persistante depuis plusieurs mois, accompagnée d'expectorations muco-purulentes et d'une dyspnée d'effort progressive. Il a également noté une perte de poids involontaire de 5 kg au cours des trois derniers mois et des épisodes occasionnels d'hémoptysie. \\\\n\\\\nL'examen clinique a révélé une diminution du murmure vésiculaire à la base du poumon droit et la présence de râles bronchiques diffus. Une radiographie thoracique a mis en évidence une opacité hilaire droite avec un élargissement médiastinal. Une tomodensitométrie (TDM) thoracique a confirmé la présence d'une masse tumorale de 5 cm de diamètre dans le hile droit, envahissant la bronche souche droite et les ganglions médiastinaux. \\\\n\\\\nUne bronchoscopie avec biopsies a été réalisée. L'examen histopathologique a révélé un carcinome épidermoïde peu différencié. Un bilan d'extension comprenant une TDM abdominale et une scintigraphie osseuse n'a pas révélé de métastases à distance. Le patient a été classé stade IIIA (T2N2M0) selon la classification TNM du cancer du poumon. \\\\n\\\\nCompte tenu du stade localement avancé de la maladie, une approche thérapeutique multimodale a été proposée, comprenant une chimiothérapie néoadjuvante à base de platine (cisplatine et gemcitabine) suivie d'une radiothérapie conformationnelle avec modulation d'intensité (RCMI). Après trois cycles de chimiothérapie, une TDM de réévaluation a montré une réduction significative de la taille de la tumeur et des ganglions médiastinaux. Le patient a ensuite reçu une radiothérapie à la dose de 60 Gy sur le hile droit et le médiastin. \\\\n\\\\nAu cours du traitement, M. Lemaire a développé une mucite de grade 2 et une œsophagite radique nécessitant une prise en charge symptomatique avec des antalgiques et des protecteurs gastriques. Il a également présenté une pneumonie radique, traitée par corticothérapie. \\\\n\\\\nUn suivi régulier a été mis en place après la fin du traitement. Un an après, une TDM de contrôle n'a révélé aucune récidive tumorale. Cependant, M. Lemaire a développé une cardiopathie ischémique, se manifestant par des épisodes d'angor d'effort. Une coronarographie a révélé des sténoses significatives de l'artère coronaire droite et de l'artère interventriculaire antérieure. Une angioplastie coronaire avec pose de stents a été réalisée. Le patient a été mis sous traitement antiagrégant plaquettaire et bêta-bloquant. Il participe actuellement à un programme de réadaptation cardiaque et a arrêté de fumer.\\\",\n",
    "  \\\"MeSH_Code\\\": [\n",
    "    \\\"C04 – neoplasms\\\",\n",
    "    \\\"C08 – respiratory tract diseases\\\",\n",
    "    \\\"C14 – cardiovascular diseases\\\"\n",
    "  ]\n",
    "}\"\"\"),\n",
    "            ],\n",
    "        ),\n",
    "        types.Content(\n",
    "            role=\"user\",\n",
    "            parts=[\n",
    "                types.Part.from_text(text=MeSH_input),\n",
    "            ],\n",
    "        ),\n",
    "    ]\n",
    "\n",
    "    generate_content_config = types.GenerateContentConfig(\n",
    "        safety_settings=[\n",
    "            types.SafetySetting(\n",
    "                category=\"HARM_CATEGORY_CIVIC_INTEGRITY\",\n",
    "                threshold=\"BLOCK_NONE\",  # Block none\n",
    "            ),\n",
    "        ],\n",
    "        response_mime_type=\"application/json\",\n",
    "        response_schema=genai.types.Schema(\n",
    "                        type = genai.types.Type.OBJECT,\n",
    "                        required = [\"MeSH_Code\", \"Cas_clinique\"],\n",
    "                        properties = {\n",
    "                            \"MeSH_Code\": genai.types.Schema(\n",
    "                                type = genai.types.Type.ARRAY,\n",
    "                                items = genai.types.Schema(\n",
    "                                    type = genai.types.Type.STRING,\n",
    "                                ),\n",
    "                            ),\n",
    "                            \"Cas_clinique\": genai.types.Schema(\n",
    "                                type = genai.types.Type.STRING,\n",
    "                            ),\n",
    "                        },\n",
    "                    ),\n",
    "    )\n",
    "\n",
    "    response = model.generate_content(\n",
    "        contents=contents,\n",
    "        generation_config=generate_content_config,\n",
    "    )\n",
    "\n",
    "    return response.text"
   ]
  },
  {
   "cell_type": "code",
   "execution_count": 38,
   "metadata": {},
   "outputs": [],
   "source": [
    "MeSH_input = \"['C04 – neoplasms', 'C08 – respiratory tract diseases', 'C14 – cardiovascular diseases']\""
   ]
  },
  {
   "cell_type": "code",
   "execution_count": 39,
   "metadata": {},
   "outputs": [
    {
     "ename": "TypeError",
     "evalue": "GenerativeModel.__init__() got an unexpected keyword argument 'api_key'",
     "output_type": "error",
     "traceback": [
      "\u001b[31m---------------------------------------------------------------------------\u001b[39m",
      "\u001b[31mTypeError\u001b[39m                                 Traceback (most recent call last)",
      "\u001b[36mCell\u001b[39m\u001b[36m \u001b[39m\u001b[32mIn[39]\u001b[39m\u001b[32m, line 3\u001b[39m\n\u001b[32m      1\u001b[39m \u001b[38;5;28;01mimport\u001b[39;00m\u001b[38;5;250m \u001b[39m\u001b[34;01mjson\u001b[39;00m\n\u001b[32m----> \u001b[39m\u001b[32m3\u001b[39m output = \u001b[43mgenerate\u001b[49m\u001b[43m(\u001b[49m\u001b[43mMeSH_input\u001b[49m\u001b[43m)\u001b[49m\n\u001b[32m      5\u001b[39m \u001b[38;5;66;03m# Transformer la réponse en dictionnaire Python\u001b[39;00m\n\u001b[32m      6\u001b[39m cas_clinique = json.loads(output)\n",
      "\u001b[36mCell\u001b[39m\u001b[36m \u001b[39m\u001b[32mIn[37]\u001b[39m\u001b[32m, line 2\u001b[39m, in \u001b[36mgenerate\u001b[39m\u001b[34m(MeSH_input)\u001b[39m\n\u001b[32m      1\u001b[39m \u001b[38;5;28;01mdef\u001b[39;00m\u001b[38;5;250m \u001b[39m\u001b[34mgenerate\u001b[39m(MeSH_input):\n\u001b[32m----> \u001b[39m\u001b[32m2\u001b[39m     model = \u001b[43mgenai\u001b[49m\u001b[43m.\u001b[49m\u001b[43mGenerativeModel\u001b[49m\u001b[43m(\u001b[49m\n\u001b[32m      3\u001b[39m \u001b[43m        \u001b[49m\u001b[43mmodel_name\u001b[49m\u001b[43m=\u001b[49m\u001b[33;43m\"\u001b[39;49m\u001b[33;43mgemini-2.0-flash\u001b[39;49m\u001b[33;43m\"\u001b[39;49m\u001b[43m,\u001b[49m\n\u001b[32m      4\u001b[39m \u001b[43m        \u001b[49m\u001b[43mapi_key\u001b[49m\u001b[43m=\u001b[49m\u001b[43mAPI_KEY\u001b[49m\u001b[43m,\u001b[49m\n\u001b[32m      5\u001b[39m \u001b[43m    \u001b[49m\u001b[43m)\u001b[49m\n\u001b[32m      7\u001b[39m     contents = [\n\u001b[32m      8\u001b[39m         types.Content(\n\u001b[32m      9\u001b[39m             role=\u001b[33m\"\u001b[39m\u001b[33muser\u001b[39m\u001b[33m\"\u001b[39m,\n\u001b[32m   (...)\u001b[39m\u001b[32m     51\u001b[39m         ),\n\u001b[32m     52\u001b[39m     ]\n\u001b[32m     54\u001b[39m     generate_content_config = types.GenerateContentConfig(\n\u001b[32m     55\u001b[39m         safety_settings=[\n\u001b[32m     56\u001b[39m             types.SafetySetting(\n\u001b[32m   (...)\u001b[39m\u001b[32m     76\u001b[39m                     ),\n\u001b[32m     77\u001b[39m     )\n",
      "\u001b[31mTypeError\u001b[39m: GenerativeModel.__init__() got an unexpected keyword argument 'api_key'"
     ]
    }
   ],
   "source": [
    "import json\n",
    "\n",
    "output = generate(MeSH_input)\n",
    "\n",
    "# Transformer la réponse en dictionnaire Python\n",
    "cas_clinique = json.loads(output)\n",
    "\n",
    "print(cas_clinique[\"Cas_clinique\"])\n",
    "print(cas_clinique[\"MeSH_Code\"])"
   ]
  },
  {
   "cell_type": "code",
   "execution_count": 21,
   "metadata": {},
   "outputs": [
    {
     "ename": "AttributeError",
     "evalue": "'str' object has no attribute 'generate_content'",
     "output_type": "error",
     "traceback": [
      "\u001b[31m---------------------------------------------------------------------------\u001b[39m",
      "\u001b[31mAttributeError\u001b[39m                            Traceback (most recent call last)",
      "\u001b[36mCell\u001b[39m\u001b[36m \u001b[39m\u001b[32mIn[21]\u001b[39m\u001b[32m, line 3\u001b[39m\n\u001b[32m      1\u001b[39m \u001b[38;5;28;01mif\u001b[39;00m \u001b[34m__name__\u001b[39m == \u001b[33m\"\u001b[39m\u001b[33m__main__\u001b[39m\u001b[33m\"\u001b[39m:\n\u001b[32m      2\u001b[39m     MeSH_input = \u001b[33m\"\u001b[39m\u001b[33m[\u001b[39m\u001b[33m'\u001b[39m\u001b[33mC04 – neoplasms\u001b[39m\u001b[33m'\u001b[39m\u001b[33m, \u001b[39m\u001b[33m'\u001b[39m\u001b[33mC08 – respiratory tract diseases\u001b[39m\u001b[33m'\u001b[39m\u001b[33m, \u001b[39m\u001b[33m'\u001b[39m\u001b[33mC14 – cardiovascular diseases\u001b[39m\u001b[33m'\u001b[39m\u001b[33m]\u001b[39m\u001b[33m\"\u001b[39m\n\u001b[32m----> \u001b[39m\u001b[32m3\u001b[39m     output = \u001b[43mgenerate\u001b[49m\u001b[43m(\u001b[49m\u001b[43mprompt_input\u001b[49m\u001b[43m)\u001b[49m\n\u001b[32m      4\u001b[39m     \u001b[38;5;28mprint\u001b[39m(output)\n",
      "\u001b[36mCell\u001b[39m\u001b[36m \u001b[39m\u001b[32mIn[20]\u001b[39m\u001b[32m, line 80\u001b[39m, in \u001b[36mgenerate\u001b[39m\u001b[34m(MeSH_input)\u001b[39m\n\u001b[32m     54\u001b[39m     generate_content_config = types.GenerateContentConfig(\n\u001b[32m     55\u001b[39m         safety_settings=[\n\u001b[32m     56\u001b[39m             types.SafetySetting(\n\u001b[32m   (...)\u001b[39m\u001b[32m     76\u001b[39m                     ),\n\u001b[32m     77\u001b[39m     )\n\u001b[32m     79\u001b[39m \u001b[38;5;66;03m# Envoie la requête et récupère la réponse\u001b[39;00m\n\u001b[32m---> \u001b[39m\u001b[32m80\u001b[39m     response = \u001b[43mmodel\u001b[49m\u001b[43m.\u001b[49m\u001b[43mgenerate_content\u001b[49m(\n\u001b[32m     81\u001b[39m         contents=contents,\n\u001b[32m     82\u001b[39m         generation_config=generate_content_config,\n\u001b[32m     83\u001b[39m     )\n\u001b[32m     85\u001b[39m     \u001b[38;5;28;01mreturn\u001b[39;00m response.text\n",
      "\u001b[31mAttributeError\u001b[39m: 'str' object has no attribute 'generate_content'"
     ]
    }
   ],
   "source": [
    "if __name__ == \"__main__\":\n",
    "    MeSH_input = \"['C04 – neoplasms', 'C08 – respiratory tract diseases', 'C14 – cardiovascular diseases']\"\n",
    "    output = generate(prompt_input)\n",
    "    print(output)"
   ]
  },
  {
   "cell_type": "code",
   "execution_count": null,
   "metadata": {},
   "outputs": [],
   "source": [
    "try:\n",
    "    response = requests.post(\n",
    "        API_URL + '/chat/completions',\n",
    "        headers=headers, json=data)\n",
    "    \n",
    "    # Check the response and print the result\n",
    "    response.raise_for_status()  # Raise an exception for HTTP errors\n",
    "    response_json = response.json()\n",
    "    print(\"✅ API request successful!\")\n",
    "    print(response_json['choices'][0]['message']['content'][:100] + \"...\")\n",
    "except requests.exceptions.RequestException as e:\n",
    "    print(f\"❌ API request failed: {e}\")\n",
    "    if hasattr(e, 'response') and e.response is not None:\n",
    "        print(f\"Error details: {e.response.text}\")"
   ]
  }
 ],
 "metadata": {
  "kernelspec": {
   "display_name": "base",
   "language": "python",
   "name": "python3"
  },
  "language_info": {
   "codemirror_mode": {
    "name": "ipython",
    "version": 3
   },
   "file_extension": ".py",
   "mimetype": "text/x-python",
   "name": "python",
   "nbconvert_exporter": "python",
   "pygments_lexer": "ipython3",
   "version": "3.12.9"
  }
 },
 "nbformat": 4,
 "nbformat_minor": 2
}
